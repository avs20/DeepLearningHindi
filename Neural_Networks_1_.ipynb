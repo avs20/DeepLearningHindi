{
  "nbformat": 4,
  "nbformat_minor": 0,
  "metadata": {
    "colab": {
      "name": "Neural Networks -1 .ipynb",
      "provenance": [],
      "collapsed_sections": [],
      "include_colab_link": true
    },
    "kernelspec": {
      "name": "python3",
      "display_name": "Python 3"
    },
    "language_info": {
      "name": "python"
    }
  },
  "cells": [
    {
      "cell_type": "markdown",
      "metadata": {
        "id": "view-in-github",
        "colab_type": "text"
      },
      "source": [
        "<a href=\"https://colab.research.google.com/github/avs20/DeepLearningHindi/blob/main/Neural_Networks_1_.ipynb\" target=\"_parent\"><img src=\"https://colab.research.google.com/assets/colab-badge.svg\" alt=\"Open In Colab\"/></a>"
      ]
    },
    {
      "cell_type": "markdown",
      "metadata": {
        "id": "4e74fnyNIoYf"
      },
      "source": [
        "What basically happnes at each neuron?"
      ]
    },
    {
      "cell_type": "code",
      "metadata": {
        "colab": {
          "base_uri": "https://localhost:8080/"
        },
        "id": "rvL4UIaKIGow",
        "outputId": "24e214bd-fc3c-4b4a-8b80-925ad9bf5dd4"
      },
      "source": [
        "inputs = [1, 2, 3]\n",
        "weights = [0.2, 0.8, -0.5]\n",
        "bias = 2 \n",
        "\n",
        "output = ( inputs[0]*weights[0] + \n",
        "           inputs[1]*weights[1] + \n",
        "           inputs[2]*weights[2] + bias )\n",
        "print(output)"
      ],
      "execution_count": null,
      "outputs": [
        {
          "output_type": "stream",
          "text": [
            "2.3\n"
          ],
          "name": "stdout"
        }
      ]
    },
    {
      "cell_type": "markdown",
      "metadata": {
        "id": "Yy0L4BGNIxif"
      },
      "source": [
        "What if we have 4 inputs?"
      ]
    },
    {
      "cell_type": "code",
      "metadata": {
        "id": "BxhROePckKwJ"
      },
      "source": [
        ""
      ],
      "execution_count": null,
      "outputs": []
    },
    {
      "cell_type": "code",
      "metadata": {
        "colab": {
          "base_uri": "https://localhost:8080/"
        },
        "id": "vBdiGDa0Il1M",
        "outputId": "05e9737d-aa0c-4577-9c38-0bd230b97c95"
      },
      "source": [
        "inputs = [1, 2, 3, 2.5]\n",
        "weights = [0.2, 0.8, -0.5, 1.0]\n",
        "bias = 2 \n",
        "\n",
        "output = ( inputs[0]*weights[0] + \n",
        "           inputs[1]*weights[1] + \n",
        "           inputs[2]*weights[2] + \n",
        "           inputs[3]*weights[3] + bias )\n",
        "print(output)"
      ],
      "execution_count": null,
      "outputs": [
        {
          "output_type": "stream",
          "text": [
            "4.8\n"
          ],
          "name": "stdout"
        }
      ]
    },
    {
      "cell_type": "markdown",
      "metadata": {
        "id": "kGkKBqzJJKHO"
      },
      "source": [
        "Layers have more than 1 neurons.\n",
        "Each neuron in the neuron takes the same input, input given to the layer. \n",
        "But each neuron has it's own weight and bias\n"
      ]
    },
    {
      "cell_type": "code",
      "metadata": {
        "colab": {
          "base_uri": "https://localhost:8080/"
        },
        "id": "-hyZssrrI8gc",
        "outputId": "ea7018f1-6fd2-4807-a161-05c6516b15c7"
      },
      "source": [
        "inputs = [1, 2, 3, 2.5]\n",
        "weights0 = [0.2, 0.8, -0.5, 1.0]\n",
        "weights1 = [0.4,0.8,-0.6,-0.7]\n",
        "weights2 = [0.9, 0.4, 0.8, 0.9]\n",
        "\n",
        "bias1 = 2.0\n",
        "bias2 = -1.0\n",
        "bias3 = 0\n",
        "\n",
        "output = [ inputs[0] * weights0[0] + inputs[1] * weights0[1] + inputs[2] * weights0[2] + inputs[3]* weights0[3] + bias1 ,\n",
        "           inputs[0] * weights1[0] + inputs[1] * weights1[1] + inputs[2] * weights1[2] + inputs[3]* weights1[3] + bias2 ,\n",
        "           inputs[0] * weights2[0] + inputs[1] * weights2[1] + inputs[2] * weights2[2] + inputs[3]* weights2[3] + bias3 ]\n",
        "    \n",
        "print(output)\n",
        "          "
      ],
      "execution_count": null,
      "outputs": [
        {
          "output_type": "stream",
          "text": [
            "[4.8, -2.55, 6.3500000000000005]\n"
          ],
          "name": "stdout"
        }
      ]
    },
    {
      "cell_type": "code",
      "metadata": {
        "colab": {
          "base_uri": "https://localhost:8080/"
        },
        "id": "P9oDIaLrKdRF",
        "outputId": "fef30ef8-c684-41c3-a0bf-06e0c3202587"
      },
      "source": [
        "inputs = [1, 2, 3, 2.5]\n",
        "weights = [[0.2, 0.8, -0.5, 1.0],\n",
        "           [0.4,0.8,-0.6,-0.7],\n",
        "           [0.9, 0.4, 0.8, 0.9]]\n",
        "biases = [2.0, -1.0, 0]\n",
        "\n",
        "layer_outputs = []\n",
        "\n",
        "for neuron_weights, bias in zip(weights, biases):\n",
        "  output = 0\n",
        "\n",
        "  for input, weight in zip(inputs, neuron_weights):\n",
        "    output += input * weight\n",
        "  \n",
        "  # add bias \n",
        "  output += bias\n",
        "\n",
        "  # add to final \n",
        "  layer_outputs.append(output)\n",
        "\n",
        "print(layer_outputs)"
      ],
      "execution_count": null,
      "outputs": [
        {
          "output_type": "stream",
          "text": [
            "[4.8, -2.55, 6.3500000000000005]\n"
          ],
          "name": "stdout"
        }
      ]
    },
    {
      "cell_type": "markdown",
      "metadata": {
        "id": "pCyeFkucUsSO"
      },
      "source": [
        "Vectors and Dot product"
      ]
    },
    {
      "cell_type": "code",
      "metadata": {
        "id": "oY6a05loLQnX",
        "colab": {
          "base_uri": "https://localhost:8080/"
        },
        "outputId": "b2564ba1-4134-4ba2-aec8-eccb426d371a"
      },
      "source": [
        "import numpy as np \n",
        "\n",
        "inputs = [1, 2, 3]\n",
        "weights = [0.2, 0.8, -0.5]\n",
        "bias = 2 \n",
        "\n",
        "output = np.dot(inputs, weights) + bias\n",
        "print(output)"
      ],
      "execution_count": null,
      "outputs": [
        {
          "output_type": "stream",
          "text": [
            "2.3\n"
          ],
          "name": "stdout"
        }
      ]
    },
    {
      "cell_type": "markdown",
      "metadata": {
        "id": "mrraL0QSVUQE"
      },
      "source": [
        "Layer of neurons"
      ]
    },
    {
      "cell_type": "code",
      "metadata": {
        "colab": {
          "base_uri": "https://localhost:8080/"
        },
        "id": "N8c6IM3WU4Fl",
        "outputId": "97faf19b-2ef6-43d7-b534-805b6e03b843"
      },
      "source": [
        "inputs = [1, 2, 3, 2.5]\n",
        "weights = [[0.2, 0.8, -0.5, 1.0],\n",
        "           [0.4,0.8,-0.6,-0.7],\n",
        "           [0.9, 0.4, 0.8, 0.9]]\n",
        "biases = [2.0, -1.0, 0]\n",
        "\n",
        "layer_outputs = np.dot(weights, inputs) +biases\n",
        "\n",
        "\n",
        "\n",
        "print(layer_outputs)"
      ],
      "execution_count": null,
      "outputs": [
        {
          "output_type": "stream",
          "text": [
            "[ 4.8  -2.55  6.35]\n"
          ],
          "name": "stdout"
        }
      ]
    },
    {
      "cell_type": "code",
      "metadata": {
        "colab": {
          "base_uri": "https://localhost:8080/",
          "height": 288
        },
        "id": "iyORlXIrVaUq",
        "outputId": "ebc8f7fe-502b-4226-873a-80fb92f28172"
      },
      "source": [
        "inputs = [1, 2, 3, 2.5]\n",
        "weights = [[0.2, 0.8, -0.5, 1.0],\n",
        "           [0.4,0.8,-0.6,-0.7],\n",
        "           [0.9, 0.4, 0.8, 0.9]]\n",
        "biases = [2.0, -1.0, 0]\n",
        "\n",
        "layer_outputs = np.dot(inputs, weights) +biases\n",
        "\n",
        "\n",
        "\n",
        "print(layer_outputs)"
      ],
      "execution_count": null,
      "outputs": [
        {
          "output_type": "error",
          "ename": "ValueError",
          "evalue": "ignored",
          "traceback": [
            "\u001b[0;31m---------------------------------------------------------------------------\u001b[0m",
            "\u001b[0;31mValueError\u001b[0m                                Traceback (most recent call last)",
            "\u001b[0;32m<ipython-input-8-30a4b0238793>\u001b[0m in \u001b[0;36m<module>\u001b[0;34m()\u001b[0m\n\u001b[1;32m      5\u001b[0m \u001b[0mbiases\u001b[0m \u001b[0;34m=\u001b[0m \u001b[0;34m[\u001b[0m\u001b[0;36m2.0\u001b[0m\u001b[0;34m,\u001b[0m \u001b[0;34m-\u001b[0m\u001b[0;36m1.0\u001b[0m\u001b[0;34m,\u001b[0m \u001b[0;36m0\u001b[0m\u001b[0;34m]\u001b[0m\u001b[0;34m\u001b[0m\u001b[0;34m\u001b[0m\u001b[0m\n\u001b[1;32m      6\u001b[0m \u001b[0;34m\u001b[0m\u001b[0m\n\u001b[0;32m----> 7\u001b[0;31m \u001b[0mlayer_outputs\u001b[0m \u001b[0;34m=\u001b[0m \u001b[0mnp\u001b[0m\u001b[0;34m.\u001b[0m\u001b[0mdot\u001b[0m\u001b[0;34m(\u001b[0m\u001b[0minputs\u001b[0m\u001b[0;34m,\u001b[0m \u001b[0mweights\u001b[0m\u001b[0;34m)\u001b[0m \u001b[0;34m+\u001b[0m\u001b[0mbiases\u001b[0m\u001b[0;34m\u001b[0m\u001b[0;34m\u001b[0m\u001b[0m\n\u001b[0m\u001b[1;32m      8\u001b[0m \u001b[0;34m\u001b[0m\u001b[0m\n\u001b[1;32m      9\u001b[0m \u001b[0;34m\u001b[0m\u001b[0m\n",
            "\u001b[0;32m<__array_function__ internals>\u001b[0m in \u001b[0;36mdot\u001b[0;34m(*args, **kwargs)\u001b[0m\n",
            "\u001b[0;31mValueError\u001b[0m: shapes (4,) and (3,4) not aligned: 4 (dim 0) != 3 (dim 0)"
          ]
        }
      ]
    },
    {
      "cell_type": "code",
      "metadata": {
        "colab": {
          "base_uri": "https://localhost:8080/"
        },
        "id": "dgZhz87FngIG",
        "outputId": "8c0e5c3c-621a-460a-fd41-d3be59fd4b11"
      },
      "source": [
        "import numpy as np \n",
        "inputs = [1, 2, 3]\n",
        "weights = [[0.2, 0.8, -0.5 ],\n",
        "           [0.4,0.8,-0.6],\n",
        "           [0.9, 0.4, 0.8]]\n",
        "biases = [2.0, -1.0, 0]\n",
        "\n",
        "layer_outputs = np.dot(inputs, weights) +biases\n",
        "\n",
        "\n",
        "\n",
        "print(layer_outputs)"
      ],
      "execution_count": null,
      "outputs": [
        {
          "output_type": "stream",
          "text": [
            "[5.7 2.6 0.7]\n"
          ],
          "name": "stdout"
        }
      ]
    },
    {
      "cell_type": "markdown",
      "metadata": {
        "id": "h2yAVEmdXEA_"
      },
      "source": [
        "matrix multiplication is dot product of combination of rows from the first matrix and columns from the second matrix. \n"
      ]
    },
    {
      "cell_type": "markdown",
      "metadata": {
        "id": "JeCYG-z9Wr9Q"
      },
      "source": [
        "Data is often comes in input batche. \n",
        "\n",
        "What is a batch? a group of input data at a time. \n",
        "\n",
        "Now we need to multiply this group of input data with group of weights both are matrix"
      ]
    },
    {
      "cell_type": "code",
      "metadata": {
        "colab": {
          "base_uri": "https://localhost:8080/"
        },
        "id": "A46Sa9yrVkbz",
        "outputId": "10d64988-89fe-46cf-acdb-551ed143e026"
      },
      "source": [
        "a = np.array([1,2,3])\n",
        "b = np.array([4,5,6])\n",
        "\n",
        "output = np.dot(a,b)\n",
        "print(output)"
      ],
      "execution_count": null,
      "outputs": [
        {
          "output_type": "stream",
          "text": [
            "32\n"
          ],
          "name": "stdout"
        }
      ]
    },
    {
      "cell_type": "markdown",
      "metadata": {
        "id": "34MYLcCW9kwR"
      },
      "source": [
        "Batch of data with layer of neurons\n",
        "\n"
      ]
    },
    {
      "cell_type": "code",
      "metadata": {
        "id": "p-fMTywLW0nd",
        "colab": {
          "base_uri": "https://localhost:8080/"
        },
        "outputId": "9b51d149-32ae-4664-caae-61997ae8a3da"
      },
      "source": [
        "import numpy as np \n",
        "\n",
        "inputs = [[1.0, 2.0, 3.0, 2.5],\n",
        "          [2.0,5.0,-1.0,2.0],\n",
        "          [-1/5, 2.7, 3.3, -0.8]]\n",
        "      \n",
        "weights = [[0.2, 0.8, -0.5, 1.0],\n",
        "           [0.5, -0.91, 0.26, -0.5],\n",
        "           [-0.26, -0.27, 0.17, 0.87]]\n",
        "\n",
        "biases  = [2.0, 3.0, 0.5]\n",
        "\n",
        "layer_outputs = np.dot(inputs, np.array(weights).T) + biases\n",
        "\n",
        "print(layer_outputs)"
      ],
      "execution_count": null,
      "outputs": [
        {
          "output_type": "stream",
          "text": [
            "[[ 4.8    1.21   2.385]\n",
            " [ 8.9   -1.81   0.2  ]\n",
            " [ 1.67   1.701 -0.312]]\n"
          ],
          "name": "stdout"
        }
      ]
    },
    {
      "cell_type": "markdown",
      "metadata": {
        "id": "rIp1P2tXJgu4"
      },
      "source": [
        "## More hidden layers and non-linear data\n",
        "\n",
        "A deep neural network is a neural network with 2 or more hidden layers\n",
        "\n",
        "So for each layer we will have a different set of weights\n"
      ]
    },
    {
      "cell_type": "code",
      "metadata": {
        "id": "88MZDkRZ-Pfl"
      },
      "source": [
        "import numpy as np \n",
        "inputs = [1, 2, 3]\n",
        "weights = [[0.2, 0.8, -0.5 ],\n",
        "           [0.4,0.8,-0.6],\n",
        "           [0.9, 0.4, 0.8]]\n",
        "biases = [2.0, -1.0, 0]\n",
        "\n",
        "weights2 = [[ 0.1, -0.14, 0.5],\n",
        "            [-0.5, 0.12, -0.33],\n",
        "            [-0.44, 0.73, -0.13]]\n",
        "\n",
        "biases2 = [-1,2, -0.5]\n",
        "\n",
        "layer_outputs = np.dot(inputs, weights) +biases\n",
        "\n",
        "\n"
      ],
      "execution_count": null,
      "outputs": []
    },
    {
      "cell_type": "markdown",
      "metadata": {
        "id": "eWRQ-FjsKHHJ"
      },
      "source": [
        "###Q how many neurons we have in the second layer?\n"
      ]
    },
    {
      "cell_type": "code",
      "metadata": {
        "colab": {
          "base_uri": "https://localhost:8080/"
        },
        "id": "XtAwEp2uKK-B",
        "outputId": "cdde02f8-6a59-4447-cf73-fa0bb0b34630"
      },
      "source": [
        "import numpy as np \n",
        "inputs = [[1.0, 2.0, 3.0, 2.5],\n",
        "          [2.0,5.0,-1.0,2.0],\n",
        "          [-1/5, 2.7, 3.3, -0.8]]\n",
        "weights = [[0.2, 0.8, -0.5, 1.0],\n",
        "           [0.5, -0.91, 0.26, -0.5],\n",
        "           [-0.26, -0.27, 0.17, 0.87]]\n",
        "biases = [2.0, -1.0, 0]\n",
        "\n",
        "weights2 = [[ 0.1, -0.14, 0.5],\n",
        "            [-0.5, 0.12, -0.33],\n",
        "            [-0.44, 0.73, -0.13]]\n",
        "\n",
        "biases2 = [-1, 2, -0.5]\n",
        "\n",
        "layer1_outputs = np.dot(inputs, np.array(weights).T) +biases\n",
        "\n",
        "\n",
        "layer2_outputs = np.dot(layer1_outputs, np.array(weights2).T) + biases2\n",
        "\n",
        "print(layer2_outputs)"
      ],
      "execution_count": null,
      "outputs": [
        {
          "output_type": "stream",
          "text": [
            "[[ 0.8131  -1.35685 -4.89375]\n",
            " [ 0.5534  -3.0482  -8.6183 ]\n",
            " [-0.91714  1.15708 -2.80751]]\n"
          ],
          "name": "stdout"
        }
      ]
    },
    {
      "cell_type": "code",
      "metadata": {
        "colab": {
          "base_uri": "https://localhost:8080/"
        },
        "id": "FZrI_VM7KYHk",
        "outputId": "8f9b114e-5cc6-4d3a-9ea0-ca51127dc367"
      },
      "source": [
        "!pip install nnfs"
      ],
      "execution_count": null,
      "outputs": [
        {
          "output_type": "stream",
          "text": [
            "Collecting nnfs\n",
            "  Downloading https://files.pythonhosted.org/packages/06/8c/3003a41d5229e65da792331b060dcad8100a0a5b9760f8c2074cde864148/nnfs-0.5.1-py3-none-any.whl\n",
            "Requirement already satisfied: numpy in /usr/local/lib/python3.7/dist-packages (from nnfs) (1.19.5)\n",
            "Installing collected packages: nnfs\n",
            "Successfully installed nnfs-0.5.1\n"
          ],
          "name": "stdout"
        }
      ]
    },
    {
      "cell_type": "code",
      "metadata": {
        "id": "l9zr04ZsLDj5"
      },
      "source": [
        "import nnfs\n",
        "nnfs.init()"
      ],
      "execution_count": null,
      "outputs": []
    },
    {
      "cell_type": "code",
      "metadata": {
        "colab": {
          "base_uri": "https://localhost:8080/",
          "height": 266
        },
        "id": "6_5HFYddLK3U",
        "outputId": "e6514424-73c4-4baa-e16a-6fb97cf4e168"
      },
      "source": [
        "import matplotlib.pyplot as plt\n",
        "from nnfs.datasets import spiral_data\n",
        "X,y = spiral_data(samples=100, classes=3)\n",
        "plt.scatter(X[:,0], X[:,1])\n",
        "plt.show()"
      ],
      "execution_count": null,
      "outputs": [
        {
          "output_type": "display_data",
          "data": {
            "image/png": "[encoded data removed]",
            "text/plain": [
              "<Figure size 432x288 with 1 Axes>"
            ]
          },
          "metadata": {
            "tags": [],
            "needs_background": "light"
          }
        }
      ]
    },
    {
      "cell_type": "code",
      "metadata": {
        "colab": {
          "base_uri": "https://localhost:8080/",
          "height": 265
        },
        "id": "lnO35ahILaUB",
        "outputId": "250817a6-c3df-4bbd-bb29-1314919e75b1"
      },
      "source": [
        "import matplotlib.pyplot as plt\n",
        "from nnfs.datasets import spiral_data\n",
        "X,y = spiral_data(samples=100, classes=3)\n",
        "plt.scatter(X[:,0], X[:,1], c = y, cmap='brg')\n",
        "plt.show()"
      ],
      "execution_count": null,
      "outputs": [
        {
          "output_type": "display_data",
          "data": {
            "image/png": "[encoded data removed]",
            "text/plain": [
              "<Figure size 432x288 with 1 Axes>"
            ]
          },
          "metadata": {
            "tags": [],
            "needs_background": "light"
          }
        }
      ]
    },
    {
      "cell_type": "markdown",
      "metadata": {
        "id": "ocLIqmziL4VI"
      },
      "source": [
        "## Dense layer"
      ]
    },
    {
      "cell_type": "code",
      "metadata": {
        "colab": {
          "base_uri": "https://localhost:8080/"
        },
        "id": "65n7_RRpLw0S",
        "outputId": "4631f07e-a622-4d1c-f568-f64ba09fe00c"
      },
      "source": [
        "import numpy as np \n",
        "import nnfs\n",
        "from nnfs.datasets import spiral_data\n",
        "\n",
        "nnfs.init()\n",
        "#Dense Layer\n",
        "class Layer_Dense:\n",
        "\n",
        "  def __init__(self, n_inputs, n_neurons):\n",
        "    #initialize weight and biases\n",
        "    self.weights = 0.01 * np.random.randn(n_inputs, n_neurons)\n",
        "    self.biases = np.zeros((1,n_neurons))\n",
        "\n",
        "  # forwards pass\n",
        "  def forward(self, inputs):\n",
        "    self.output = np.dot(inputs, self.weights) + self.biases\n",
        "\n",
        "# test class\n",
        "\n",
        "X,y = spiral_data(samples = 100, classes=3)\n",
        "\n",
        "#create the layer\n",
        "dense1 = Layer_Dense(2, 3)\n",
        "\n",
        "#perform a forward pass\n",
        "dense1.forward(X)\n",
        "\n",
        "# see output\n",
        "print(dense1.output[:5])"
      ],
      "execution_count": null,
      "outputs": [
        {
          "output_type": "stream",
          "text": [
            "[[ 0.0000000e+00  0.0000000e+00  0.0000000e+00]\n",
            " [-1.0475188e-04  1.1395361e-04 -4.7983500e-05]\n",
            " [-2.7414842e-04  3.1729150e-04 -8.6921798e-05]\n",
            " [-4.2188365e-04  5.2666257e-04 -5.5912682e-05]\n",
            " [-5.7707680e-04  7.1401405e-04 -8.9430439e-05]]\n"
          ],
          "name": "stdout"
        }
      ]
    },
    {
      "cell_type": "markdown",
      "metadata": {
        "id": "j4ElCfFS-o3U"
      },
      "source": [
        "### Activation Functions\n",
        "\n",
        "Activation function is applied to the output of a neuron, which modifies outputs.\n",
        "\n",
        "We use activation function because is activation function is non-linear, it allows for neural networks with 2 or more layers to map non-linear functions.\n",
        "\n",
        "There are generally 2 types of activation functions used in NN. \n",
        "One in the hidden layers and 1 in the final output layer. \n",
        "\n",
        "How non-linearity comes will see later. Generally there are following types \n",
        "\n",
        "1. Step activation function \n",
        "2. Linear activation function (Last Layer for regression)\n",
        "3. Sigmoid activation function\n",
        "4. Rectified Linear Units \n",
        "\n",
        "\n",
        "Refs\n",
        "----\n",
        "1. https://towardsdatascience.com/if-rectified-linear-units-are-linear-how-do-they-add-nonlinearity-40247d3e4792\n",
        "\n"
      ]
    },
    {
      "cell_type": "markdown",
      "metadata": {
        "id": "RrHcBtZAZ20y"
      },
      "source": [
        "ReLU Activation : simple code \n"
      ]
    },
    {
      "cell_type": "code",
      "metadata": {
        "colab": {
          "base_uri": "https://localhost:8080/"
        },
        "id": "-GDM6Zz4altw",
        "outputId": "f39c801e-7386-40c0-cb1a-82178b390a0e"
      },
      "source": [
        "!pip install nnfs"
      ],
      "execution_count": null,
      "outputs": [
        {
          "output_type": "stream",
          "text": [
            "Collecting nnfs\n",
            "  Downloading https://files.pythonhosted.org/packages/06/8c/3003a41d5229e65da792331b060dcad8100a0a5b9760f8c2074cde864148/nnfs-0.5.1-py3-none-any.whl\n",
            "Requirement already satisfied: numpy in /usr/local/lib/python3.7/dist-packages (from nnfs) (1.19.5)\n",
            "Installing collected packages: nnfs\n",
            "Successfully installed nnfs-0.5.1\n"
          ],
          "name": "stdout"
        }
      ]
    },
    {
      "cell_type": "code",
      "metadata": {
        "id": "zqMQ5-2NMyGL",
        "colab": {
          "base_uri": "https://localhost:8080/"
        },
        "outputId": "7d151818-4b86-4a6d-c26e-b0711134fe0e"
      },
      "source": [
        "import numpy as np \n",
        "\n",
        "inputs = [0, 2, -1, 3.3, -2.7, 1.1, 2.2, -100]\n",
        "output = np.maximum(0, inputs)\n",
        "print(output)"
      ],
      "execution_count": null,
      "outputs": [
        {
          "output_type": "stream",
          "text": [
            "[0.  2.  0.  3.3 0.  1.1 2.2 0. ]\n"
          ],
          "name": "stdout"
        }
      ]
    },
    {
      "cell_type": "code",
      "metadata": {
        "id": "2tk8KBVaaCyW"
      },
      "source": [
        "# Relu Activation Class \n",
        "class Activation_Relu:\n",
        "\n",
        "  #forward pass \n",
        "  def forward(self, inputs):\n",
        "    # calculate max of 0, input values\n",
        "    self.output = np.maximum(0, inputs)\n",
        "    "
      ],
      "execution_count": null,
      "outputs": []
    },
    {
      "cell_type": "code",
      "metadata": {
        "colab": {
          "base_uri": "https://localhost:8080/"
        },
        "id": "d394Le7caPPW",
        "outputId": "7e8ea4e6-fbe5-4d89-a99c-adce87656ccd"
      },
      "source": [
        "#example \n",
        "import numpy as np \n",
        "import nnfs\n",
        "from nnfs.datasets import spiral_data\n",
        "\n",
        "nnfs.init()\n",
        "#Dense Layer\n",
        "class Layer_Dense:\n",
        "\n",
        "  def __init__(self, n_inputs, n_neurons):\n",
        "    #initialize weight and biases\n",
        "    self.weights = 0.01 * np.random.randn(n_inputs, n_neurons)\n",
        "    self.biases = np.zeros((1,n_neurons))\n",
        "\n",
        "  # forwards pass\n",
        "  def forward(self, inputs):\n",
        "    self.output = np.dot(inputs, self.weights) + self.biases\n",
        "\n",
        "# test class\n",
        "\n",
        "X,y = spiral_data(samples = 100, classes=3)\n",
        "\n",
        "#create the layer\n",
        "dense1 = Layer_Dense(2, 3)\n",
        "activation1 = Activation_Relu()\n",
        "\n",
        "#perform a forward pass\n",
        "dense1.forward(X)\n",
        "\n",
        "#perform activation of Relu\n",
        "activation1.forward(dense1.output)\n",
        "\n",
        "\n",
        "# see output\n",
        "print(activation1.output[:5])"
      ],
      "execution_count": null,
      "outputs": [
        {
          "output_type": "stream",
          "text": [
            "[[0.         0.         0.        ]\n",
            " [0.         0.00011395 0.        ]\n",
            " [0.         0.00031729 0.        ]\n",
            " [0.         0.00052666 0.        ]\n",
            " [0.         0.00071401 0.        ]]\n"
          ],
          "name": "stdout"
        }
      ]
    },
    {
      "cell_type": "markdown",
      "metadata": {
        "id": "btpa74zdasnS"
      },
      "source": [
        "We can see the values have been clipped to 0. "
      ]
    },
    {
      "cell_type": "markdown",
      "metadata": {
        "id": "2xFMcq_OcId2"
      },
      "source": [
        "### Softmax Activation Function"
      ]
    },
    {
      "cell_type": "code",
      "metadata": {
        "colab": {
          "base_uri": "https://localhost:8080/"
        },
        "id": "3bPWQbQmaTg3",
        "outputId": "2ce77170-e208-4f67-c938-1ef00e70a5d8"
      },
      "source": [
        "layer_outputs = [4.8, 1.21, 2.385]\n",
        "\n",
        "# need to do e^x\n",
        "# e = 2.71828182846\n",
        "\n",
        "exp_values = np.exp(layer_outputs)\n",
        "print(exp_values)"
      ],
      "execution_count": null,
      "outputs": [
        {
          "output_type": "stream",
          "text": [
            "[121.51041752   3.35348465  10.85906266]\n"
          ],
          "name": "stdout"
        }
      ]
    },
    {
      "cell_type": "markdown",
      "metadata": {
        "id": "LgIvJ3nKcpp6"
      },
      "source": [
        "Full softmax "
      ]
    },
    {
      "cell_type": "code",
      "metadata": {
        "colab": {
          "base_uri": "https://localhost:8080/"
        },
        "id": "6XHV_VVmcmHN",
        "outputId": "c317597e-db2b-4726-9916-ae358e6a1087"
      },
      "source": [
        "layer_outputs = [4.8, 1.21, 2.385]\n",
        "\n",
        "# need to do e^x\n",
        "# e = 2.71828182846\n",
        "\n",
        "exp_values = np.exp(layer_outputs)\n",
        "print(exp_values)\n",
        "\n",
        "# now normalize them \n",
        "norm_values = exp_values / np.sum(exp_values)\n",
        "print(norm_values)\n",
        "\n",
        "print(\"sum of normalized values: \", np.sum(norm_values))"
      ],
      "execution_count": null,
      "outputs": [
        {
          "output_type": "stream",
          "text": [
            "[121.51041752   3.35348465  10.85906266]\n",
            "[0.89528266 0.02470831 0.08000903]\n",
            "sum of normalized values:  0.9999999999999999\n"
          ],
          "name": "stdout"
        }
      ]
    },
    {
      "cell_type": "markdown",
      "metadata": {
        "id": "JxpCWfxCdpmk"
      },
      "source": [
        "For batches"
      ]
    },
    {
      "cell_type": "code",
      "metadata": {
        "colab": {
          "base_uri": "https://localhost:8080/"
        },
        "id": "tgb8mqBxdlkg",
        "outputId": "06543410-60d0-4197-d825-8c35f39f3999"
      },
      "source": [
        "layer_outputs = np.array([[4.8, 1.21, 2.385],\n",
        "                          [8.9, -1.81, 0.2],\n",
        "                          [1.41, 1.051, 0.026]])\n",
        "\n",
        "print(\"sum without axis\", np.sum(layer_outputs))"
      ],
      "execution_count": null,
      "outputs": [
        {
          "output_type": "stream",
          "text": [
            "sum without axis 18.172\n"
          ],
          "name": "stdout"
        }
      ]
    },
    {
      "cell_type": "code",
      "metadata": {
        "colab": {
          "base_uri": "https://localhost:8080/"
        },
        "id": "QKk-RKUWee9p",
        "outputId": "2a2819f5-a8fd-4b65-e069-46627df7903c"
      },
      "source": [
        "print(\"sum with axis = 0 \", np.sum(layer_outputs, axis = 0))"
      ],
      "execution_count": null,
      "outputs": [
        {
          "output_type": "stream",
          "text": [
            "sum with axis = 0  [15.11   0.451  2.611]\n"
          ],
          "name": "stdout"
        }
      ]
    },
    {
      "cell_type": "code",
      "metadata": {
        "colab": {
          "base_uri": "https://localhost:8080/"
        },
        "id": "lF_6qDQ3ekrP",
        "outputId": "880ca3a1-5839-433a-d139-75445f678349"
      },
      "source": [
        "print(\"sum with axis = 1 \", np.sum(layer_outputs, axis = 1))"
      ],
      "execution_count": null,
      "outputs": [
        {
          "output_type": "stream",
          "text": [
            "sum with axis = 1  [8.395 7.29  2.487]\n"
          ],
          "name": "stdout"
        }
      ]
    },
    {
      "cell_type": "code",
      "metadata": {
        "colab": {
          "base_uri": "https://localhost:8080/"
        },
        "id": "465dw3D4enpZ",
        "outputId": "304c5967-534a-45f4-9ec3-9788116623ff"
      },
      "source": [
        "# to simplify to single value per sample, use keep_dims\n",
        "print(\"sum with axis = 1 \", np.sum(layer_outputs, axis = 1, keepdims=True))"
      ],
      "execution_count": null,
      "outputs": [
        {
          "output_type": "stream",
          "text": [
            "sum with axis = 1  [[8.395]\n",
            " [7.29 ]\n",
            " [2.487]]\n"
          ],
          "name": "stdout"
        }
      ]
    },
    {
      "cell_type": "markdown",
      "metadata": {
        "id": "qYpW-1vffGAC"
      },
      "source": [
        "\n",
        "\n",
        "Softmax Activation Code"
      ]
    },
    {
      "cell_type": "code",
      "metadata": {
        "id": "f2mchQCQfCcQ"
      },
      "source": [
        "#Softmax Activation\n",
        "class Activation_Softmax:\n",
        "\n",
        "  # forward pass \n",
        "  def forward(self, inputs):\n",
        "\n",
        "    exp_values = np.exp(inputs - np.max(inputs, axis = 1, keepdims=True))\n",
        "\n",
        "    #normalize\n",
        "    probs = exp_values / np.sum(exp_values, axis = 1, keepdims=True)\n",
        "\n",
        "    self.output = probs\n",
        "  "
      ],
      "execution_count": null,
      "outputs": []
    },
    {
      "cell_type": "code",
      "metadata": {
        "id": "QblO6R7EfjC_"
      },
      "source": [
        ""
      ],
      "execution_count": null,
      "outputs": []
    },
    {
      "cell_type": "markdown",
      "metadata": {
        "id": "4aAE0BP-fxrP"
      },
      "source": [
        "Exponent\n"
      ]
    },
    {
      "cell_type": "code",
      "metadata": {
        "colab": {
          "base_uri": "https://localhost:8080/"
        },
        "id": "4khkxb3Hfy44",
        "outputId": "2dbde7e9-057c-46de-db48-252f86df8467"
      },
      "source": [
        "np.exp(-100)"
      ],
      "execution_count": null,
      "outputs": [
        {
          "output_type": "execute_result",
          "data": {
            "text/plain": [
              "3.720075976020836e-44"
            ]
          },
          "metadata": {
            "tags": []
          },
          "execution_count": 15
        }
      ]
    },
    {
      "cell_type": "code",
      "metadata": {
        "colab": {
          "base_uri": "https://localhost:8080/"
        },
        "id": "leILyMxqf0Lq",
        "outputId": "cfdc566f-425f-4e0e-b02b-8e17fefd1ad5"
      },
      "source": [
        "np.exp(-10)"
      ],
      "execution_count": null,
      "outputs": [
        {
          "output_type": "execute_result",
          "data": {
            "text/plain": [
              "4.5399929762484854e-05"
            ]
          },
          "metadata": {
            "tags": []
          },
          "execution_count": 16
        }
      ]
    },
    {
      "cell_type": "code",
      "metadata": {
        "colab": {
          "base_uri": "https://localhost:8080/"
        },
        "id": "OzFmyWO9f1T1",
        "outputId": "14a98d10-daa3-46ed-cbc3-51e9fa0b53c1"
      },
      "source": [
        "np.exp(0)"
      ],
      "execution_count": null,
      "outputs": [
        {
          "output_type": "execute_result",
          "data": {
            "text/plain": [
              "1.0"
            ]
          },
          "metadata": {
            "tags": []
          },
          "execution_count": 17
        }
      ]
    },
    {
      "cell_type": "code",
      "metadata": {
        "colab": {
          "base_uri": "https://localhost:8080/"
        },
        "id": "7ic3tchhf2Mc",
        "outputId": "50580099-14d7-42bd-f62a-911c730e9ece"
      },
      "source": [
        "np.exp(10)"
      ],
      "execution_count": null,
      "outputs": [
        {
          "output_type": "execute_result",
          "data": {
            "text/plain": [
              "22026.465794806718"
            ]
          },
          "metadata": {
            "tags": []
          },
          "execution_count": 18
        }
      ]
    },
    {
      "cell_type": "code",
      "metadata": {
        "colab": {
          "base_uri": "https://localhost:8080/"
        },
        "id": "GuWQqSmDf6Sh",
        "outputId": "57927eb2-76bb-48ad-a0d1-d2e273d854b9"
      },
      "source": [
        "np.exp(100)"
      ],
      "execution_count": null,
      "outputs": [
        {
          "output_type": "execute_result",
          "data": {
            "text/plain": [
              "2.6881171418161356e+43"
            ]
          },
          "metadata": {
            "tags": []
          },
          "execution_count": 19
        }
      ]
    },
    {
      "cell_type": "code",
      "metadata": {
        "colab": {
          "base_uri": "https://localhost:8080/"
        },
        "id": "AD9GrnCJf9np",
        "outputId": "98ef0188-e014-43e4-cf35-fba4511ef37e"
      },
      "source": [
        "np.exp(1000)"
      ],
      "execution_count": null,
      "outputs": [
        {
          "output_type": "stream",
          "text": [
            "/usr/local/lib/python3.7/dist-packages/ipykernel_launcher.py:1: RuntimeWarning: overflow encountered in exp\n",
            "  \"\"\"Entry point for launching an IPython kernel.\n"
          ],
          "name": "stderr"
        },
        {
          "output_type": "execute_result",
          "data": {
            "text/plain": [
              "inf"
            ]
          },
          "metadata": {
            "tags": []
          },
          "execution_count": 20
        }
      ]
    },
    {
      "cell_type": "code",
      "metadata": {
        "colab": {
          "base_uri": "https://localhost:8080/"
        },
        "id": "7hPSob2mf-l4",
        "outputId": "65afaede-773e-4915-ec14-80f714be2313"
      },
      "source": [
        "softmax = Activation_Softmax()\n",
        "\n",
        "input = [[1,2,3]]\n",
        "\n",
        "softmax.forward(input)\n",
        "print(softmax.output)"
      ],
      "execution_count": null,
      "outputs": [
        {
          "output_type": "stream",
          "text": [
            "[[0.09003057 0.24472847 0.66524096]]\n"
          ],
          "name": "stdout"
        }
      ]
    },
    {
      "cell_type": "code",
      "metadata": {
        "colab": {
          "base_uri": "https://localhost:8080/"
        },
        "id": "veP3ehuhggKP",
        "outputId": "c73b67b5-6584-44e8-b75f-bf72ada139e7"
      },
      "source": [
        "input = [[-2,-1,0]]\n",
        "\n",
        "softmax.forward(input)\n",
        "print(softmax.output)"
      ],
      "execution_count": null,
      "outputs": [
        {
          "output_type": "stream",
          "text": [
            "[[0.09003057 0.24472847 0.66524096]]\n"
          ],
          "name": "stdout"
        }
      ]
    },
    {
      "cell_type": "markdown",
      "metadata": {
        "id": "ygnayfuHgzKY"
      },
      "source": [
        "Final Code "
      ]
    },
    {
      "cell_type": "code",
      "metadata": {
        "colab": {
          "base_uri": "https://localhost:8080/"
        },
        "id": "5mn-Quxqgryh",
        "outputId": "7aac4615-f633-4525-91d1-ebfd704489cb"
      },
      "source": [
        "#example \n",
        "import numpy as np \n",
        "import nnfs\n",
        "from nnfs.datasets import spiral_data\n",
        "\n",
        "nnfs.init()\n",
        "#Dense Layer\n",
        "class Layer_Dense:\n",
        "\n",
        "  def __init__(self, n_inputs, n_neurons):\n",
        "    #initialize weight and biases\n",
        "    self.weights = 0.01 * np.random.randn(n_inputs, n_neurons)\n",
        "    self.biases = np.zeros((1,n_neurons))\n",
        "\n",
        "  # forwards pass\n",
        "  def forward(self, inputs):\n",
        "    self.output = np.dot(inputs, self.weights) + self.biases\n",
        "\n",
        "# test class\n",
        "\n",
        "X,y = spiral_data(samples = 100, classes=3)\n",
        "\n",
        "#create the layer\n",
        "dense1 = Layer_Dense(2, 3)\n",
        "activation1 = Activation_Relu()\n",
        "activation2 = Activation_Softmax()\n",
        "\n",
        "#perform a forward pass\n",
        "dense1.forward(X)\n",
        "\n",
        "#perform activation of Relu\n",
        "activation1.forward(dense1.output)\n",
        "\n",
        "#perform softmax\n",
        "activation2.forward(activation1.output)\n",
        "\n",
        "# see output\n",
        "print(activation2.output[:5])"
      ],
      "execution_count": null,
      "outputs": [
        {
          "output_type": "stream",
          "text": [
            "[[0.33333334 0.33333334 0.33333334]\n",
            " [0.33332068 0.33335868 0.33332068]\n",
            " [0.3332981  0.33340386 0.3332981 ]\n",
            " [0.3332748  0.3334504  0.3332748 ]\n",
            " [0.33325398 0.33349204 0.33325398]]\n"
          ],
          "name": "stdout"
        }
      ]
    },
    {
      "cell_type": "markdown",
      "metadata": {
        "id": "JJoRO_LRiBk0"
      },
      "source": [
        "# assignment \n",
        "Think about how to model sine wave using neural networks?\n",
        "\n",
        "Can a neural network do this? We have not learned about training but think about the first steps. \n",
        "\n",
        "You need a dataset to train upon. How can you create that dataset?\n",
        "\n",
        "Try to create a sine wave dataset. \n",
        "\n"
      ]
    },
    {
      "cell_type": "markdown",
      "metadata": {
        "id": "x8ibRs5fytDO"
      },
      "source": [
        "Categorical Cross Entropy\n",
        "\n"
      ]
    },
    {
      "cell_type": "code",
      "metadata": {
        "id": "_41MFWHqhGWz",
        "colab": {
          "base_uri": "https://localhost:8080/"
        },
        "outputId": "5f1164f1-5398-41ce-efe3-1d1c66dd687e"
      },
      "source": [
        "import math\n",
        "output = [0.7, 0.1 , 0.2]\n",
        "\n",
        "target = [1, 0, 0 ]\n",
        "\n",
        "\n",
        "loss = -(math.log(output[0]) * target[0] + \n",
        "                 math.log(output[1]) * target[1]+\n",
        "                 math.log(output[2]) * target[2])\n",
        "\n",
        "print(loss)"
      ],
      "execution_count": null,
      "outputs": [
        {
          "output_type": "stream",
          "text": [
            "0.35667494393873245\n"
          ],
          "name": "stdout"
        }
      ]
    },
    {
      "cell_type": "code",
      "metadata": {
        "colab": {
          "base_uri": "https://localhost:8080/"
        },
        "id": "eks2bKtdy9t2",
        "outputId": "1517063f-3974-4faf-9334-8ecd14a194c1"
      },
      "source": [
        "# our numpy solution \n",
        "import numpy as np \n",
        "np.sum(-1*np.log(np.asarray(output)) * np.asarray(target))"
      ],
      "execution_count": null,
      "outputs": [
        {
          "output_type": "execute_result",
          "data": {
            "text/plain": [
              "0.35667494393873245"
            ]
          },
          "metadata": {
            "tags": []
          },
          "execution_count": 10
        }
      ]
    },
    {
      "cell_type": "code",
      "metadata": {
        "colab": {
          "base_uri": "https://localhost:8080/"
        },
        "id": "8WxtkqzOzPfg",
        "outputId": "42ee921d-f837-4c40-c9fc-a8f988f37ee6"
      },
      "source": [
        "print(math.log(1))\n",
        "print(math.log(0.95))\n",
        "print(math.log(0.9))\n",
        "print(math.log(0.8))\n",
        "print(math.log(0.2))\n",
        "print(math.log(0.1))\n",
        "print(math.log(0.05))\n",
        "print(math.log(0.01))"
      ],
      "execution_count": null,
      "outputs": [
        {
          "output_type": "stream",
          "text": [
            "0.0\n",
            "-0.05129329438755058\n",
            "-0.10536051565782628\n",
            "-0.2231435513142097\n",
            "-1.6094379124341003\n",
            "-2.3025850929940455\n",
            "-2.995732273553991\n",
            "-4.605170185988091\n"
          ],
          "name": "stdout"
        }
      ]
    },
    {
      "cell_type": "markdown",
      "metadata": {
        "id": "ez9A2iiq0Rc5"
      },
      "source": [
        "Calcualting loss "
      ]
    },
    {
      "cell_type": "code",
      "metadata": {
        "colab": {
          "base_uri": "https://localhost:8080/"
        },
        "id": "9VqGAkbyzfhn",
        "outputId": "34cadc1c-6c92-4c6a-92c8-df00fae1ccd8"
      },
      "source": [
        "softmax_outputs = np.array([[0.7, 0.1, 0.2],\n",
        "                   [0.1, 0.5, 0.4],\n",
        "                   [0.02, 0.9, 0.08]])\n",
        "\n",
        "class_targets = [0, 1, 1]\n",
        "\n",
        "#use numpy indexing to get the correct confidence scores \n",
        "print(softmax_outputs[range(len(softmax_outputs)), class_targets])\n",
        "\n"
      ],
      "execution_count": null,
      "outputs": [
        {
          "output_type": "stream",
          "text": [
            "[0.7 0.5 0.9]\n"
          ],
          "name": "stdout"
        }
      ]
    },
    {
      "cell_type": "code",
      "metadata": {
        "colab": {
          "base_uri": "https://localhost:8080/"
        },
        "id": "Ijj8XFQq03CA",
        "outputId": "8b7587ba-0e6d-404c-986b-e1957e6f0804"
      },
      "source": [
        "negLog = -np.log(softmax_outputs[range(len(softmax_outputs)), class_targets])\n",
        "\n",
        "avg_loss = np.mean(negLog)\n",
        "\n",
        "print(avg_loss)"
      ],
      "execution_count": null,
      "outputs": [
        {
          "output_type": "stream",
          "text": [
            "0.38506088005216804\n"
          ],
          "name": "stdout"
        }
      ]
    },
    {
      "cell_type": "markdown",
      "metadata": {
        "id": "3shsHer21e5d"
      },
      "source": [
        "## One hot encoded values. \n"
      ]
    },
    {
      "cell_type": "code",
      "metadata": {
        "colab": {
          "base_uri": "https://localhost:8080/"
        },
        "id": "X85R8wQM1Zqf",
        "outputId": "170b2f83-951f-4c03-f491-033aa78c26ce"
      },
      "source": [
        "softmax_outputs = np.array([[0.7, 0.1, 0.2],\n",
        "                   [0.1, 0.5, 0.4],\n",
        "                   [0.02, 0.9, 0.08]])\n",
        "\n",
        "class_targets = np.array([[1, 0, 0],\n",
        "                          [0,1,0],\n",
        "                         [0,1,0]])\n",
        "\n",
        "print(np.sum(softmax_outputs * class_targets, axis = 1))\n",
        "negLog = -1 * np.log(np.sum(softmax_outputs * class_targets, axis = 1))\n",
        "avg_loss = np.mean(negLog)\n",
        "print(avg_loss)"
      ],
      "execution_count": null,
      "outputs": [
        {
          "output_type": "stream",
          "text": [
            "[0.7 0.5 0.9]\n",
            "0.38506088005216804\n"
          ],
          "name": "stdout"
        }
      ]
    },
    {
      "cell_type": "markdown",
      "metadata": {
        "id": "FN-P7pwk4bP-"
      },
      "source": [
        "Problems with log "
      ]
    },
    {
      "cell_type": "code",
      "metadata": {
        "colab": {
          "base_uri": "https://localhost:8080/"
        },
        "id": "F1pS8Nqf37Pt",
        "outputId": "fd56f29c-6f7c-4413-a515-ce8e8f14f364"
      },
      "source": [
        "np.log(0)"
      ],
      "execution_count": null,
      "outputs": [
        {
          "output_type": "stream",
          "text": [
            "/usr/local/lib/python3.7/dist-packages/ipykernel_launcher.py:1: RuntimeWarning: divide by zero encountered in log\n",
            "  \"\"\"Entry point for launching an IPython kernel.\n"
          ],
          "name": "stderr"
        },
        {
          "output_type": "execute_result",
          "data": {
            "text/plain": [
              "-inf"
            ]
          },
          "metadata": {
            "tags": []
          },
          "execution_count": 20
        }
      ]
    },
    {
      "cell_type": "code",
      "metadata": {
        "colab": {
          "base_uri": "https://localhost:8080/"
        },
        "id": "uLJERz_B4dvH",
        "outputId": "33b8541f-1b0b-422e-dadf-ce06b1ee0514"
      },
      "source": [
        "-np.log(1.0000001)"
      ],
      "execution_count": null,
      "outputs": [
        {
          "output_type": "execute_result",
          "data": {
            "text/plain": [
              "-9.999999505838704e-08"
            ]
          },
          "metadata": {
            "tags": []
          },
          "execution_count": 21
        }
      ]
    },
    {
      "cell_type": "markdown",
      "metadata": {
        "id": "efdQ4NEu4pBR"
      },
      "source": [
        "add a very small value to the actual values like 1e-7\n",
        "\n"
      ]
    },
    {
      "cell_type": "code",
      "metadata": {
        "id": "_zYItRv54gEO"
      },
      "source": [
        "softmax_outputs = np.array([[0.7, 0.1, 0.2],\n",
        "                   [0.1, 0.5, 0.4],\n",
        "                   [0.02, 0.9, 0.08]])\n",
        "\n",
        "class_targets = np.array([[1, 0, 0],\n",
        "                          [1,0,0],\n",
        "                         [0,1,0]])\n",
        "\n",
        "actual_scores = np.sum(softmax_outputs * class_targets, axis = 1)\n",
        "\n",
        "actual_scores += 1e-7\n",
        "\n"
      ],
      "execution_count": null,
      "outputs": []
    },
    {
      "cell_type": "code",
      "metadata": {
        "colab": {
          "base_uri": "https://localhost:8080/"
        },
        "id": "4yVGvz2X48Kw",
        "outputId": "4f6fe102-6b6a-4c39-f309-53547789d97f"
      },
      "source": [
        "print(actual_scores)"
      ],
      "execution_count": null,
      "outputs": [
        {
          "output_type": "stream",
          "text": [
            "[0.7000001 0.5000001 0.9000001]\n"
          ],
          "name": "stdout"
        }
      ]
    },
    {
      "cell_type": "code",
      "metadata": {
        "colab": {
          "base_uri": "https://localhost:8080/"
        },
        "id": "6n9T9WUi4-Ww",
        "outputId": "1df98f6f-c040-4adf-9379-cd92fbe1df74"
      },
      "source": [
        "preds = np.array([0, 1, 0.5])\n",
        "preds += 1e-7\n",
        "\n",
        "preds = np.clip(preds, 1e-7, 1-1e-7)\n",
        "np.clip()\n",
        "print(preds)\n",
        "\n",
        "-np.log(preds)\n"
      ],
      "execution_count": null,
      "outputs": [
        {
          "output_type": "stream",
          "text": [
            "[1.000000e-07 9.999999e-01 5.000001e-01]\n"
          ],
          "name": "stdout"
        },
        {
          "output_type": "execute_result",
          "data": {
            "text/plain": [
              "array([1.61180957e+01, 1.00000005e-07, 6.93146981e-01])"
            ]
          },
          "metadata": {
            "tags": []
          },
          "execution_count": 26
        }
      ]
    },
    {
      "cell_type": "markdown",
      "metadata": {
        "id": "gTnSPanL5zeN"
      },
      "source": [
        "Final Code "
      ]
    },
    {
      "cell_type": "code",
      "metadata": {
        "id": "uWvL0gd75b8I"
      },
      "source": [
        "# Common loss class \n",
        "\n",
        "class Loss : \n",
        "\n",
        "  #calculates data and reg loss given model output and truth values \n",
        "  def calculate(self, output, y):\n",
        "\n",
        "    #calculate sample losses \n",
        "\n",
        "    sample_losses = self.forward(output, y )\n",
        "\n",
        "    #mean loss \n",
        "    data_loss = np.mean(sample_losses)\n",
        "\n",
        "    #return \n",
        "    return data_loss \n",
        "\n",
        "\n",
        "\n",
        "\n",
        "  \n"
      ],
      "execution_count": null,
      "outputs": []
    },
    {
      "cell_type": "code",
      "metadata": {
        "id": "zEAeMjaU6MCo"
      },
      "source": [
        "# Categorical Cross Entropy Loss \n",
        "\n",
        "class Loss_CategoricalCrossEntropy(Loss):\n",
        "\n",
        "  #forward pass \n",
        "  def forward(self, y_pred, y_true):\n",
        "\n",
        "    #number of samples in a batch \n",
        "    samples = len(y_pred)\n",
        "\n",
        "    #clip data to remove log 0 and negative loss \n",
        "    y_pred_clipped = np.clip(y_pred, 1e-7, 1-1e-7)\n",
        "\n",
        "    #probs for target values \n",
        "\n",
        "    #if categorical labels \n",
        "    if len(y_true.shape) == 1:\n",
        "      confidences = y_pred_clipped[range(samples), y_true]\n",
        "    \n",
        "    elif len(y_true.shape) == 2:\n",
        "      confidences = np.sum(y_pred_clipped * y_true, axis = 1)\n",
        "\n",
        "    #Losses\n",
        "    negLog = -np.log(confidences)\n",
        "\n",
        "    return negLog\n",
        "    "
      ],
      "execution_count": null,
      "outputs": []
    },
    {
      "cell_type": "markdown",
      "metadata": {
        "id": "qr2L3C1z6bHC"
      },
      "source": [
        ""
      ]
    },
    {
      "cell_type": "code",
      "metadata": {
        "colab": {
          "base_uri": "https://localhost:8080/"
        },
        "id": "Fqzbqw6l6SQv",
        "outputId": "ac11ca76-9f56-45a9-f36b-6099ce8ec822"
      },
      "source": [
        "loss_fucntion = Loss_CategoricalCrossEntropy()\n",
        "loss = loss_fucntion.calculate(softmax_outputs, class_targets)\n",
        "print(loss)"
      ],
      "execution_count": null,
      "outputs": [
        {
          "output_type": "stream",
          "text": [
            "0.38506088005216804\n"
          ],
          "name": "stdout"
        }
      ]
    },
    {
      "cell_type": "markdown",
      "metadata": {
        "id": "MAVuiWKd7Tsk"
      },
      "source": [
        "Calculating Accuracy"
      ]
    },
    {
      "cell_type": "code",
      "metadata": {
        "id": "VM7ySp-57MYf",
        "colab": {
          "base_uri": "https://localhost:8080/"
        },
        "outputId": "58dd27a2-a1cc-4636-b2c2-c64bf5ad07b4"
      },
      "source": [
        "import numpy as np \n",
        "\n",
        "#probabilities of 3 samples \n",
        "softmax_outputs = np.array([[0.7, 0.2, 0.1],\n",
        "                            [0.5, 0.1, 0.4],\n",
        "                            [0.02, 0.9, 0.08]])\n",
        "\n",
        "#target \n",
        "class_targets = np.array([0, 1, 1])\n",
        "\n",
        "\n",
        "predictions = np.argmax(softmax_outputs, axis = 1)\n",
        "\n",
        "accuracy = np.mean(predictions == class_targets)\n",
        "\n",
        "print(accuracy)\n",
        "\n",
        "#"
      ],
      "execution_count": null,
      "outputs": [
        {
          "output_type": "stream",
          "text": [
            "0.6666666666666666\n"
          ],
          "name": "stdout"
        }
      ]
    },
    {
      "cell_type": "markdown",
      "metadata": {
        "id": "FChidiTQFcK5"
      },
      "source": [
        "Back Propagation\n"
      ]
    },
    {
      "cell_type": "code",
      "metadata": {
        "colab": {
          "base_uri": "https://localhost:8080/"
        },
        "id": "L7MBENBb_pEE",
        "outputId": "d7a1901b-c885-4b21-d666-9acb45f5d397"
      },
      "source": [
        "import numpy as np \n",
        "\n",
        "# Suppose gradient is coming from the end. \n",
        "dvalues = np.array([[1., 1., 1.],\n",
        "                    [2., 2., 2.],\n",
        "                    3., 3., 3.])\n",
        "\n",
        "\n",
        "# set of inputs \n",
        "inputs = np.array([[1, 2, 3, 2.5],\n",
        "                   [2., 5., -1,  2],\n",
        "                   [-1.5, 2.7, 3.3, -0.8]])\n",
        "\n",
        "#weights \n",
        "\n",
        "weights = np.array( [[ 0.2, 0.8, -0.5, 1],\n",
        "                     [0.5, -0.91, 0.26, -0.5],\n",
        "                     [-0.26, -0.27, 0.17, 0.87]]).T\n",
        "\n",
        "biases = np.array([[2, 3, 0.5]])\n",
        "\n",
        "#forward pass \n",
        "layer_outputs = np.dot(inputs, weights) + biases \n",
        "relu_outputs = np.maximum(0, layer_outputs)\n",
        "\n",
        "#backward pass \n",
        "#relu layer\n",
        "drelu = relu_outputs.copy()\n",
        "drelu[layer_outputs <= 0] = 0\n",
        "\n",
        "#dense layer\n",
        "dinputs = np.dot(drelu, weights.T)\n",
        "dweights = np.dot(inputs.T, drelu)\n",
        "dbiases = np.sum(drelu, axis = 0, keepdims = True)\n",
        "\n",
        "weights += -0.001 * dweights \n",
        "biases += -0.001 * dbiases \n",
        "\n",
        "print(weights)\n",
        "print(biases )\n",
        "\n"
      ],
      "execution_count": null,
      "outputs": [
        {
          "output_type": "stream",
          "text": [
            "[[ 0.179515   0.5003665 -0.262746 ]\n",
            " [ 0.742093  -0.9152577 -0.2758402]\n",
            " [-0.510153   0.2529017  0.1629592]\n",
            " [ 0.971328  -0.5021842  0.8636583]]\n",
            "[[1.98489  2.997739 0.497389]]\n"
          ],
          "name": "stdout"
        },
        {
          "output_type": "stream",
          "text": [
            "/usr/local/lib/python3.7/dist-packages/ipykernel_launcher.py:6: VisibleDeprecationWarning: Creating an ndarray from ragged nested sequences (which is a list-or-tuple of lists-or-tuples-or ndarrays with different lengths or shapes) is deprecated. If you meant to do this, you must specify 'dtype=object' when creating the ndarray\n",
            "  \n"
          ],
          "name": "stderr"
        }
      ]
    },
    {
      "cell_type": "markdown",
      "metadata": {
        "id": "jFH0YjCMcArU"
      },
      "source": [
        "## Full NN code without Optimization"
      ]
    },
    {
      "cell_type": "code",
      "metadata": {
        "id": "39QnLCvUcLm-",
        "colab": {
          "base_uri": "https://localhost:8080/"
        },
        "outputId": "6fa3653f-9f5c-41d3-978f-c9242080a56a"
      },
      "source": [
        "!pip install nnfs"
      ],
      "execution_count": null,
      "outputs": [
        {
          "output_type": "stream",
          "text": [
            "Collecting nnfs\n",
            "  Downloading https://files.pythonhosted.org/packages/06/8c/3003a41d5229e65da792331b060dcad8100a0a5b9760f8c2074cde864148/nnfs-0.5.1-py3-none-any.whl\n",
            "Requirement already satisfied: numpy in /usr/local/lib/python3.7/dist-packages (from nnfs) (1.19.5)\n",
            "Installing collected packages: nnfs\n",
            "Successfully installed nnfs-0.5.1\n"
          ],
          "name": "stdout"
        }
      ]
    },
    {
      "cell_type": "code",
      "metadata": {
        "id": "MQgUKbExHAbD",
        "colab": {
          "base_uri": "https://localhost:8080/"
        },
        "outputId": "e7509ed1-274e-421e-fc1f-9bc3c9efcba0"
      },
      "source": [
        "import numpy as np\n",
        "import nnfs\n",
        "from nnfs.datasets import spiral_data\n",
        "\n",
        "nnfs.init()\n",
        "\n",
        "\n",
        "# Dense layer\n",
        "class Layer_Dense:\n",
        "\n",
        "    # Layer initialization\n",
        "    def __init__(self, n_inputs, n_neurons):\n",
        "        # Initialize weights and biases\n",
        "        self.weights = 0.01 * np.random.randn(n_inputs, n_neurons)\n",
        "        self.biases = np.zeros((1, n_neurons))\n",
        "\n",
        "    # Forward pass\n",
        "    def forward(self, inputs):\n",
        "        # Remember input values\n",
        "        self.inputs = inputs\n",
        "        # Calculate output values from inputs, weights and biases\n",
        "        self.output = np.dot(inputs, self.weights) + self.biases\n",
        "\n",
        "    # Backward pass\n",
        "    def backward(self, dvalues):\n",
        "        # Gradients on parameters\n",
        "        self.dweights = np.dot(self.inputs.T, dvalues)\n",
        "        self.dbiases = np.sum(dvalues, axis=0, keepdims=True)\n",
        "        # Gradient on values\n",
        "        self.dinputs = np.dot(dvalues, self.weights.T)\n",
        "\n",
        "\n",
        "# ReLU activation\n",
        "class Activation_ReLU:\n",
        "\n",
        "    # Forward pass\n",
        "    def forward(self, inputs):\n",
        "\n",
        "        # Remember input values\n",
        "        self.inputs = inputs\n",
        "        # Calculate output values from inputs\n",
        "        self.output = np.maximum(0, inputs)\n",
        "\n",
        "    # Backward pass\n",
        "    def backward(self, dvalues):\n",
        "        # Since we need to modify original variable,\n",
        "        # let's make a copy of values first\n",
        "        self.dinputs = dvalues.copy()\n",
        "\n",
        "        # Zero gradient where input values were negative\n",
        "        self.dinputs[self.inputs <= 0] = 0\n",
        "\n",
        "\n",
        "# Softmax activation\n",
        "class Activation_Softmax:\n",
        "\n",
        "    # Forward pass\n",
        "    def forward(self, inputs):\n",
        "        # Remember input values\n",
        "        self.inputs = inputs\n",
        "\n",
        "        # Get unnormalized probabilities\n",
        "        exp_values = np.exp(inputs - np.max(inputs, axis=1,\n",
        "                                            keepdims=True))\n",
        "        # Normalize them for each sample\n",
        "        probabilities = exp_values / np.sum(exp_values, axis=1,\n",
        "                                            keepdims=True)\n",
        "\n",
        "        self.output = probabilities\n",
        "\n",
        "    # Backward pass\n",
        "    def backward(self, dvalues):\n",
        "\n",
        "        # Create uninitialized array\n",
        "        self.dinputs = np.empty_like(dvalues)\n",
        "\n",
        "        # Enumerate outputs and gradients\n",
        "        for index, (single_output, single_dvalues) in \\\n",
        "                enumerate(zip(self.output, dvalues)):\n",
        "            # Flatten output array\n",
        "            single_output = single_output.reshape(-1, 1)\n",
        "            # Calculate Jacobian matrix of the output\n",
        "            jacobian_matrix = np.diagflat(single_output) - \\\n",
        "                              np.dot(single_output, single_output.T)\n",
        "\n",
        "            # Calculate sample-wise gradient\n",
        "            # and add it to the array of sample gradients\n",
        "            self.dinputs[index] = np.dot(jacobian_matrix,\n",
        "                                         single_dvalues)\n",
        "\n",
        "\n",
        "# Common loss class\n",
        "class Loss:\n",
        "\n",
        "    # Calculates the data and regularization losses\n",
        "    # given model output and ground truth values\n",
        "    def calculate(self, output, y):\n",
        "\n",
        "        # Calculate sample losses\n",
        "        sample_losses = self.forward(output, y)\n",
        "\n",
        "        # Calculate mean loss\n",
        "        data_loss = np.mean(sample_losses)\n",
        "\n",
        "        # Return loss\n",
        "        return data_loss\n",
        "\n",
        "\n",
        "# Cross-entropy loss\n",
        "class Loss_CategoricalCrossentropy(Loss):\n",
        "\n",
        "    # Forward pass\n",
        "    def forward(self, y_pred, y_true):\n",
        "\n",
        "        # Number of samples in a batch\n",
        "        samples = len(y_pred)\n",
        "\n",
        "        # Clip data to prevent division by 0\n",
        "        # Clip both sides to not drag mean towards any value\n",
        "        y_pred_clipped = np.clip(y_pred, 1e-7, 1 - 1e-7)\n",
        "\n",
        "        # Probabilities for target values -\n",
        "        # only if categorical labels\n",
        "        if len(y_true.shape) == 1:\n",
        "            correct_confidences = y_pred_clipped[\n",
        "                range(samples),\n",
        "                y_true\n",
        "            ]\n",
        "\n",
        "\n",
        "        # Mask values - only for one-hot encoded labels\n",
        "        elif len(y_true.shape) == 2:\n",
        "            correct_confidences = np.sum(\n",
        "                y_pred_clipped * y_true,\n",
        "                axis=1\n",
        "            )\n",
        "\n",
        "        # Losses\n",
        "        negative_log_likelihoods = -np.log(correct_confidences)\n",
        "        return negative_log_likelihoods\n",
        "\n",
        "    # Backward pass\n",
        "    def backward(self, dvalues, y_true):\n",
        "\n",
        "        # Number of samples\n",
        "        samples = len(dvalues)\n",
        "        # Number of labels in every sample\n",
        "        # We'll use the first sample to count them\n",
        "        labels = len(dvalues[0])\n",
        "\n",
        "        # If labels are sparse, turn them into one-hot vector\n",
        "        if len(y_true.shape) == 1:\n",
        "            y_true = np.eye(labels)[y_true]\n",
        "\n",
        "        # Calculate gradient\n",
        "        self.dinputs = -y_true / dvalues\n",
        "        # Normalize gradient\n",
        "        self.dinputs = self.dinputs / samples\n",
        "\n",
        "\n",
        "# Softmax classifier - combined Softmax activation\n",
        "# and cross-entropy loss for faster backward step\n",
        "class Activation_Softmax_Loss_CategoricalCrossentropy():\n",
        "\n",
        "    # Creates activation and loss function objects\n",
        "    def __init__(self):\n",
        "        self.activation = Activation_Softmax()\n",
        "        self.loss = Loss_CategoricalCrossentropy()\n",
        "\n",
        "    # Forward pass\n",
        "    def forward(self, inputs, y_true):\n",
        "        # Output layer's activation function\n",
        "        self.activation.forward(inputs)\n",
        "        # Set the output\n",
        "        self.output = self.activation.output\n",
        "        # Calculate and return loss value\n",
        "        return self.loss.calculate(self.output, y_true)\n",
        "\n",
        "\n",
        "    # Backward pass\n",
        "    def backward(self, dvalues, y_true):\n",
        "\n",
        "        # Number of samples\n",
        "        samples = len(dvalues)\n",
        "\n",
        "        # If labels are one-hot encoded,\n",
        "        # turn them into discrete values\n",
        "        if len(y_true.shape) == 2:\n",
        "            y_true = np.argmax(y_true, axis=1)\n",
        "\n",
        "        # Copy so we can safely modify\n",
        "        self.dinputs = dvalues.copy()\n",
        "        # Calculate gradient\n",
        "        self.dinputs[range(samples), y_true] -= 1\n",
        "        # Normalize gradient\n",
        "        self.dinputs = self.dinputs / samples\n",
        "\n",
        "\n",
        "# Create dataset\n",
        "X, y = spiral_data(samples=100, classes=3)\n",
        "\n",
        "# Create Dense layer with 2 input features and 3 output values\n",
        "dense1 = Layer_Dense(2, 3)\n",
        "\n",
        "# Create ReLU activation (to be used with Dense layer):\n",
        "activation1 = Activation_ReLU()\n",
        "\n",
        "# Create second Dense layer with 3 input features (as we take output\n",
        "# of previous layer here) and 3 output values (output values)\n",
        "dense2 = Layer_Dense(3, 3)\n",
        "\n",
        "# Create Softmax classifier's combined loss and activation\n",
        "loss_activation = Activation_Softmax_Loss_CategoricalCrossentropy()\n",
        "\n",
        "# Perform a forward pass of our training data through this layer\n",
        "dense1.forward(X)\n",
        "\n",
        "# Perform a forward pass through activation function\n",
        "# takes the output of first dense layer here\n",
        "activation1.forward(dense1.output)\n",
        "\n",
        "# Perform a forward pass through second Dense layer\n",
        "# takes outputs of activation function of first layer as inputs\n",
        "dense2.forward(activation1.output)\n",
        "\n",
        "# Perform a forward pass through the activation/loss function\n",
        "# takes the output of second dense layer here and returns loss\n",
        "loss = loss_activation.forward(dense2.output, y)\n",
        "# Let's see output of the first few samples:\n",
        "print(loss_activation.output[:5])\n",
        "\n",
        "# Print loss value\n",
        "print('loss:', loss)\n",
        "\n",
        "# Calculate accuracy from output of activation2 and targets\n",
        "# calculate values along first axis\n",
        "predictions = np.argmax(loss_activation.output, axis=1)\n",
        "if len(y.shape) == 2:\n",
        "    y = np.argmax(y, axis=1)\n",
        "accuracy = np.mean(predictions==y)\n",
        "\n",
        "# Print accuracy\n",
        "print('acc:', accuracy)\n",
        "\n",
        "# Backward pass\n",
        "loss_activation.backward(loss_activation.output, y)\n",
        "dense2.backward(loss_activation.dinputs)\n",
        "activation1.backward(dense2.dinputs)\n",
        "dense1.backward(activation1.dinputs)\n",
        "\n",
        "# Print gradients\n",
        "print(dense1.dweights)\n",
        "print(dense1.dbiases)\n",
        "print(dense2.dweights)\n",
        "print(dense2.dbiases)"
      ],
      "execution_count": null,
      "outputs": [
        {
          "output_type": "stream",
          "text": [
            "[[0.33333334 0.33333334 0.33333334]\n",
            " [0.3333332  0.3333332  0.33333364]\n",
            " [0.3333329  0.33333293 0.3333342 ]\n",
            " [0.3333326  0.33333263 0.33333477]\n",
            " [0.33333233 0.3333324  0.33333528]]\n",
            "loss: 1.0986104\n",
            "acc: 0.34\n",
            "[[ 1.5766357e-04  7.8368583e-05  4.7324400e-05]\n",
            " [ 1.8161038e-04  1.1045573e-05 -3.3096312e-05]]\n",
            "[[-3.60553473e-04  9.66117223e-05 -1.03671395e-04]]\n",
            "[[ 5.44109462e-05  1.07411419e-04 -1.61822361e-04]\n",
            " [-4.07913431e-05 -7.16780924e-05  1.12469446e-04]\n",
            " [-5.30112993e-05  8.58172934e-05 -3.28059905e-05]]\n",
            "[[-1.0729185e-05 -9.4610732e-06  2.0027859e-05]]\n"
          ],
          "name": "stdout"
        }
      ]
    },
    {
      "cell_type": "markdown",
      "metadata": {
        "id": "0oQgRSO0Gf5F"
      },
      "source": [
        "## Optimizers"
      ]
    },
    {
      "cell_type": "code",
      "metadata": {
        "id": "JPDdjKMA_cib"
      },
      "source": [
        "!pip install nnfs"
      ],
      "execution_count": null,
      "outputs": []
    },
    {
      "cell_type": "code",
      "metadata": {
        "id": "OERkShhI_o8p"
      },
      "source": [
        "class Optimizer_SGD:\n",
        "\n",
        "  def __init__(self, learning_rate = 1.0):\n",
        "    self.learning_rate = learning_rate\n",
        "\n",
        "  def update_params(self, layer):\n",
        "    layer.weights += -self.learning_rate * layer.dweights\n",
        "    layer.biases += -self.learning_rate * layer.dbiases\n",
        "    "
      ],
      "execution_count": null,
      "outputs": []
    },
    {
      "cell_type": "code",
      "metadata": {
        "colab": {
          "base_uri": "https://localhost:8080/"
        },
        "id": "rY_yXGMc_XfW",
        "outputId": "2499c84f-ebd9-4269-ae11-33ed33ef5fe4"
      },
      "source": [
        "import numpy as np\n",
        "import nnfs\n",
        "from nnfs.datasets import spiral_data\n",
        "\n",
        "nnfs.init()\n",
        "\n",
        "\n",
        "# Create dataset\n",
        "X, y = spiral_data(samples=100, classes=3)\n",
        "\n",
        "# Create Dense layer with 2 input features and 3 output values\n",
        "dense1 = Layer_Dense(2, 64)\n",
        "\n",
        "# Create ReLU activation (to be used with Dense layer):\n",
        "activation1 = Activation_ReLU()\n",
        "\n",
        "# Create second Dense layer with 3 input features (as we take output\n",
        "# of previous layer here) and 3 output values (output values)\n",
        "dense2 = Layer_Dense(64, 3)\n",
        "\n",
        "# Create Softmax classifier's combined loss and activation\n",
        "loss_activation = Activation_Softmax_Loss_CategoricalCrossentropy()\n",
        "\n",
        "optimizer = Optimizer_SGD()\n",
        "\n",
        "#train in loop \n",
        "losses = []\n",
        "for epoch in range(10001):\n",
        "\n",
        "  #forward passes \n",
        "  dense1.forward(X)\n",
        "  activation1.forward(dense1.output)\n",
        "  dense2.forward(activation1.output)\n",
        "  loss = loss_activation.forward(dense2.output, y)\n",
        "  losses.append(loss)\n",
        "  # calcualte accuracy \n",
        "  predictions = np.argmax(loss_activation.output, axis = 1)\n",
        "  if len(y.shape) == 2:\n",
        "    y = np.argmax(y, axis = 1)\n",
        "  \n",
        "  accuracy = np.mean(predictions == y)\n",
        "\n",
        "  if not epoch % 100:\n",
        "    print(f'epoch: {epoch}, acc: {accuracy}, loss:{loss}' )\n",
        "\n",
        "  # backward pass \n",
        "  loss_activation.backward(loss_activation.output, y)\n",
        "  dense2.backward(loss_activation.dinputs)\n",
        "  activation1.backward(dense2.dinputs)\n",
        "  dense1.backward(activation1.dinputs)\n",
        "\n",
        "  #update params \n",
        "  optimizer.update_params(dense1)\n",
        "  optimizer.update_params(dense2)\n"
      ],
      "execution_count": null,
      "outputs": [
        {
          "output_type": "stream",
          "text": [
            "epoch: 0, acc: 0.36, loss:1.098594307899475\n",
            "epoch: 100, acc: 0.4, loss:1.0869206190109253\n",
            "epoch: 200, acc: 0.4166666666666667, loss:1.0773380994796753\n",
            "epoch: 300, acc: 0.42, loss:1.0760209560394287\n",
            "epoch: 400, acc: 0.4, loss:1.074236273765564\n",
            "epoch: 500, acc: 0.4, loss:1.0713080167770386\n",
            "epoch: 600, acc: 0.4166666666666667, loss:1.0673632621765137\n",
            "epoch: 700, acc: 0.43666666666666665, loss:1.0623551607131958\n",
            "epoch: 800, acc: 0.43, loss:1.0550928115844727\n",
            "epoch: 900, acc: 0.39, loss:1.0638744831085205\n",
            "epoch: 1000, acc: 0.4, loss:1.0622682571411133\n",
            "epoch: 1100, acc: 0.44333333333333336, loss:1.061262607574463\n",
            "epoch: 1200, acc: 0.4033333333333333, loss:1.0605604648590088\n",
            "epoch: 1300, acc: 0.38666666666666666, loss:1.0517452955245972\n",
            "epoch: 1400, acc: 0.38666666666666666, loss:1.105523943901062\n",
            "epoch: 1500, acc: 0.43, loss:1.0429925918579102\n",
            "epoch: 1600, acc: 0.41, loss:1.0630847215652466\n",
            "epoch: 1700, acc: 0.39666666666666667, loss:1.0433818101882935\n",
            "epoch: 1800, acc: 0.45, loss:1.0381176471710205\n",
            "epoch: 1900, acc: 0.48333333333333334, loss:1.0248881578445435\n",
            "epoch: 2000, acc: 0.4033333333333333, loss:1.0371609926223755\n",
            "epoch: 2100, acc: 0.45666666666666667, loss:1.0216883420944214\n",
            "epoch: 2200, acc: 0.49333333333333335, loss:1.0195891857147217\n",
            "epoch: 2300, acc: 0.44333333333333336, loss:1.0016921758651733\n",
            "epoch: 2400, acc: 0.48, loss:0.9941015839576721\n",
            "epoch: 2500, acc: 0.49, loss:1.008725643157959\n",
            "epoch: 2600, acc: 0.48, loss:0.9909303784370422\n",
            "epoch: 2700, acc: 0.54, loss:0.9724604487419128\n",
            "epoch: 2800, acc: 0.47333333333333333, loss:0.9976078271865845\n",
            "epoch: 2900, acc: 0.5266666666666666, loss:0.963260293006897\n",
            "epoch: 3000, acc: 0.5433333333333333, loss:0.9854065179824829\n",
            "epoch: 3100, acc: 0.5233333333333333, loss:0.9876247048377991\n",
            "epoch: 3200, acc: 0.4866666666666667, loss:0.9763368964195251\n",
            "epoch: 3300, acc: 0.49333333333333335, loss:0.9725401997566223\n",
            "epoch: 3400, acc: 0.4766666666666667, loss:0.9842291474342346\n",
            "epoch: 3500, acc: 0.52, loss:0.992677628993988\n",
            "epoch: 3600, acc: 0.5366666666666666, loss:0.9652496576309204\n",
            "epoch: 3700, acc: 0.55, loss:0.9966951608657837\n",
            "epoch: 3800, acc: 0.48333333333333334, loss:0.9633467793464661\n",
            "epoch: 3900, acc: 0.49333333333333335, loss:0.9697713255882263\n",
            "epoch: 4000, acc: 0.52, loss:0.9706616401672363\n",
            "epoch: 4100, acc: 0.54, loss:0.989279568195343\n",
            "epoch: 4200, acc: 0.5466666666666666, loss:0.9564687013626099\n",
            "epoch: 4300, acc: 0.5733333333333334, loss:0.9951723217964172\n",
            "epoch: 4400, acc: 0.48333333333333334, loss:0.9586665034294128\n",
            "epoch: 4500, acc: 0.49333333333333335, loss:0.9687966704368591\n",
            "epoch: 4600, acc: 0.52, loss:0.9737345576286316\n",
            "epoch: 4700, acc: 0.5433333333333333, loss:0.9868637323379517\n",
            "epoch: 4800, acc: 0.5466666666666666, loss:0.9624319672584534\n",
            "epoch: 4900, acc: 0.5533333333333333, loss:1.0066593885421753\n",
            "epoch: 5000, acc: 0.51, loss:0.9731101393699646\n",
            "epoch: 5100, acc: 0.53, loss:0.9664764404296875\n",
            "epoch: 5200, acc: 0.5466666666666666, loss:0.9857028126716614\n",
            "epoch: 5300, acc: 0.55, loss:0.9605168700218201\n",
            "epoch: 5400, acc: 0.5566666666666666, loss:1.0007402896881104\n",
            "epoch: 5500, acc: 0.52, loss:0.9658766388893127\n",
            "epoch: 5600, acc: 0.5133333333333333, loss:0.9555531740188599\n",
            "epoch: 5700, acc: 0.57, loss:0.9754876494407654\n",
            "epoch: 5800, acc: 0.5533333333333333, loss:0.9360553026199341\n",
            "epoch: 5900, acc: 0.5766666666666667, loss:0.971545398235321\n",
            "epoch: 6000, acc: 0.49, loss:0.9397631883621216\n",
            "epoch: 6100, acc: 0.5566666666666666, loss:0.9508057832717896\n",
            "epoch: 6200, acc: 0.5333333333333333, loss:0.9367452263832092\n",
            "epoch: 6300, acc: 0.59, loss:0.9558148384094238\n",
            "epoch: 6400, acc: 0.5633333333333334, loss:0.928519606590271\n",
            "epoch: 6500, acc: 0.5933333333333334, loss:0.9553053975105286\n",
            "epoch: 6600, acc: 0.5233333333333333, loss:0.9191462993621826\n",
            "epoch: 6700, acc: 0.5666666666666667, loss:0.928459882736206\n",
            "epoch: 6800, acc: 0.56, loss:0.8899131417274475\n",
            "epoch: 6900, acc: 0.5866666666666667, loss:0.8712476491928101\n",
            "epoch: 7000, acc: 0.5933333333333334, loss:0.9049868583679199\n",
            "epoch: 7100, acc: 0.6233333333333333, loss:0.859682023525238\n",
            "epoch: 7200, acc: 0.5833333333333334, loss:0.867811918258667\n",
            "epoch: 7300, acc: 0.6, loss:0.8740476369857788\n",
            "epoch: 7400, acc: 0.5966666666666667, loss:0.8488327860832214\n",
            "epoch: 7500, acc: 0.6066666666666667, loss:0.91400146484375\n",
            "epoch: 7600, acc: 0.6566666666666666, loss:0.8581396341323853\n",
            "epoch: 7700, acc: 0.62, loss:0.8528146743774414\n",
            "epoch: 7800, acc: 0.63, loss:0.8621673583984375\n",
            "epoch: 7900, acc: 0.58, loss:0.8781864643096924\n",
            "epoch: 8000, acc: 0.6166666666666667, loss:0.8736241459846497\n",
            "epoch: 8100, acc: 0.5966666666666667, loss:0.8394070267677307\n",
            "epoch: 8200, acc: 0.5933333333333334, loss:0.8517529964447021\n",
            "epoch: 8300, acc: 0.58, loss:0.9232891798019409\n",
            "epoch: 8400, acc: 0.6466666666666666, loss:0.8787612915039062\n",
            "epoch: 8500, acc: 0.63, loss:0.8380792140960693\n",
            "epoch: 8600, acc: 0.63, loss:0.8532760739326477\n",
            "epoch: 8700, acc: 0.6266666666666667, loss:0.8633965253829956\n",
            "epoch: 8800, acc: 0.6, loss:0.8790981769561768\n",
            "epoch: 8900, acc: 0.5966666666666667, loss:0.8709477782249451\n",
            "epoch: 9000, acc: 0.57, loss:0.8717381954193115\n",
            "epoch: 9100, acc: 0.63, loss:0.8798957467079163\n",
            "epoch: 9200, acc: 0.6266666666666667, loss:0.8619816303253174\n",
            "epoch: 9300, acc: 0.6133333333333333, loss:0.8477188348770142\n",
            "epoch: 9400, acc: 0.5966666666666667, loss:0.8380523920059204\n",
            "epoch: 9500, acc: 0.6066666666666667, loss:0.8435631394386292\n",
            "epoch: 9600, acc: 0.6066666666666667, loss:0.8644261956214905\n",
            "epoch: 9700, acc: 0.6066666666666667, loss:0.8806635737419128\n",
            "epoch: 9800, acc: 0.6, loss:0.9264081716537476\n",
            "epoch: 9900, acc: 0.61, loss:0.9145286083221436\n",
            "epoch: 10000, acc: 0.6466666666666666, loss:0.8737250566482544\n"
          ],
          "name": "stdout"
        }
      ]
    },
    {
      "cell_type": "code",
      "metadata": {
        "colab": {
          "base_uri": "https://localhost:8080/",
          "height": 314
        },
        "id": "Xvgha_rMBr-y",
        "outputId": "97d7c736-9070-46e8-983a-d31109047ca4"
      },
      "source": [
        "import matplotlib.pyplot as plt \n",
        "%matplotlib inline \n",
        "\n",
        "plt.plot(range(len(losses)), losses)\n",
        "plt.title('Loss vs steps')\n",
        "plt.xlabel('Steps')\n",
        "plt.ylabel('Loss')"
      ],
      "execution_count": null,
      "outputs": [
        {
          "output_type": "execute_result",
          "data": {
            "text/plain": [
              "Text(0, 0.5, 'Loss')"
            ]
          },
          "metadata": {
            "tags": []
          },
          "execution_count": 29
        },
        {
          "output_type": "display_data",
          "data": {
            "image/png": "[encoded data removed]",
            "text/plain": [
              "<Figure size 432x288 with 1 Axes>"
            ]
          },
          "metadata": {
            "tags": [],
            "needs_background": "light"
          }
        }
      ]
    },
    {
      "cell_type": "markdown",
      "metadata": {
        "id": "FUW8MMB5CHDf"
      },
      "source": [
        "Low learning rate \n"
      ]
    },
    {
      "cell_type": "code",
      "metadata": {
        "colab": {
          "base_uri": "https://localhost:8080/",
          "height": 1000
        },
        "id": "1KSlZfJxCGoW",
        "outputId": "7f83173e-152b-422c-c72d-344ea440539e"
      },
      "source": [
        "import numpy as np\n",
        "import nnfs\n",
        "from nnfs.datasets import spiral_data\n",
        "\n",
        "nnfs.init()\n",
        "\n",
        "\n",
        "# Create dataset\n",
        "X, y = spiral_data(samples=100, classes=3)\n",
        "\n",
        "# Create Dense layer with 2 input features and 3 output values\n",
        "dense1 = Layer_Dense(2, 64)\n",
        "\n",
        "# Create ReLU activation (to be used with Dense layer):\n",
        "activation1 = Activation_ReLU()\n",
        "\n",
        "# Create second Dense layer with 3 input features (as we take output\n",
        "# of previous layer here) and 3 output values (output values)\n",
        "dense2 = Layer_Dense(64, 3)\n",
        "\n",
        "# Create Softmax classifier's combined loss and activation\n",
        "loss_activation = Activation_Softmax_Loss_CategoricalCrossentropy()\n",
        "\n",
        "optimizer = Optimizer_SGD(0.001)\n",
        "\n",
        "#train in loop \n",
        "losses = []\n",
        "for epoch in range(10001):\n",
        "\n",
        "  #forward passes \n",
        "  dense1.forward(X)\n",
        "  activation1.forward(dense1.output)\n",
        "  dense2.forward(activation1.output)\n",
        "  loss = loss_activation.forward(dense2.output, y)\n",
        "  losses.append(loss)\n",
        "  # calcualte accuracy \n",
        "  predictions = np.argmax(loss_activation.output, axis = 1)\n",
        "  if len(y.shape) == 2:\n",
        "    y = np.argmax(y, axis = 1)\n",
        "  \n",
        "  accuracy = np.mean(predictions == y)\n",
        "\n",
        "  if not epoch % 100:\n",
        "    print(f'epoch: {epoch}, acc: {accuracy}, loss:{loss}' )\n",
        "\n",
        "  # backward pass \n",
        "  loss_activation.backward(loss_activation.output, y)\n",
        "  dense2.backward(loss_activation.dinputs)\n",
        "  activation1.backward(dense2.dinputs)\n",
        "  dense1.backward(activation1.dinputs)\n",
        "\n",
        "  #update params \n",
        "  optimizer.update_params(dense1)\n",
        "  optimizer.update_params(dense2)\n",
        "\n",
        "plt.plot(range(len(losses)), losses)\n",
        "plt.title('Loss vs steps')\n",
        "plt.xlabel('Steps')\n",
        "plt.ylabel('Loss')\n"
      ],
      "execution_count": null,
      "outputs": [
        {
          "output_type": "stream",
          "text": [
            "epoch: 0, acc: 0.36, loss:1.098594307899475\n",
            "epoch: 100, acc: 0.36, loss:1.0985922813415527\n",
            "epoch: 200, acc: 0.36666666666666664, loss:1.0985902547836304\n",
            "epoch: 300, acc: 0.37, loss:1.0985881090164185\n",
            "epoch: 400, acc: 0.4, loss:1.098586082458496\n",
            "epoch: 500, acc: 0.4066666666666667, loss:1.0985839366912842\n",
            "epoch: 600, acc: 0.4033333333333333, loss:1.0985819101333618\n",
            "epoch: 700, acc: 0.4033333333333333, loss:1.0985798835754395\n",
            "epoch: 800, acc: 0.39666666666666667, loss:1.0985779762268066\n",
            "epoch: 900, acc: 0.4033333333333333, loss:1.0985760688781738\n",
            "epoch: 1000, acc: 0.4066666666666667, loss:1.0985740423202515\n",
            "epoch: 1100, acc: 0.4033333333333333, loss:1.0985721349716187\n",
            "epoch: 1200, acc: 0.4066666666666667, loss:1.0985701084136963\n",
            "epoch: 1300, acc: 0.4033333333333333, loss:1.098568320274353\n",
            "epoch: 1400, acc: 0.39666666666666667, loss:1.0985665321350098\n",
            "epoch: 1500, acc: 0.3933333333333333, loss:1.0985647439956665\n",
            "epoch: 1600, acc: 0.39, loss:1.0985629558563232\n",
            "epoch: 1700, acc: 0.39, loss:1.0985610485076904\n",
            "epoch: 1800, acc: 0.38666666666666666, loss:1.0985593795776367\n",
            "epoch: 1900, acc: 0.38666666666666666, loss:1.0985575914382935\n",
            "epoch: 2000, acc: 0.39, loss:1.0985559225082397\n",
            "epoch: 2100, acc: 0.38666666666666666, loss:1.098554253578186\n",
            "epoch: 2200, acc: 0.39, loss:1.0985527038574219\n",
            "epoch: 2300, acc: 0.39, loss:1.0985511541366577\n",
            "epoch: 2400, acc: 0.39, loss:1.098549485206604\n",
            "epoch: 2500, acc: 0.3933333333333333, loss:1.0985479354858398\n",
            "epoch: 2600, acc: 0.3933333333333333, loss:1.0985465049743652\n",
            "epoch: 2700, acc: 0.39666666666666667, loss:1.098544955253601\n",
            "epoch: 2800, acc: 0.4, loss:1.0985435247421265\n",
            "epoch: 2900, acc: 0.4, loss:1.0985420942306519\n",
            "epoch: 3000, acc: 0.4, loss:1.0985406637191772\n",
            "epoch: 3100, acc: 0.4, loss:1.0985392332077026\n",
            "epoch: 3200, acc: 0.4033333333333333, loss:1.098537802696228\n",
            "epoch: 3300, acc: 0.4, loss:1.098536491394043\n",
            "epoch: 3400, acc: 0.4033333333333333, loss:1.0985350608825684\n",
            "epoch: 3500, acc: 0.4066666666666667, loss:1.0985337495803833\n",
            "epoch: 3600, acc: 0.41, loss:1.0985324382781982\n",
            "epoch: 3700, acc: 0.41333333333333333, loss:1.0985311269760132\n",
            "epoch: 3800, acc: 0.41333333333333333, loss:1.0985296964645386\n",
            "epoch: 3900, acc: 0.41333333333333333, loss:1.0985283851623535\n",
            "epoch: 4000, acc: 0.4166666666666667, loss:1.0985270738601685\n",
            "epoch: 4100, acc: 0.4166666666666667, loss:1.0985256433486938\n",
            "epoch: 4200, acc: 0.4166666666666667, loss:1.0985243320465088\n",
            "epoch: 4300, acc: 0.4166666666666667, loss:1.0985230207443237\n",
            "epoch: 4400, acc: 0.4166666666666667, loss:1.0985217094421387\n",
            "epoch: 4500, acc: 0.4166666666666667, loss:1.0985205173492432\n",
            "epoch: 4600, acc: 0.4166666666666667, loss:1.0985193252563477\n",
            "epoch: 4700, acc: 0.4166666666666667, loss:1.0985180139541626\n",
            "epoch: 4800, acc: 0.4166666666666667, loss:1.0985167026519775\n",
            "epoch: 4900, acc: 0.4166666666666667, loss:1.0985153913497925\n",
            "epoch: 5000, acc: 0.4166666666666667, loss:1.098514199256897\n",
            "epoch: 5100, acc: 0.4166666666666667, loss:1.0985130071640015\n",
            "epoch: 5200, acc: 0.4166666666666667, loss:1.098511815071106\n",
            "epoch: 5300, acc: 0.4166666666666667, loss:1.0985103845596313\n",
            "epoch: 5400, acc: 0.4166666666666667, loss:1.0985091924667358\n",
            "epoch: 5500, acc: 0.4166666666666667, loss:1.0985080003738403\n",
            "epoch: 5600, acc: 0.41333333333333333, loss:1.0985068082809448\n",
            "epoch: 5700, acc: 0.41333333333333333, loss:1.0985054969787598\n",
            "epoch: 5800, acc: 0.41333333333333333, loss:1.0985041856765747\n",
            "epoch: 5900, acc: 0.41333333333333333, loss:1.0985028743743896\n",
            "epoch: 6000, acc: 0.41, loss:1.0985018014907837\n",
            "epoch: 6100, acc: 0.41, loss:1.0985004901885986\n",
            "epoch: 6200, acc: 0.4066666666666667, loss:1.0984992980957031\n",
            "epoch: 6300, acc: 0.4066666666666667, loss:1.0984981060028076\n",
            "epoch: 6400, acc: 0.4066666666666667, loss:1.098496675491333\n",
            "epoch: 6500, acc: 0.41, loss:1.0984957218170166\n",
            "epoch: 6600, acc: 0.41, loss:1.0984944105148315\n",
            "epoch: 6700, acc: 0.41, loss:1.0984930992126465\n",
            "epoch: 6800, acc: 0.41, loss:1.098491907119751\n",
            "epoch: 6900, acc: 0.41, loss:1.098490595817566\n",
            "epoch: 7000, acc: 0.41, loss:1.0984896421432495\n",
            "epoch: 7100, acc: 0.41, loss:1.098488211631775\n",
            "epoch: 7200, acc: 0.41333333333333333, loss:1.0984869003295898\n",
            "epoch: 7300, acc: 0.41, loss:1.0984857082366943\n",
            "epoch: 7400, acc: 0.41, loss:1.0984845161437988\n",
            "epoch: 7500, acc: 0.41, loss:1.0984833240509033\n",
            "epoch: 7600, acc: 0.41, loss:1.0984820127487183\n",
            "epoch: 7700, acc: 0.41, loss:1.0984808206558228\n",
            "epoch: 7800, acc: 0.41, loss:1.0984796285629272\n",
            "epoch: 7900, acc: 0.41, loss:1.0984784364700317\n",
            "epoch: 8000, acc: 0.41, loss:1.0984771251678467\n",
            "epoch: 8100, acc: 0.41, loss:1.0984759330749512\n",
            "epoch: 8200, acc: 0.41, loss:1.0984746217727661\n",
            "epoch: 8300, acc: 0.41333333333333333, loss:1.0984734296798706\n",
            "epoch: 8400, acc: 0.41333333333333333, loss:1.0984721183776855\n",
            "epoch: 8500, acc: 0.41333333333333333, loss:1.09847092628479\n",
            "epoch: 8600, acc: 0.41333333333333333, loss:1.098469614982605\n",
            "epoch: 8700, acc: 0.41333333333333333, loss:1.0984684228897095\n",
            "epoch: 8800, acc: 0.41333333333333333, loss:1.098467230796814\n",
            "epoch: 8900, acc: 0.41333333333333333, loss:1.0984660387039185\n",
            "epoch: 9000, acc: 0.41333333333333333, loss:1.0984646081924438\n",
            "epoch: 9100, acc: 0.4166666666666667, loss:1.0984632968902588\n",
            "epoch: 9200, acc: 0.42, loss:1.0984621047973633\n",
            "epoch: 9300, acc: 0.42, loss:1.0984609127044678\n",
            "epoch: 9400, acc: 0.42, loss:1.0984594821929932\n",
            "epoch: 9500, acc: 0.42, loss:1.0984582901000977\n",
            "epoch: 9600, acc: 0.42, loss:1.0984569787979126\n",
            "epoch: 9700, acc: 0.42, loss:1.098455548286438\n",
            "epoch: 9800, acc: 0.42, loss:1.098454236984253\n",
            "epoch: 9900, acc: 0.42, loss:1.0984528064727783\n",
            "epoch: 10000, acc: 0.42333333333333334, loss:1.0984514951705933\n"
          ],
          "name": "stdout"
        },
        {
          "output_type": "execute_result",
          "data": {
            "text/plain": [
              "Text(0, 0.5, 'Loss')"
            ]
          },
          "metadata": {
            "tags": []
          },
          "execution_count": 30
        },
        {
          "output_type": "display_data",
          "data": {
            "image/png": "[encoded data removed]",
            "text/plain": [
              "<Figure size 432x288 with 1 Axes>"
            ]
          },
          "metadata": {
            "tags": [],
            "needs_background": "light"
          }
        }
      ]
    },
    {
      "cell_type": "code",
      "metadata": {
        "id": "93K8PgMVDEN0"
      },
      "source": [
        "import numpy as np\n",
        "import nnfs\n",
        "from nnfs.datasets import spiral_data\n",
        "\n",
        "nnfs.init()\n",
        "\n",
        "\n",
        "# Create dataset\n",
        "X, y = spiral_data(samples=100, classes=3)\n",
        "\n",
        "# Create Dense layer with 2 input features and 3 output values\n",
        "dense1 = Layer_Dense(2, 64)\n",
        "\n",
        "# Create ReLU activation (to be used with Dense layer):\n",
        "activation1 = Activation_ReLU()\n",
        "\n",
        "# Create second Dense layer with 3 input features (as we take output\n",
        "# of previous layer here) and 3 output values (output values)\n",
        "dense2 = Layer_Dense(64, 3)\n",
        "\n",
        "# Create Softmax classifier's combined loss and activation\n",
        "loss_activation = Activation_Softmax_Loss_CategoricalCrossentropy()\n",
        "\n",
        "optimizer = Optimizer_SGD(0.85)\n",
        "\n",
        "#train in loop \n",
        "losses = []\n",
        "for epoch in range(10001):\n",
        "\n",
        "  #forward passes \n",
        "  dense1.forward(X)\n",
        "  activation1.forward(dense1.output)\n",
        "  dense2.forward(activation1.output)\n",
        "  loss = loss_activation.forward(dense2.output, y)\n",
        "  losses.append(loss)\n",
        "  # calcualte accuracy \n",
        "  predictions = np.argmax(loss_activation.output, axis = 1)\n",
        "  if len(y.shape) == 2:\n",
        "    y = np.argmax(y, axis = 1)\n",
        "  \n",
        "  accuracy = np.mean(predictions == y)\n",
        "\n",
        "  if not epoch % 100:\n",
        "    print(f'epoch: {epoch}, acc: {accuracy}, loss:{loss}' )\n",
        "\n",
        "  # backward pass \n",
        "  loss_activation.backward(loss_activation.output, y)\n",
        "  dense2.backward(loss_activation.dinputs)\n",
        "  activation1.backward(dense2.dinputs)\n",
        "  dense1.backward(activation1.dinputs)\n",
        "\n",
        "  #update params \n",
        "  optimizer.update_params(dense1)\n",
        "  optimizer.update_params(dense2)\n",
        "\n",
        "plt.plot(range(len(losses)), losses)\n",
        "plt.title('Loss vs steps')\n",
        "plt.xlabel('Steps')\n",
        "plt.ylabel('Loss')\n"
      ],
      "execution_count": null,
      "outputs": []
    },
    {
      "cell_type": "markdown",
      "metadata": {
        "id": "luAkdVEc8Yy1"
      },
      "source": [
        "### SGD Optimizer"
      ]
    },
    {
      "cell_type": "code",
      "metadata": {
        "id": "SilHYmJpDWc6"
      },
      "source": [
        "# SGD optimizer\n",
        "class Optimizer_SGD:\n",
        "\n",
        "    # Initialize optimizer - set settings,\n",
        "    # learning rate of 1. is default for this optimizer\n",
        "    def __init__(self, learning_rate=1., decay=0.):\n",
        "        self.learning_rate = learning_rate\n",
        "        self.current_learning_rate = learning_rate\n",
        "        self.decay = decay\n",
        "        self.iterations = 0\n",
        "\n",
        "    # Call once before any parameter updates\n",
        "    def pre_update_params(self):\n",
        "        if self.decay:\n",
        "            self.current_learning_rate = self.learning_rate * \\\n",
        "                (1. / (1. + self.decay * self.iterations))\n",
        "\n",
        "    # Update parameters\n",
        "    def update_params(self, layer):\n",
        "        # Vanilla SGD updates \n",
        "        weight_updates = -self.current_learning_rate * \\\n",
        "                          layer.dweights\n",
        "        bias_updates = -self.current_learning_rate * \\\n",
        "                        layer.dbiases\n",
        "\n",
        "        # Update weights and biases using either\n",
        "        # vanilla or momentum updates\n",
        "        layer.weights += weight_updates\n",
        "        layer.biases += bias_updates\n",
        "\n",
        "\n",
        "    # Call once after any parameter updates\n",
        "    def post_update_params(self):\n",
        "        self.iterations += 1"
      ],
      "execution_count": null,
      "outputs": []
    },
    {
      "cell_type": "code",
      "metadata": {
        "id": "Z6aA7A1cDmd2"
      },
      "source": [
        "import numpy as np\n",
        "import nnfs\n",
        "from nnfs.datasets import spiral_data\n",
        "\n",
        "nnfs.init()\n",
        "\n",
        "\n",
        "# Create dataset\n",
        "X, y = spiral_data(samples=100, classes=3)\n",
        "\n",
        "# Create Dense layer with 2 input features and 3 output values\n",
        "dense1 = Layer_Dense(2, 64)\n",
        "\n",
        "# Create ReLU activation (to be used with Dense layer):\n",
        "activation1 = Activation_ReLU()\n",
        "\n",
        "# Create second Dense layer with 3 input features (as we take output\n",
        "# of previous layer here) and 3 output values (output values)\n",
        "dense2 = Layer_Dense(64, 3)\n",
        "\n",
        "# Create Softmax classifier's combined loss and activation\n",
        "loss_activation = Activation_Softmax_Loss_CategoricalCrossentropy()\n",
        "\n",
        "optimizer = Optimizer_SGD(decay = 1e-2)\n",
        "\n",
        "#train in loop \n",
        "losses = []\n",
        "for epoch in range(10001):\n",
        "\n",
        "  #forward passes \n",
        "  dense1.forward(X)\n",
        "  activation1.forward(dense1.output)\n",
        "  dense2.forward(activation1.output)\n",
        "  loss = loss_activation.forward(dense2.output, y)\n",
        "  losses.append(loss)\n",
        "  # calcualte accuracy \n",
        "  predictions = np.argmax(loss_activation.output, axis = 1)\n",
        "  if len(y.shape) == 2:\n",
        "    y = np.argmax(y, axis = 1)\n",
        "  \n",
        "  accuracy = np.mean(predictions == y)\n",
        "\n",
        "  if not epoch % 100:\n",
        "    print(f'epoch: {epoch}, acc: {accuracy}, loss:{loss}, lr:{optimizer.current_learning_rate}' )\n",
        "\n",
        "  # backward pass \n",
        "  loss_activation.backward(loss_activation.output, y)\n",
        "  dense2.backward(loss_activation.dinputs)\n",
        "  activation1.backward(dense2.dinputs)\n",
        "  dense1.backward(activation1.dinputs)\n",
        "\n",
        "  #update params \n",
        "  optimizer.pre_update_params()\n",
        "  optimizer.update_params(dense1)\n",
        "  optimizer.update_params(dense2)\n",
        "  optimizer.post_update_params()\n",
        "\n",
        "plt.plot(range(len(losses)), losses)\n",
        "plt.title('Loss vs steps')\n",
        "plt.xlabel('Steps')\n",
        "plt.ylabel('Loss')\n"
      ],
      "execution_count": null,
      "outputs": []
    },
    {
      "cell_type": "markdown",
      "metadata": {
        "id": "nHnoAADQEWCI"
      },
      "source": [
        "Less decay"
      ]
    },
    {
      "cell_type": "code",
      "metadata": {
        "id": "UVttgor2EXqy"
      },
      "source": [
        "import numpy as np\n",
        "import nnfs\n",
        "from nnfs.datasets import spiral_data\n",
        "\n",
        "nnfs.init()\n",
        "\n",
        "\n",
        "# Create dataset\n",
        "X, y = spiral_data(samples=100, classes=3)\n",
        "\n",
        "# Create Dense layer with 2 input features and 3 output values\n",
        "dense1 = Layer_Dense(2, 64)\n",
        "\n",
        "# Create ReLU activation (to be used with Dense layer):\n",
        "activation1 = Activation_ReLU()\n",
        "\n",
        "# Create second Dense layer with 3 input features (as we take output\n",
        "# of previous layer here) and 3 output values (output values)\n",
        "dense2 = Layer_Dense(64, 3)\n",
        "\n",
        "# Create Softmax classifier's combined loss and activation\n",
        "loss_activation = Activation_Softmax_Loss_CategoricalCrossentropy()\n",
        "\n",
        "optimizer = Optimizer_SGD(decay = 1e-3)\n",
        "\n",
        "#train in loop \n",
        "losses = []\n",
        "for epoch in range(10001):\n",
        "\n",
        "  #forward passes \n",
        "  dense1.forward(X)\n",
        "  activation1.forward(dense1.output)\n",
        "  dense2.forward(activation1.output)\n",
        "  loss = loss_activation.forward(dense2.output, y)\n",
        "  losses.append(loss)\n",
        "  # calcualte accuracy \n",
        "  predictions = np.argmax(loss_activation.output, axis = 1)\n",
        "  if len(y.shape) == 2:\n",
        "    y = np.argmax(y, axis = 1)\n",
        "  \n",
        "  accuracy = np.mean(predictions == y)\n",
        "\n",
        "  if not epoch % 100:\n",
        "    print(f'epoch: {epoch}, acc: {accuracy}, loss:{loss}, lr:{optimizer.current_learning_rate}' )\n",
        "\n",
        "  # backward pass \n",
        "  loss_activation.backward(loss_activation.output, y)\n",
        "  dense2.backward(loss_activation.dinputs)\n",
        "  activation1.backward(dense2.dinputs)\n",
        "  dense1.backward(activation1.dinputs)\n",
        "\n",
        "  #update params \n",
        "  optimizer.pre_update_params()\n",
        "  optimizer.update_params(dense1)\n",
        "  optimizer.update_params(dense2)\n",
        "  optimizer.post_update_params()\n",
        "\n",
        "plt.plot(range(len(losses)), losses)\n",
        "plt.title('Loss vs steps')\n",
        "plt.xlabel('Steps')\n",
        "plt.ylabel('Loss')\n"
      ],
      "execution_count": null,
      "outputs": []
    },
    {
      "cell_type": "code",
      "metadata": {
        "id": "Uw9UwNdMN8Il"
      },
      "source": [
        "import numpy as np\n",
        "import nnfs\n",
        "from nnfs.datasets import spiral_data\n",
        "\n",
        "nnfs.init()\n",
        "\n",
        "\n",
        "# Create dataset\n",
        "X, y = spiral_data(samples=100, classes=3)\n",
        "\n",
        "# Create Dense layer with 2 input features and 3 output values\n",
        "dense1 = Layer_Dense(2, 64)\n",
        "\n",
        "# Create ReLU activation (to be used with Dense layer):\n",
        "activation1 = Activation_ReLU()\n",
        "\n",
        "# Create second Dense layer with 3 input features (as we take output\n",
        "# of previous layer here) and 3 output values (output values)\n",
        "dense2 = Layer_Dense(64, 3)\n",
        "\n",
        "# Create Softmax classifier's combined loss and activation\n",
        "loss_activation = Activation_Softmax_Loss_CategoricalCrossentropy()\n",
        "\n",
        "optimizer = Optimizer_SGD(learning_rate = 0.9, decay = 1e-3)\n",
        "\n",
        "#train in loop \n",
        "losses = []\n",
        "for epoch in range(10001):\n",
        "\n",
        "  #forward passes \n",
        "  dense1.forward(X)\n",
        "  activation1.forward(dense1.output)\n",
        "  dense2.forward(activation1.output)\n",
        "  loss = loss_activation.forward(dense2.output, y)\n",
        "  losses.append(loss)\n",
        "  # calcualte accuracy \n",
        "  predictions = np.argmax(loss_activation.output, axis = 1)\n",
        "  if len(y.shape) == 2:\n",
        "    y = np.argmax(y, axis = 1)\n",
        "  \n",
        "  accuracy = np.mean(predictions == y)\n",
        "\n",
        "  if not epoch % 100:\n",
        "    print(f'epoch: {epoch}, acc: {accuracy}, loss:{loss}, lr:{optimizer.current_learning_rate}' )\n",
        "\n",
        "  # backward pass \n",
        "  loss_activation.backward(loss_activation.output, y)\n",
        "  dense2.backward(loss_activation.dinputs)\n",
        "  activation1.backward(dense2.dinputs)\n",
        "  dense1.backward(activation1.dinputs)\n",
        "\n",
        "  #update params \n",
        "  optimizer.pre_update_params()\n",
        "  optimizer.update_params(dense1)\n",
        "  optimizer.update_params(dense2)\n",
        "  optimizer.post_update_params()\n",
        "\n",
        "plt.plot(range(len(losses)), losses)\n",
        "plt.title('Loss vs steps')\n",
        "plt.xlabel('Steps')\n",
        "plt.ylabel('Loss')\n"
      ],
      "execution_count": null,
      "outputs": []
    },
    {
      "cell_type": "code",
      "metadata": {
        "id": "fEx4hZ_l8XnG"
      },
      "source": [
        "# SGD optimizer\n",
        "class Optimizer_SGD:\n",
        "\n",
        "    # Initialize optimizer - set settings,\n",
        "    # learning rate of 1. is default for this optimizer\n",
        "    def __init__(self, learning_rate=1., decay=0., momentum=0.):\n",
        "        self.learning_rate = learning_rate\n",
        "        self.current_learning_rate = learning_rate\n",
        "        self.decay = decay\n",
        "        self.iterations = 0\n",
        "        self.momentum = momentum\n",
        "\n",
        "    # Call once before any parameter updates\n",
        "    def pre_update_params(self):\n",
        "        if self.decay:\n",
        "            self.current_learning_rate = self.learning_rate * \\\n",
        "                (1. / (1. + self.decay * self.iterations))\n",
        "\n",
        "    # Update parameters\n",
        "    def update_params(self, layer):\n",
        "\n",
        "        # If we use momentum\n",
        "        if self.momentum:\n",
        "\n",
        "            # If layer does not contain momentum arrays, create them\n",
        "            # filled with zeros\n",
        "            if not hasattr(layer, 'weight_momentums'):\n",
        "                layer.weight_momentums = np.zeros_like(layer.weights)\n",
        "                # If there is no momentum array for weights\n",
        "                # The array doesn't exist for biases yet either.\n",
        "                layer.bias_momentums = np.zeros_like(layer.biases)\n",
        "\n",
        "            # Build weight updates with momentum - take previous\n",
        "            # updates multiplied by retain factor and update with\n",
        "            # current gradients\n",
        "            weight_updates = \\\n",
        "                self.momentum * layer.weight_momentums - \\\n",
        "                self.current_learning_rate * layer.dweights\n",
        "            layer.weight_momentums = weight_updates\n",
        "\n",
        "            # Build bias updates\n",
        "            bias_updates = \\\n",
        "                self.momentum * layer.bias_momentums - \\\n",
        "                self.current_learning_rate * layer.dbiases\n",
        "            layer.bias_momentums = bias_updates\n",
        "\n",
        "        # Vanilla SGD updates (as before momentum update)\n",
        "        else:\n",
        "            weight_updates = -self.current_learning_rate * \\\n",
        "                             layer.dweights\n",
        "            bias_updates = -self.current_learning_rate * \\\n",
        "                           layer.dbiases\n",
        "\n",
        "        # Update weights and biases using either\n",
        "        # vanilla or momentum updates\n",
        "        layer.weights += weight_updates\n",
        "        layer.biases += bias_updates\n",
        "\n",
        "\n",
        "    # Call once after any parameter updates\n",
        "    def post_update_params(self):\n",
        "        self.iterations += 1"
      ],
      "execution_count": null,
      "outputs": []
    },
    {
      "cell_type": "code",
      "metadata": {
        "id": "77Mn4VOiCdpP"
      },
      "source": [
        "import numpy as np\n",
        "import nnfs\n",
        "from nnfs.datasets import spiral_data\n",
        "\n",
        "nnfs.init()\n",
        "\n",
        "\n",
        "# Create dataset\n",
        "X, y = spiral_data(samples=100, classes=3)\n",
        "\n",
        "# Create Dense layer with 2 input features and 3 output values\n",
        "dense1 = Layer_Dense(2, 64)\n",
        "\n",
        "# Create ReLU activation (to be used with Dense layer):\n",
        "activation1 = Activation_ReLU()\n",
        "\n",
        "# Create second Dense layer with 3 input features (as we take output\n",
        "# of previous layer here) and 3 output values (output values)\n",
        "dense2 = Layer_Dense(64, 3)\n",
        "\n",
        "# Create Softmax classifier's combined loss and activation\n",
        "loss_activation = Activation_Softmax_Loss_CategoricalCrossentropy()\n",
        "\n",
        "optimizer = Optimizer_SGD(decay = 1e-3, momentum  =0.5)\n",
        "\n",
        "#train in loop \n",
        "losses = []\n",
        "for epoch in range(25000):\n",
        "\n",
        "  #forward passes \n",
        "  dense1.forward(X)\n",
        "  activation1.forward(dense1.output)\n",
        "  dense2.forward(activation1.output)\n",
        "  loss = loss_activation.forward(dense2.output, y)\n",
        "  losses.append(loss)\n",
        "  # calcualte accuracy \n",
        "  predictions = np.argmax(loss_activation.output, axis = 1)\n",
        "  if len(y.shape) == 2:\n",
        "    y = np.argmax(y, axis = 1)\n",
        "  \n",
        "  accuracy = np.mean(predictions == y)\n",
        "\n",
        "  if not epoch % 100:\n",
        "    print(f'epoch: {epoch}, acc: {accuracy}, loss:{loss}, lr:{optimizer.current_learning_rate}' )\n",
        "\n",
        "  # backward pass \n",
        "  loss_activation.backward(loss_activation.output, y)\n",
        "  dense2.backward(loss_activation.dinputs)\n",
        "  activation1.backward(dense2.dinputs)\n",
        "  dense1.backward(activation1.dinputs)\n",
        "\n",
        "  #update params \n",
        "  optimizer.pre_update_params()\n",
        "  optimizer.update_params(dense1)\n",
        "  optimizer.update_params(dense2)\n",
        "  optimizer.post_update_params()\n",
        "\n",
        "plt.plot(range(len(losses)), losses)\n",
        "plt.title('Loss vs steps')\n",
        "plt.xlabel('Steps')\n",
        "plt.ylabel('Loss')\n"
      ],
      "execution_count": null,
      "outputs": []
    },
    {
      "cell_type": "markdown",
      "metadata": {
        "id": "s_yPvhER-wd7"
      },
      "source": [
        "## Optimizer Adagrad\n"
      ]
    },
    {
      "cell_type": "code",
      "metadata": {
        "id": "ltvH9Bx5-znr"
      },
      "source": [
        "# Adagrad optimizer\n",
        "class Optimizer_Adagrad:\n",
        "\n",
        "    # Initialize optimizer - set settings\n",
        "    def __init__(self, learning_rate=1., decay=0., epsilon=1e-7):\n",
        "        self.learning_rate = learning_rate\n",
        "        self.current_learning_rate = learning_rate\n",
        "        self.decay = decay\n",
        "        self.iterations = 0\n",
        "        self.epsilon = epsilon\n",
        "\n",
        "    # Call once before any parameter updates\n",
        "    def pre_update_params(self):\n",
        "        if self.decay:\n",
        "            self.current_learning_rate = self.learning_rate * \\\n",
        "                (1. / (1. + self.decay * self.iterations))\n",
        "\n",
        "    # Update parameters\n",
        "    def update_params(self, layer):\n",
        "\n",
        "        # If layer does not contain cache arrays,\n",
        "        # create them filled with zeros\n",
        "        if not hasattr(layer, 'weight_cache'):\n",
        "            layer.weight_cache = np.zeros_like(layer.weights)\n",
        "            layer.bias_cache = np.zeros_like(layer.biases)\n",
        "\n",
        "        # Update cache with squared current gradients\n",
        "        layer.weight_cache += layer.dweights**2\n",
        "        layer.bias_cache += layer.dbiases**2\n",
        "\n",
        "        # Vanilla SGD parameter update + normalization\n",
        "        # with square rooted cache\n",
        "        layer.weights += -self.current_learning_rate * \\\n",
        "                         layer.dweights / \\\n",
        "                         (np.sqrt(layer.weight_cache) + self.epsilon)\n",
        "        layer.biases += -self.current_learning_rate * \\\n",
        "                        layer.dbiases / \\\n",
        "                        (np.sqrt(layer.bias_cache) + self.epsilon)\n",
        "\n",
        "    # Call once after any parameter updates\n",
        "    def post_update_params(self):\n",
        "        self.iterations += 1\n"
      ],
      "execution_count": 2,
      "outputs": []
    },
    {
      "cell_type": "code",
      "metadata": {
        "id": "OlUBcMqP_LM9",
        "outputId": "80551278-4a10-4af6-f32f-2fca4ec371f7",
        "colab": {
          "base_uri": "https://localhost:8080/"
        }
      },
      "source": [
        "!pip install nnfs"
      ],
      "execution_count": 1,
      "outputs": [
        {
          "output_type": "stream",
          "text": [
            "Collecting nnfs\n",
            "  Downloading https://files.pythonhosted.org/packages/06/8c/3003a41d5229e65da792331b060dcad8100a0a5b9760f8c2074cde864148/nnfs-0.5.1-py3-none-any.whl\n",
            "Requirement already satisfied: numpy in /usr/local/lib/python3.7/dist-packages (from nnfs) (1.19.5)\n",
            "Installing collected packages: nnfs\n",
            "Successfully installed nnfs-0.5.1\n"
          ],
          "name": "stdout"
        }
      ]
    },
    {
      "cell_type": "code",
      "metadata": {
        "cellView": "form",
        "id": "8pWMYqkg-44f",
        "outputId": "e12d0022-c802-4521-8f1d-f1a82cbffd49",
        "colab": {
          "base_uri": "https://localhost:8080/",
          "height": 232
        }
      },
      "source": [
        "#@title\n",
        "import numpy as np\n",
        "import nnfs\n",
        "from nnfs.datasets import spiral_data\n",
        "\n",
        "nnfs.init()\n",
        "\n",
        "\n",
        "# Create dataset\n",
        "X, y = spiral_data(samples=100, classes=3)\n",
        "\n",
        "# Create Dense layer with 2 input features and 3 output values\n",
        "dense1 = Layer_Dense(2, 64)\n",
        "\n",
        "# Create ReLU activation (to be used with Dense layer):\n",
        "activation1 = Activation_ReLU()\n",
        "\n",
        "# Create second Dense layer with 3 input features (as we take output\n",
        "# of previous layer here) and 3 output values (output values)\n",
        "dense2 = Layer_Dense(64, 3)\n",
        "\n",
        "# Create Softmax classifier's combined loss and activation\n",
        "loss_activation = Activation_Softmax_Loss_CategoricalCrossentropy()\n",
        "\n",
        "optimizer = Optimizer_Adagrad(decay = 1e-4)\n",
        "\n",
        "#train in loop \n",
        "losses = []\n",
        "for epoch in range(10001):\n",
        "\n",
        "  #forward passes \n",
        "  dense1.forward(X)\n",
        "  activation1.forward(dense1.output)\n",
        "  dense2.forward(activation1.output)\n",
        "  loss = loss_activation.forward(dense2.output, y)\n",
        "  losses.append(loss)\n",
        "  # calcualte accuracy \n",
        "  predictions = np.argmax(loss_activation.output, axis = 1)\n",
        "  if len(y.shape) == 2:\n",
        "    y = np.argmax(y, axis = 1)\n",
        "  \n",
        "  accuracy = np.mean(predictions == y)\n",
        "\n",
        "  if not epoch % 100:\n",
        "    print(f'epoch: {epoch}, acc: {accuracy}, loss:{loss}, lr:{optimizer.current_learning_rate}' )\n",
        "\n",
        "  # backward pass \n",
        "  loss_activation.backward(loss_activation.output, y)\n",
        "  dense2.backward(loss_activation.dinputs)\n",
        "  activation1.backward(dense2.dinputs)\n",
        "  dense1.backward(activation1.dinputs)\n",
        "\n",
        "  #update params \n",
        "  optimizer.pre_update_params()\n",
        "  optimizer.update_params(dense1)\n",
        "  optimizer.update_params(dense2)\n",
        "  optimizer.post_update_params()\n",
        "\n",
        "plt.plot(range(len(losses)), losses)\n",
        "plt.title('Loss vs steps')\n",
        "plt.xlabel('Steps')\n",
        "plt.ylabel('Loss')\n"
      ],
      "execution_count": 3,
      "outputs": [
        {
          "output_type": "error",
          "ename": "NameError",
          "evalue": "ignored",
          "traceback": [
            "\u001b[0;31m---------------------------------------------------------------------------\u001b[0m",
            "\u001b[0;31mNameError\u001b[0m                                 Traceback (most recent call last)",
            "\u001b[0;32m<ipython-input-3-153f93a71986>\u001b[0m in \u001b[0;36m<module>\u001b[0;34m()\u001b[0m\n\u001b[1;32m     10\u001b[0m \u001b[0;34m\u001b[0m\u001b[0m\n\u001b[1;32m     11\u001b[0m \u001b[0;31m# Create Dense layer with 2 input features and 3 output values\u001b[0m\u001b[0;34m\u001b[0m\u001b[0;34m\u001b[0m\u001b[0;34m\u001b[0m\u001b[0m\n\u001b[0;32m---> 12\u001b[0;31m \u001b[0mdense1\u001b[0m \u001b[0;34m=\u001b[0m \u001b[0mLayer_Dense\u001b[0m\u001b[0;34m(\u001b[0m\u001b[0;36m2\u001b[0m\u001b[0;34m,\u001b[0m \u001b[0;36m64\u001b[0m\u001b[0;34m)\u001b[0m\u001b[0;34m\u001b[0m\u001b[0;34m\u001b[0m\u001b[0m\n\u001b[0m\u001b[1;32m     13\u001b[0m \u001b[0;34m\u001b[0m\u001b[0m\n\u001b[1;32m     14\u001b[0m \u001b[0;31m# Create ReLU activation (to be used with Dense layer):\u001b[0m\u001b[0;34m\u001b[0m\u001b[0;34m\u001b[0m\u001b[0;34m\u001b[0m\u001b[0m\n",
            "\u001b[0;31mNameError\u001b[0m: name 'Layer_Dense' is not defined"
          ]
        }
      ]
    },
    {
      "cell_type": "code",
      "metadata": {
        "id": "8gpGygrucG0J"
      },
      "source": [
        "import numpy as np\n",
        "import nnfs\n",
        "from nnfs.datasets import spiral_data\n",
        "\n",
        "nnfs.init()\n",
        "\n",
        "\n",
        "\n",
        "# Dense layer\n",
        "class Layer_Dense:\n",
        "\n",
        "    # Layer initialization\n",
        "    def __init__(self, n_inputs, n_neurons):\n",
        "        # Initialize weights and biases\n",
        "        self.weights = 0.01 * np.random.randn(n_inputs, n_neurons)\n",
        "        self.biases = np.zeros((1, n_neurons))\n",
        "\n",
        "    # Forward pass\n",
        "    def forward(self, inputs):\n",
        "        # Remember input values\n",
        "        self.inputs = inputs\n",
        "        # Calculate output values from inputs, weights and biases\n",
        "        self.output = np.dot(inputs, self.weights) + self.biases\n",
        "\n",
        "    # Backward pass\n",
        "    def backward(self, dvalues):\n",
        "        # Gradients on parameters\n",
        "        self.dweights = np.dot(self.inputs.T, dvalues)\n",
        "        self.dbiases = np.sum(dvalues, axis=0, keepdims=True)\n",
        "        # Gradient on values\n",
        "        self.dinputs = np.dot(dvalues, self.weights.T)\n",
        "\n",
        "\n",
        "# ReLU activation\n",
        "class Activation_ReLU:\n",
        "\n",
        "    # Forward pass\n",
        "    def forward(self, inputs):\n",
        "        # Remember input values\n",
        "        self.inputs = inputs\n",
        "        # Calculate output values from inputs\n",
        "        self.output = np.maximum(0, inputs)\n",
        "\n",
        "    # Backward pass\n",
        "    def backward(self, dvalues):\n",
        "        # Since we need to modify original variable,\n",
        "        # let's make a copy of values first\n",
        "        self.dinputs = dvalues.copy()\n",
        "\n",
        "        # Zero gradient where input values were negative\n",
        "        self.dinputs[self.inputs <= 0] = 0\n",
        "\n",
        "\n",
        "\n",
        "# Softmax activation\n",
        "class Activation_Softmax:\n",
        "\n",
        "    # Forward pass\n",
        "    def forward(self, inputs):\n",
        "        # Remember input values\n",
        "        self.inputs = inputs\n",
        "\n",
        "        # Get unnormalized probabilities\n",
        "        exp_values = np.exp(inputs - np.max(inputs, axis=1,\n",
        "                                            keepdims=True))\n",
        "        # Normalize them for each sample\n",
        "        probabilities = exp_values / np.sum(exp_values, axis=1,\n",
        "                                            keepdims=True)\n",
        "\n",
        "        self.output = probabilities\n",
        "\n",
        "    # Backward pass\n",
        "    def backward(self, dvalues):\n",
        "\n",
        "        # Create uninitialized array\n",
        "        self.dinputs = np.empty_like(dvalues)\n",
        "\n",
        "        # Enumerate outputs and gradients\n",
        "        for index, (single_output, single_dvalues) in \\\n",
        "                enumerate(zip(self.output, dvalues)):\n",
        "            # Flatten output array\n",
        "            single_output = single_output.reshape(-1, 1)\n",
        "            # Calculate Jacobian matrix of the output\n",
        "            jacobian_matrix = np.diagflat(single_output) - \\\n",
        "                              np.dot(single_output, single_output.T)\n",
        "            # Calculate sample-wise gradient\n",
        "            # and add it to the array of sample gradients\n",
        "            self.dinputs[index] = np.dot(jacobian_matrix,\n",
        "                                         single_dvalues)\n",
        "\n",
        "\n",
        "# SGD optimizer\n",
        "class Optimizer_SGD:\n",
        "\n",
        "    # Initialize optimizer - set settings,\n",
        "    # learning rate of 1. is default for this optimizer\n",
        "    def __init__(self, learning_rate=1., decay=0., momentum=0.):\n",
        "        self.learning_rate = learning_rate\n",
        "        self.current_learning_rate = learning_rate\n",
        "        self.decay = decay\n",
        "        self.iterations = 0\n",
        "        self.momentum = momentum\n",
        "\n",
        "    # Call once before any parameter updates\n",
        "    def pre_update_params(self):\n",
        "        if self.decay:\n",
        "            self.current_learning_rate = self.learning_rate * \\\n",
        "                (1. / (1. + self.decay * self.iterations))\n",
        "\n",
        "    # Update parameters\n",
        "    def update_params(self, layer):\n",
        "\n",
        "        # If we use momentum\n",
        "        if self.momentum:\n",
        "\n",
        "            # If layer does not contain momentum arrays, create them\n",
        "            # filled with zeros\n",
        "            if not hasattr(layer, 'weight_momentums'):\n",
        "                layer.weight_momentums = np.zeros_like(layer.weights)\n",
        "                # If there is no momentum array for weights\n",
        "                # The array doesn't exist for biases yet either.\n",
        "                layer.bias_momentums = np.zeros_like(layer.biases)\n",
        "\n",
        "            # Build weight updates with momentum - take previous\n",
        "            # updates multiplied by retain factor and update with\n",
        "            # current gradients\n",
        "            weight_updates = \\\n",
        "                self.momentum * layer.weight_momentums - \\\n",
        "                self.current_learning_rate * layer.dweights\n",
        "            layer.weight_momentums = weight_updates\n",
        "\n",
        "            # Build bias updates\n",
        "            bias_updates = \\\n",
        "                self.momentum * layer.bias_momentums - \\\n",
        "                self.current_learning_rate * layer.dbiases\n",
        "            layer.bias_momentums = bias_updates\n",
        "\n",
        "        # Vanilla SGD updates (as before momentum update)\n",
        "        else:\n",
        "            weight_updates = -self.current_learning_rate * \\\n",
        "                             layer.dweights\n",
        "            bias_updates = -self.current_learning_rate * \\\n",
        "                           layer.dbiases\n",
        "\n",
        "        # Update weights and biases using either\n",
        "        # vanilla or momentum updates\n",
        "        layer.weights += weight_updates\n",
        "        layer.biases += bias_updates\n",
        "\n",
        "\n",
        "    # Call once after any parameter updates\n",
        "    def post_update_params(self):\n",
        "        self.iterations += 1\n",
        "\n",
        "\n",
        "# Adagrad optimizer\n",
        "class Optimizer_Adagrad:\n",
        "\n",
        "    # Initialize optimizer - set settings\n",
        "    def __init__(self, learning_rate=1., decay=0., epsilon=1e-7):\n",
        "        self.learning_rate = learning_rate\n",
        "        self.current_learning_rate = learning_rate\n",
        "        self.decay = decay\n",
        "        self.iterations = 0\n",
        "        self.epsilon = epsilon\n",
        "\n",
        "    # Call once before any parameter updates\n",
        "    def pre_update_params(self):\n",
        "        if self.decay:\n",
        "            self.current_learning_rate = self.learning_rate * \\\n",
        "                (1. / (1. + self.decay * self.iterations))\n",
        "\n",
        "    # Update parameters\n",
        "    def update_params(self, layer):\n",
        "\n",
        "        # If layer does not contain cache arrays,\n",
        "        # create them filled with zeros\n",
        "        if not hasattr(layer, 'weight_cache'):\n",
        "            layer.weight_cache = np.zeros_like(layer.weights)\n",
        "            layer.bias_cache = np.zeros_like(layer.biases)\n",
        "\n",
        "        # Update cache with squared current gradients\n",
        "        layer.weight_cache += layer.dweights**2\n",
        "        layer.bias_cache += layer.dbiases**2\n",
        "\n",
        "        # Vanilla SGD parameter update + normalization\n",
        "        # with square rooted cache\n",
        "        layer.weights += -self.current_learning_rate * \\\n",
        "                         layer.dweights / \\\n",
        "                         (np.sqrt(layer.weight_cache) + self.epsilon)\n",
        "        layer.biases += -self.current_learning_rate * \\\n",
        "                        layer.dbiases / \\\n",
        "                        (np.sqrt(layer.bias_cache) + self.epsilon)\n",
        "\n",
        "    # Call once after any parameter updates\n",
        "    def post_update_params(self):\n",
        "        self.iterations += 1\n",
        "\n",
        "\n",
        "# RMSprop optimizer\n",
        "class Optimizer_RMSprop:\n",
        "\n",
        "    # Initialize optimizer - set settings\n",
        "    def __init__(self, learning_rate=0.001, decay=0., epsilon=1e-7,\n",
        "                 rho=0.9):\n",
        "        self.learning_rate = learning_rate\n",
        "        self.current_learning_rate = learning_rate\n",
        "        self.decay = decay\n",
        "        self.iterations = 0\n",
        "        self.epsilon = epsilon\n",
        "        self.rho = rho\n",
        "\n",
        "    # Call once before any parameter updates\n",
        "    def pre_update_params(self):\n",
        "        if self.decay:\n",
        "            self.current_learning_rate = self.learning_rate * \\\n",
        "                (1. / (1. + self.decay * self.iterations))\n",
        "\n",
        "    # Update parameters\n",
        "    def update_params(self, layer):\n",
        "\n",
        "        # If layer does not contain cache arrays,\n",
        "        # create them filled with zeros\n",
        "        if not hasattr(layer, 'weight_cache'):\n",
        "            layer.weight_cache = np.zeros_like(layer.weights)\n",
        "            layer.bias_cache = np.zeros_like(layer.biases)\n",
        "\n",
        "        # Update cache with squared current gradients\n",
        "        layer.weight_cache = self.rho * layer.weight_cache + \\\n",
        "            (1 - self.rho) * layer.dweights**2\n",
        "        layer.bias_cache = self.rho * layer.bias_cache + \\\n",
        "            (1 - self.rho) * layer.dbiases**2\n",
        "\n",
        "        # Vanilla SGD parameter update + normalization\n",
        "        # with square rooted cache\n",
        "        layer.weights += -self.current_learning_rate * \\\n",
        "                         layer.dweights / \\\n",
        "                         (np.sqrt(layer.weight_cache) + self.epsilon)\n",
        "        layer.biases += -self.current_learning_rate * \\\n",
        "                        layer.dbiases / \\\n",
        "                        (np.sqrt(layer.bias_cache) + self.epsilon)\n",
        "\n",
        "    # Call once after any parameter updates\n",
        "    def post_update_params(self):\n",
        "        self.iterations += 1\n",
        "\n",
        "\n",
        "\n",
        "# Adam optimizer\n",
        "class Optimizer_Adam:\n",
        "\n",
        "    # Initialize optimizer - set settings\n",
        "    def __init__(self, learning_rate=0.001, decay=0., epsilon=1e-7,\n",
        "                 beta_1=0.9, beta_2=0.999):\n",
        "        self.learning_rate = learning_rate\n",
        "        self.current_learning_rate = learning_rate\n",
        "        self.decay = decay\n",
        "        self.iterations = 0\n",
        "        self.epsilon = epsilon\n",
        "        self.beta_1 = beta_1\n",
        "        self.beta_2 = beta_2\n",
        "\n",
        "    # Call once before any parameter updates\n",
        "    def pre_update_params(self):\n",
        "        if self.decay:\n",
        "            self.current_learning_rate = self.learning_rate * \\\n",
        "                (1. / (1. + self.decay * self.iterations))\n",
        "\n",
        "    # Update parameters\n",
        "    def update_params(self, layer):\n",
        "\n",
        "        # If layer does not contain cache arrays,\n",
        "        # create them filled with zeros\n",
        "        if not hasattr(layer, 'weight_cache'):\n",
        "            layer.weight_momentums = np.zeros_like(layer.weights)\n",
        "            layer.weight_cache = np.zeros_like(layer.weights)\n",
        "            layer.bias_momentums = np.zeros_like(layer.biases)\n",
        "            layer.bias_cache = np.zeros_like(layer.biases)\n",
        "\n",
        "        # Update momentum  with current gradients\n",
        "        layer.weight_momentums = self.beta_1 * \\\n",
        "                                 layer.weight_momentums + \\\n",
        "                                 (1 - self.beta_1) * layer.dweights\n",
        "        layer.bias_momentums = self.beta_1 * \\\n",
        "                               layer.bias_momentums + \\\n",
        "                               (1 - self.beta_1) * layer.dbiases\n",
        "        # Get corrected momentum\n",
        "        # self.iteration is 0 at first pass\n",
        "        # and we need to start with 1 here\n",
        "        weight_momentums_corrected = layer.weight_momentums / \\\n",
        "            (1 - self.beta_1 ** (self.iterations + 1))\n",
        "        bias_momentums_corrected = layer.bias_momentums / \\\n",
        "            (1 - self.beta_1 ** (self.iterations + 1))\n",
        "        # Update cache with squared current gradients\n",
        "        layer.weight_cache = self.beta_2 * layer.weight_cache + \\\n",
        "            (1 - self.beta_2) * layer.dweights**2\n",
        "\n",
        "        layer.bias_cache = self.beta_2 * layer.bias_cache + \\\n",
        "            (1 - self.beta_2) * layer.dbiases**2\n",
        "        # Get corrected cache\n",
        "        weight_cache_corrected = layer.weight_cache / \\\n",
        "            (1 - self.beta_2 ** (self.iterations + 1))\n",
        "        bias_cache_corrected = layer.bias_cache / \\\n",
        "            (1 - self.beta_2 ** (self.iterations + 1))\n",
        "\n",
        "        # Vanilla SGD parameter update + normalization\n",
        "        # with square rooted cache\n",
        "        layer.weights += -self.current_learning_rate * \\\n",
        "                         weight_momentums_corrected / \\\n",
        "                         (np.sqrt(weight_cache_corrected) +\n",
        "                             self.epsilon)\n",
        "        layer.biases += -self.current_learning_rate * \\\n",
        "                         bias_momentums_corrected / \\\n",
        "                         (np.sqrt(bias_cache_corrected) +\n",
        "                             self.epsilon)\n",
        "\n",
        "    # Call once after any parameter updates\n",
        "    def post_update_params(self):\n",
        "        self.iterations += 1\n",
        "\n",
        "\n",
        "# Common loss class\n",
        "class Loss:\n",
        "\n",
        "    # Calculates the data and regularization losses\n",
        "    # given model output and ground truth values\n",
        "    def calculate(self, output, y):\n",
        "\n",
        "        # Calculate sample losses\n",
        "        sample_losses = self.forward(output, y)\n",
        "\n",
        "        # Calculate mean loss\n",
        "        data_loss = np.mean(sample_losses)\n",
        "\n",
        "        # Return loss\n",
        "        return data_loss\n",
        "\n",
        "\n",
        "# Cross-entropy loss\n",
        "class Loss_CategoricalCrossentropy(Loss):\n",
        "\n",
        "    # Forward pass\n",
        "    def forward(self, y_pred, y_true):\n",
        "\n",
        "        # Number of samples in a batch\n",
        "        samples = len(y_pred)\n",
        "        # Clip data to prevent division by 0\n",
        "        # Clip both sides to not drag mean towards any value\n",
        "        y_pred_clipped = np.clip(y_pred, 1e-7, 1 - 1e-7)\n",
        "\n",
        "        # Probabilities for target values -\n",
        "        # only if categorical labels\n",
        "        if len(y_true.shape) == 1:\n",
        "            correct_confidences = y_pred_clipped[\n",
        "                range(samples),\n",
        "                y_true\n",
        "            ]\n",
        "\n",
        "        # Mask values - only for one-hot encoded labels\n",
        "        elif len(y_true.shape) == 2:\n",
        "            correct_confidences = np.sum(\n",
        "                y_pred_clipped * y_true,\n",
        "                axis=1\n",
        "            )\n",
        "\n",
        "        # Losses\n",
        "        negative_log_likelihoods = -np.log(correct_confidences)\n",
        "        return negative_log_likelihoods\n",
        "\n",
        "    # Backward pass\n",
        "    def backward(self, dvalues, y_true):\n",
        "\n",
        "        # Number of samples\n",
        "        samples = len(dvalues)\n",
        "        # Number of labels in every sample\n",
        "        # We'll use the first sample to count them\n",
        "        labels = len(dvalues[0])\n",
        "\n",
        "        # If labels are sparse, turn them into one-hot vector\n",
        "        if len(y_true.shape) == 1:\n",
        "            y_true = np.eye(labels)[y_true]\n",
        "\n",
        "        # Calculate gradient\n",
        "        self.dinputs = -y_true / dvalues\n",
        "        # Normalize gradient\n",
        "        self.dinputs = self.dinputs / samples\n",
        "\n",
        "\n",
        "\n",
        "# Softmax classifier - combined Softmax activation\n",
        "# and cross-entropy loss for faster backward step\n",
        "class Activation_Softmax_Loss_CategoricalCrossentropy():\n",
        "\n",
        "    # Creates activation and loss function objects\n",
        "    def __init__(self):\n",
        "        self.activation = Activation_Softmax()\n",
        "        self.loss = Loss_CategoricalCrossentropy()\n",
        "\n",
        "    # Forward pass\n",
        "    def forward(self, inputs, y_true):\n",
        "        # Output layer's activation function\n",
        "        self.activation.forward(inputs)\n",
        "        # Set the output\n",
        "        self.output = self.activation.output\n",
        "        # Calculate and return loss value\n",
        "        return self.loss.calculate(self.output, y_true)\n",
        "\n",
        "    # Backward pass\n",
        "    def backward(self, dvalues, y_true):\n",
        "\n",
        "        # Number of samples\n",
        "        samples = len(dvalues)\n",
        "\n",
        "        # If labels are one-hot encoded,\n",
        "        # turn them into discrete values\n",
        "        if len(y_true.shape) == 2:\n",
        "            y_true = np.argmax(y_true, axis=1)\n",
        "\n",
        "        # Copy so we can safely modify\n",
        "        self.dinputs = dvalues.copy()\n",
        "        # Calculate gradient\n",
        "        self.dinputs[range(samples), y_true] -= 1\n",
        "        # Normalize gradient\n",
        "        self.dinputs = self.dinputs / samples\n",
        "\n",
        "\n",
        "# Create dataset\n",
        "X, y = spiral_data(samples=100, classes=3)\n",
        "\n",
        "# Create Dense layer with 2 input features and 64 output values\n",
        "dense1 = Layer_Dense(2, 64)\n",
        "\n",
        "# Create ReLU activation (to be used with Dense layer):\n",
        "activation1 = Activation_ReLU()\n",
        "\n",
        "# Create second Dense layer with 64 input features (as we take output\n",
        "# of previous layer here) and 3 output values (output values)\n",
        "dense2 = Layer_Dense(64, 3)\n",
        "# Create Softmax classifier's combined loss and activation\n",
        "loss_activation = Activation_Softmax_Loss_CategoricalCrossentropy()\n",
        "\n",
        "# Create optimizer\n",
        "optimizer = Optimizer_Adam(learning_rate=0.05, decay=5e-7)\n",
        "\n",
        "# Train in loop\n",
        "for epoch in range(10001):\n",
        "\n",
        "    # Perform a forward pass of our training data through this layer\n",
        "    dense1.forward(X)\n",
        "\n",
        "    # Perform a forward pass through activation function\n",
        "    # takes the output of first dense layer here\n",
        "    activation1.forward(dense1.output)\n",
        "\n",
        "    # Perform a forward pass through second Dense layer\n",
        "    # takes outputs of activation function of first layer as inputs\n",
        "    dense2.forward(activation1.output)\n",
        "\n",
        "    # Perform a forward pass through the activation/loss function\n",
        "    # takes the output of second dense layer here and returns loss\n",
        "    loss = loss_activation.forward(dense2.output, y)\n",
        "\n",
        "    # Calculate accuracy from output of activation2 and targets\n",
        "    # calculate values along first axis\n",
        "    predictions = np.argmax(loss_activation.output, axis=1)\n",
        "    if len(y.shape) == 2:\n",
        "        y = np.argmax(y, axis=1)\n",
        "    accuracy = np.mean(predictions==y)\n",
        "\n",
        "    if not epoch % 100:\n",
        "        print(f'epoch: {epoch}, ' +\n",
        "              f'acc: {accuracy:.3f}, ' +\n",
        "              f'loss: {loss:.3f}, ' +\n",
        "              f'lr: {optimizer.current_learning_rate}')\n",
        "\n",
        "    # Backward pass\n",
        "    loss_activation.backward(loss_activation.output, y)\n",
        "    dense2.backward(loss_activation.dinputs)\n",
        "    activation1.backward(dense2.dinputs)\n",
        "    dense1.backward(activation1.dinputs)\n",
        "\n",
        "    # Update weights and biases\n",
        "    optimizer.pre_update_params()\n",
        "    optimizer.update_params(dense1)\n",
        "    optimizer.update_params(dense2)\n",
        "    optimizer.post_update_params()\n"
      ],
      "execution_count": null,
      "outputs": []
    }
  ]
}