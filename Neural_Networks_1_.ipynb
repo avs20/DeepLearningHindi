{
  "nbformat": 4,
  "nbformat_minor": 0,
  "metadata": {
    "colab": {
      "name": "Neural Networks -1 .ipynb",
      "provenance": [],
      "collapsed_sections": [],
      "authorship_tag": "ABX9TyNzjLxz/8OK0sjtixiPeB9x",
      "include_colab_link": true
    },
    "kernelspec": {
      "name": "python3",
      "display_name": "Python 3"
    },
    "language_info": {
      "name": "python"
    }
  },
  "cells": [
    {
      "cell_type": "markdown",
      "metadata": {
        "id": "view-in-github",
        "colab_type": "text"
      },
      "source": [
        "<a href=\"https://colab.research.google.com/github/avs20/DeepLearningHindi/blob/main/Neural_Networks_1_.ipynb\" target=\"_parent\"><img src=\"https://colab.research.google.com/assets/colab-badge.svg\" alt=\"Open In Colab\"/></a>"
      ]
    },
    {
      "cell_type": "markdown",
      "metadata": {
        "id": "4e74fnyNIoYf"
      },
      "source": [
        "What basically happnes at each neuron?"
      ]
    },
    {
      "cell_type": "code",
      "metadata": {
        "colab": {
          "base_uri": "https://localhost:8080/"
        },
        "id": "rvL4UIaKIGow",
        "outputId": "24e214bd-fc3c-4b4a-8b80-925ad9bf5dd4"
      },
      "source": [
        "inputs = [1, 2, 3]\n",
        "weights = [0.2, 0.8, -0.5]\n",
        "bias = 2 \n",
        "\n",
        "output = ( inputs[0]*weights[0] + \n",
        "           inputs[1]*weights[1] + \n",
        "           inputs[2]*weights[2] + bias )\n",
        "print(output)"
      ],
      "execution_count": null,
      "outputs": [
        {
          "output_type": "stream",
          "text": [
            "2.3\n"
          ],
          "name": "stdout"
        }
      ]
    },
    {
      "cell_type": "markdown",
      "metadata": {
        "id": "Yy0L4BGNIxif"
      },
      "source": [
        "What if we have 4 inputs?"
      ]
    },
    {
      "cell_type": "code",
      "metadata": {
        "colab": {
          "base_uri": "https://localhost:8080/"
        },
        "id": "vBdiGDa0Il1M",
        "outputId": "05e9737d-aa0c-4577-9c38-0bd230b97c95"
      },
      "source": [
        "inputs = [1, 2, 3, 2.5]\n",
        "weights = [0.2, 0.8, -0.5, 1.0]\n",
        "bias = 2 \n",
        "\n",
        "output = ( inputs[0]*weights[0] + \n",
        "           inputs[1]*weights[1] + \n",
        "           inputs[2]*weights[2] + \n",
        "           inputs[3]*weights[3] + bias )\n",
        "print(output)"
      ],
      "execution_count": null,
      "outputs": [
        {
          "output_type": "stream",
          "text": [
            "4.8\n"
          ],
          "name": "stdout"
        }
      ]
    },
    {
      "cell_type": "markdown",
      "metadata": {
        "id": "kGkKBqzJJKHO"
      },
      "source": [
        "Layers have more than 1 neurons.\n",
        "Each neuron in the neuron takes the same input, input given to the layer. \n",
        "But each neuron has it's own weight and bias\n"
      ]
    },
    {
      "cell_type": "code",
      "metadata": {
        "colab": {
          "base_uri": "https://localhost:8080/"
        },
        "id": "-hyZssrrI8gc",
        "outputId": "ea7018f1-6fd2-4807-a161-05c6516b15c7"
      },
      "source": [
        "inputs = [1, 2, 3, 2.5]\n",
        "weights0 = [0.2, 0.8, -0.5, 1.0]\n",
        "weights1 = [0.4,0.8,-0.6,-0.7]\n",
        "weights2 = [0.9, 0.4, 0.8, 0.9]\n",
        "\n",
        "bias1 = 2.0\n",
        "bias2 = -1.0\n",
        "bias3 = 0\n",
        "\n",
        "output = [ inputs[0] * weights0[0] + inputs[1] * weights0[1] + inputs[2] * weights0[2] + inputs[3]* weights0[3] + bias1 ,\n",
        "           inputs[0] * weights1[0] + inputs[1] * weights1[1] + inputs[2] * weights1[2] + inputs[3]* weights1[3] + bias2 ,\n",
        "           inputs[0] * weights2[0] + inputs[1] * weights2[1] + inputs[2] * weights2[2] + inputs[3]* weights2[3] + bias3 ]\n",
        "    \n",
        "print(output)\n",
        "          "
      ],
      "execution_count": null,
      "outputs": [
        {
          "output_type": "stream",
          "text": [
            "[4.8, -2.55, 6.3500000000000005]\n"
          ],
          "name": "stdout"
        }
      ]
    },
    {
      "cell_type": "code",
      "metadata": {
        "colab": {
          "base_uri": "https://localhost:8080/"
        },
        "id": "P9oDIaLrKdRF",
        "outputId": "fef30ef8-c684-41c3-a0bf-06e0c3202587"
      },
      "source": [
        "inputs = [1, 2, 3, 2.5]\n",
        "weights = [[0.2, 0.8, -0.5, 1.0],\n",
        "           [0.4,0.8,-0.6,-0.7],\n",
        "           [0.9, 0.4, 0.8, 0.9]]\n",
        "biases = [2.0, -1.0, 0]\n",
        "\n",
        "layer_outputs = []\n",
        "\n",
        "for neuron_weights, bias in zip(weights, biases):\n",
        "  output = 0\n",
        "\n",
        "  for input, weight in zip(inputs, neuron_weights):\n",
        "    output += input * weight\n",
        "  \n",
        "  # add bias \n",
        "  output += bias\n",
        "\n",
        "  # add to final \n",
        "  layer_outputs.append(output)\n",
        "\n",
        "print(layer_outputs)"
      ],
      "execution_count": null,
      "outputs": [
        {
          "output_type": "stream",
          "text": [
            "[4.8, -2.55, 6.3500000000000005]\n"
          ],
          "name": "stdout"
        }
      ]
    },
    {
      "cell_type": "markdown",
      "metadata": {
        "id": "pCyeFkucUsSO"
      },
      "source": [
        "Vectors and Dot product"
      ]
    },
    {
      "cell_type": "code",
      "metadata": {
        "id": "oY6a05loLQnX",
        "colab": {
          "base_uri": "https://localhost:8080/"
        },
        "outputId": "b2564ba1-4134-4ba2-aec8-eccb426d371a"
      },
      "source": [
        "import numpy as np \n",
        "\n",
        "inputs = [1, 2, 3]\n",
        "weights = [0.2, 0.8, -0.5]\n",
        "bias = 2 \n",
        "\n",
        "output = np.dot(inputs, weights) + bias\n",
        "print(output)"
      ],
      "execution_count": 6,
      "outputs": [
        {
          "output_type": "stream",
          "text": [
            "2.3\n"
          ],
          "name": "stdout"
        }
      ]
    },
    {
      "cell_type": "markdown",
      "metadata": {
        "id": "mrraL0QSVUQE"
      },
      "source": [
        "Layer of neurons"
      ]
    },
    {
      "cell_type": "code",
      "metadata": {
        "colab": {
          "base_uri": "https://localhost:8080/"
        },
        "id": "N8c6IM3WU4Fl",
        "outputId": "97faf19b-2ef6-43d7-b534-805b6e03b843"
      },
      "source": [
        "inputs = [1, 2, 3, 2.5]\n",
        "weights = [[0.2, 0.8, -0.5, 1.0],\n",
        "           [0.4,0.8,-0.6,-0.7],\n",
        "           [0.9, 0.4, 0.8, 0.9]]\n",
        "biases = [2.0, -1.0, 0]\n",
        "\n",
        "layer_outputs = np.dot(weights, inputs) +biases\n",
        "\n",
        "\n",
        "\n",
        "print(layer_outputs)"
      ],
      "execution_count": 7,
      "outputs": [
        {
          "output_type": "stream",
          "text": [
            "[ 4.8  -2.55  6.35]\n"
          ],
          "name": "stdout"
        }
      ]
    },
    {
      "cell_type": "code",
      "metadata": {
        "colab": {
          "base_uri": "https://localhost:8080/",
          "height": 288
        },
        "id": "iyORlXIrVaUq",
        "outputId": "ebc8f7fe-502b-4226-873a-80fb92f28172"
      },
      "source": [
        "inputs = [1, 2, 3, 2.5]\n",
        "weights = [[0.2, 0.8, -0.5, 1.0],\n",
        "           [0.4,0.8,-0.6,-0.7],\n",
        "           [0.9, 0.4, 0.8, 0.9]]\n",
        "biases = [2.0, -1.0, 0]\n",
        "\n",
        "layer_outputs = np.dot(inputs, weights) +biases\n",
        "\n",
        "\n",
        "\n",
        "print(layer_outputs)"
      ],
      "execution_count": 8,
      "outputs": [
        {
          "output_type": "error",
          "ename": "ValueError",
          "evalue": "ignored",
          "traceback": [
            "\u001b[0;31m---------------------------------------------------------------------------\u001b[0m",
            "\u001b[0;31mValueError\u001b[0m                                Traceback (most recent call last)",
            "\u001b[0;32m<ipython-input-8-30a4b0238793>\u001b[0m in \u001b[0;36m<module>\u001b[0;34m()\u001b[0m\n\u001b[1;32m      5\u001b[0m \u001b[0mbiases\u001b[0m \u001b[0;34m=\u001b[0m \u001b[0;34m[\u001b[0m\u001b[0;36m2.0\u001b[0m\u001b[0;34m,\u001b[0m \u001b[0;34m-\u001b[0m\u001b[0;36m1.0\u001b[0m\u001b[0;34m,\u001b[0m \u001b[0;36m0\u001b[0m\u001b[0;34m]\u001b[0m\u001b[0;34m\u001b[0m\u001b[0;34m\u001b[0m\u001b[0m\n\u001b[1;32m      6\u001b[0m \u001b[0;34m\u001b[0m\u001b[0m\n\u001b[0;32m----> 7\u001b[0;31m \u001b[0mlayer_outputs\u001b[0m \u001b[0;34m=\u001b[0m \u001b[0mnp\u001b[0m\u001b[0;34m.\u001b[0m\u001b[0mdot\u001b[0m\u001b[0;34m(\u001b[0m\u001b[0minputs\u001b[0m\u001b[0;34m,\u001b[0m \u001b[0mweights\u001b[0m\u001b[0;34m)\u001b[0m \u001b[0;34m+\u001b[0m\u001b[0mbiases\u001b[0m\u001b[0;34m\u001b[0m\u001b[0;34m\u001b[0m\u001b[0m\n\u001b[0m\u001b[1;32m      8\u001b[0m \u001b[0;34m\u001b[0m\u001b[0m\n\u001b[1;32m      9\u001b[0m \u001b[0;34m\u001b[0m\u001b[0m\n",
            "\u001b[0;32m<__array_function__ internals>\u001b[0m in \u001b[0;36mdot\u001b[0;34m(*args, **kwargs)\u001b[0m\n",
            "\u001b[0;31mValueError\u001b[0m: shapes (4,) and (3,4) not aligned: 4 (dim 0) != 3 (dim 0)"
          ]
        }
      ]
    },
    {
      "cell_type": "code",
      "metadata": {
        "colab": {
          "base_uri": "https://localhost:8080/"
        },
        "id": "dgZhz87FngIG",
        "outputId": "8c0e5c3c-621a-460a-fd41-d3be59fd4b11"
      },
      "source": [
        "import numpy as np \n",
        "inputs = [1, 2, 3]\n",
        "weights = [[0.2, 0.8, -0.5 ],\n",
        "           [0.4,0.8,-0.6],\n",
        "           [0.9, 0.4, 0.8]]\n",
        "biases = [2.0, -1.0, 0]\n",
        "\n",
        "layer_outputs = np.dot(inputs, weights) +biases\n",
        "\n",
        "\n",
        "\n",
        "print(layer_outputs)"
      ],
      "execution_count": 11,
      "outputs": [
        {
          "output_type": "stream",
          "text": [
            "[5.7 2.6 0.7]\n"
          ],
          "name": "stdout"
        }
      ]
    },
    {
      "cell_type": "markdown",
      "metadata": {
        "id": "h2yAVEmdXEA_"
      },
      "source": [
        "matrix multiplication is dot product of combination of rows from the first matrix and columns from the second matrix. \n"
      ]
    },
    {
      "cell_type": "markdown",
      "metadata": {
        "id": "JeCYG-z9Wr9Q"
      },
      "source": [
        "Data is often comes in input batche. \n",
        "\n",
        "What is a batch? a group of input data at a time. \n",
        "\n",
        "Now we need to multiply this group of input data with group of weights both are matrix"
      ]
    },
    {
      "cell_type": "code",
      "metadata": {
        "colab": {
          "base_uri": "https://localhost:8080/"
        },
        "id": "A46Sa9yrVkbz",
        "outputId": "10d64988-89fe-46cf-acdb-551ed143e026"
      },
      "source": [
        "a = np.array([1,2,3])\n",
        "b = np.array([4,5,6])\n",
        "\n",
        "output = np.dot(a,b)\n",
        "print(output)"
      ],
      "execution_count": 9,
      "outputs": [
        {
          "output_type": "stream",
          "text": [
            "32\n"
          ],
          "name": "stdout"
        }
      ]
    },
    {
      "cell_type": "code",
      "metadata": {
        "id": "p-fMTywLW0nd"
      },
      "source": [
        ""
      ],
      "execution_count": null,
      "outputs": []
    }
  ]
}