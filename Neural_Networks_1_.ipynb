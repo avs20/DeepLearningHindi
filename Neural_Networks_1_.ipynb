{
  "nbformat": 4,
  "nbformat_minor": 0,
  "metadata": {
    "colab": {
      "name": "Neural Networks -1 .ipynb",
      "provenance": [],
      "collapsed_sections": [],
      "authorship_tag": "ABX9TyP+xizpWnnAaMALv5mpE1XC",
      "include_colab_link": true
    },
    "kernelspec": {
      "name": "python3",
      "display_name": "Python 3"
    },
    "language_info": {
      "name": "python"
    }
  },
  "cells": [
    {
      "cell_type": "markdown",
      "metadata": {
        "id": "view-in-github",
        "colab_type": "text"
      },
      "source": [
        "<a href=\"https://colab.research.google.com/github/avs20/DeepLearningHindi/blob/main/Neural_Networks_1_.ipynb\" target=\"_parent\"><img src=\"https://colab.research.google.com/assets/colab-badge.svg\" alt=\"Open In Colab\"/></a>"
      ]
    },
    {
      "cell_type": "markdown",
      "metadata": {
        "id": "4e74fnyNIoYf"
      },
      "source": [
        "What basically happnes at each neuron?"
      ]
    },
    {
      "cell_type": "code",
      "metadata": {
        "colab": {
          "base_uri": "https://localhost:8080/"
        },
        "id": "rvL4UIaKIGow",
        "outputId": "24e214bd-fc3c-4b4a-8b80-925ad9bf5dd4"
      },
      "source": [
        "inputs = [1, 2, 3]\n",
        "weights = [0.2, 0.8, -0.5]\n",
        "bias = 2 \n",
        "\n",
        "output = ( inputs[0]*weights[0] + \n",
        "           inputs[1]*weights[1] + \n",
        "           inputs[2]*weights[2] + bias )\n",
        "print(output)"
      ],
      "execution_count": null,
      "outputs": [
        {
          "output_type": "stream",
          "text": [
            "2.3\n"
          ],
          "name": "stdout"
        }
      ]
    },
    {
      "cell_type": "markdown",
      "metadata": {
        "id": "Yy0L4BGNIxif"
      },
      "source": [
        "What if we have 4 inputs?"
      ]
    },
    {
      "cell_type": "code",
      "metadata": {
        "id": "BxhROePckKwJ"
      },
      "source": [
        ""
      ],
      "execution_count": null,
      "outputs": []
    },
    {
      "cell_type": "code",
      "metadata": {
        "colab": {
          "base_uri": "https://localhost:8080/"
        },
        "id": "vBdiGDa0Il1M",
        "outputId": "05e9737d-aa0c-4577-9c38-0bd230b97c95"
      },
      "source": [
        "inputs = [1, 2, 3, 2.5]\n",
        "weights = [0.2, 0.8, -0.5, 1.0]\n",
        "bias = 2 \n",
        "\n",
        "output = ( inputs[0]*weights[0] + \n",
        "           inputs[1]*weights[1] + \n",
        "           inputs[2]*weights[2] + \n",
        "           inputs[3]*weights[3] + bias )\n",
        "print(output)"
      ],
      "execution_count": null,
      "outputs": [
        {
          "output_type": "stream",
          "text": [
            "4.8\n"
          ],
          "name": "stdout"
        }
      ]
    },
    {
      "cell_type": "markdown",
      "metadata": {
        "id": "kGkKBqzJJKHO"
      },
      "source": [
        "Layers have more than 1 neurons.\n",
        "Each neuron in the neuron takes the same input, input given to the layer. \n",
        "But each neuron has it's own weight and bias\n"
      ]
    },
    {
      "cell_type": "code",
      "metadata": {
        "colab": {
          "base_uri": "https://localhost:8080/"
        },
        "id": "-hyZssrrI8gc",
        "outputId": "ea7018f1-6fd2-4807-a161-05c6516b15c7"
      },
      "source": [
        "inputs = [1, 2, 3, 2.5]\n",
        "weights0 = [0.2, 0.8, -0.5, 1.0]\n",
        "weights1 = [0.4,0.8,-0.6,-0.7]\n",
        "weights2 = [0.9, 0.4, 0.8, 0.9]\n",
        "\n",
        "bias1 = 2.0\n",
        "bias2 = -1.0\n",
        "bias3 = 0\n",
        "\n",
        "output = [ inputs[0] * weights0[0] + inputs[1] * weights0[1] + inputs[2] * weights0[2] + inputs[3]* weights0[3] + bias1 ,\n",
        "           inputs[0] * weights1[0] + inputs[1] * weights1[1] + inputs[2] * weights1[2] + inputs[3]* weights1[3] + bias2 ,\n",
        "           inputs[0] * weights2[0] + inputs[1] * weights2[1] + inputs[2] * weights2[2] + inputs[3]* weights2[3] + bias3 ]\n",
        "    \n",
        "print(output)\n",
        "          "
      ],
      "execution_count": null,
      "outputs": [
        {
          "output_type": "stream",
          "text": [
            "[4.8, -2.55, 6.3500000000000005]\n"
          ],
          "name": "stdout"
        }
      ]
    },
    {
      "cell_type": "code",
      "metadata": {
        "colab": {
          "base_uri": "https://localhost:8080/"
        },
        "id": "P9oDIaLrKdRF",
        "outputId": "fef30ef8-c684-41c3-a0bf-06e0c3202587"
      },
      "source": [
        "inputs = [1, 2, 3, 2.5]\n",
        "weights = [[0.2, 0.8, -0.5, 1.0],\n",
        "           [0.4,0.8,-0.6,-0.7],\n",
        "           [0.9, 0.4, 0.8, 0.9]]\n",
        "biases = [2.0, -1.0, 0]\n",
        "\n",
        "layer_outputs = []\n",
        "\n",
        "for neuron_weights, bias in zip(weights, biases):\n",
        "  output = 0\n",
        "\n",
        "  for input, weight in zip(inputs, neuron_weights):\n",
        "    output += input * weight\n",
        "  \n",
        "  # add bias \n",
        "  output += bias\n",
        "\n",
        "  # add to final \n",
        "  layer_outputs.append(output)\n",
        "\n",
        "print(layer_outputs)"
      ],
      "execution_count": null,
      "outputs": [
        {
          "output_type": "stream",
          "text": [
            "[4.8, -2.55, 6.3500000000000005]\n"
          ],
          "name": "stdout"
        }
      ]
    },
    {
      "cell_type": "markdown",
      "metadata": {
        "id": "pCyeFkucUsSO"
      },
      "source": [
        "Vectors and Dot product"
      ]
    },
    {
      "cell_type": "code",
      "metadata": {
        "id": "oY6a05loLQnX",
        "colab": {
          "base_uri": "https://localhost:8080/"
        },
        "outputId": "b2564ba1-4134-4ba2-aec8-eccb426d371a"
      },
      "source": [
        "import numpy as np \n",
        "\n",
        "inputs = [1, 2, 3]\n",
        "weights = [0.2, 0.8, -0.5]\n",
        "bias = 2 \n",
        "\n",
        "output = np.dot(inputs, weights) + bias\n",
        "print(output)"
      ],
      "execution_count": null,
      "outputs": [
        {
          "output_type": "stream",
          "text": [
            "2.3\n"
          ],
          "name": "stdout"
        }
      ]
    },
    {
      "cell_type": "markdown",
      "metadata": {
        "id": "mrraL0QSVUQE"
      },
      "source": [
        "Layer of neurons"
      ]
    },
    {
      "cell_type": "code",
      "metadata": {
        "colab": {
          "base_uri": "https://localhost:8080/"
        },
        "id": "N8c6IM3WU4Fl",
        "outputId": "97faf19b-2ef6-43d7-b534-805b6e03b843"
      },
      "source": [
        "inputs = [1, 2, 3, 2.5]\n",
        "weights = [[0.2, 0.8, -0.5, 1.0],\n",
        "           [0.4,0.8,-0.6,-0.7],\n",
        "           [0.9, 0.4, 0.8, 0.9]]\n",
        "biases = [2.0, -1.0, 0]\n",
        "\n",
        "layer_outputs = np.dot(weights, inputs) +biases\n",
        "\n",
        "\n",
        "\n",
        "print(layer_outputs)"
      ],
      "execution_count": null,
      "outputs": [
        {
          "output_type": "stream",
          "text": [
            "[ 4.8  -2.55  6.35]\n"
          ],
          "name": "stdout"
        }
      ]
    },
    {
      "cell_type": "code",
      "metadata": {
        "colab": {
          "base_uri": "https://localhost:8080/",
          "height": 288
        },
        "id": "iyORlXIrVaUq",
        "outputId": "ebc8f7fe-502b-4226-873a-80fb92f28172"
      },
      "source": [
        "inputs = [1, 2, 3, 2.5]\n",
        "weights = [[0.2, 0.8, -0.5, 1.0],\n",
        "           [0.4,0.8,-0.6,-0.7],\n",
        "           [0.9, 0.4, 0.8, 0.9]]\n",
        "biases = [2.0, -1.0, 0]\n",
        "\n",
        "layer_outputs = np.dot(inputs, weights) +biases\n",
        "\n",
        "\n",
        "\n",
        "print(layer_outputs)"
      ],
      "execution_count": null,
      "outputs": [
        {
          "output_type": "error",
          "ename": "ValueError",
          "evalue": "ignored",
          "traceback": [
            "\u001b[0;31m---------------------------------------------------------------------------\u001b[0m",
            "\u001b[0;31mValueError\u001b[0m                                Traceback (most recent call last)",
            "\u001b[0;32m<ipython-input-8-30a4b0238793>\u001b[0m in \u001b[0;36m<module>\u001b[0;34m()\u001b[0m\n\u001b[1;32m      5\u001b[0m \u001b[0mbiases\u001b[0m \u001b[0;34m=\u001b[0m \u001b[0;34m[\u001b[0m\u001b[0;36m2.0\u001b[0m\u001b[0;34m,\u001b[0m \u001b[0;34m-\u001b[0m\u001b[0;36m1.0\u001b[0m\u001b[0;34m,\u001b[0m \u001b[0;36m0\u001b[0m\u001b[0;34m]\u001b[0m\u001b[0;34m\u001b[0m\u001b[0;34m\u001b[0m\u001b[0m\n\u001b[1;32m      6\u001b[0m \u001b[0;34m\u001b[0m\u001b[0m\n\u001b[0;32m----> 7\u001b[0;31m \u001b[0mlayer_outputs\u001b[0m \u001b[0;34m=\u001b[0m \u001b[0mnp\u001b[0m\u001b[0;34m.\u001b[0m\u001b[0mdot\u001b[0m\u001b[0;34m(\u001b[0m\u001b[0minputs\u001b[0m\u001b[0;34m,\u001b[0m \u001b[0mweights\u001b[0m\u001b[0;34m)\u001b[0m \u001b[0;34m+\u001b[0m\u001b[0mbiases\u001b[0m\u001b[0;34m\u001b[0m\u001b[0;34m\u001b[0m\u001b[0m\n\u001b[0m\u001b[1;32m      8\u001b[0m \u001b[0;34m\u001b[0m\u001b[0m\n\u001b[1;32m      9\u001b[0m \u001b[0;34m\u001b[0m\u001b[0m\n",
            "\u001b[0;32m<__array_function__ internals>\u001b[0m in \u001b[0;36mdot\u001b[0;34m(*args, **kwargs)\u001b[0m\n",
            "\u001b[0;31mValueError\u001b[0m: shapes (4,) and (3,4) not aligned: 4 (dim 0) != 3 (dim 0)"
          ]
        }
      ]
    },
    {
      "cell_type": "code",
      "metadata": {
        "colab": {
          "base_uri": "https://localhost:8080/"
        },
        "id": "dgZhz87FngIG",
        "outputId": "8c0e5c3c-621a-460a-fd41-d3be59fd4b11"
      },
      "source": [
        "import numpy as np \n",
        "inputs = [1, 2, 3]\n",
        "weights = [[0.2, 0.8, -0.5 ],\n",
        "           [0.4,0.8,-0.6],\n",
        "           [0.9, 0.4, 0.8]]\n",
        "biases = [2.0, -1.0, 0]\n",
        "\n",
        "layer_outputs = np.dot(inputs, weights) +biases\n",
        "\n",
        "\n",
        "\n",
        "print(layer_outputs)"
      ],
      "execution_count": null,
      "outputs": [
        {
          "output_type": "stream",
          "text": [
            "[5.7 2.6 0.7]\n"
          ],
          "name": "stdout"
        }
      ]
    },
    {
      "cell_type": "markdown",
      "metadata": {
        "id": "h2yAVEmdXEA_"
      },
      "source": [
        "matrix multiplication is dot product of combination of rows from the first matrix and columns from the second matrix. \n"
      ]
    },
    {
      "cell_type": "markdown",
      "metadata": {
        "id": "JeCYG-z9Wr9Q"
      },
      "source": [
        "Data is often comes in input batche. \n",
        "\n",
        "What is a batch? a group of input data at a time. \n",
        "\n",
        "Now we need to multiply this group of input data with group of weights both are matrix"
      ]
    },
    {
      "cell_type": "code",
      "metadata": {
        "colab": {
          "base_uri": "https://localhost:8080/"
        },
        "id": "A46Sa9yrVkbz",
        "outputId": "10d64988-89fe-46cf-acdb-551ed143e026"
      },
      "source": [
        "a = np.array([1,2,3])\n",
        "b = np.array([4,5,6])\n",
        "\n",
        "output = np.dot(a,b)\n",
        "print(output)"
      ],
      "execution_count": null,
      "outputs": [
        {
          "output_type": "stream",
          "text": [
            "32\n"
          ],
          "name": "stdout"
        }
      ]
    },
    {
      "cell_type": "markdown",
      "metadata": {
        "id": "34MYLcCW9kwR"
      },
      "source": [
        "Batch of data with layer of neurons\n",
        "\n"
      ]
    },
    {
      "cell_type": "code",
      "metadata": {
        "id": "p-fMTywLW0nd",
        "colab": {
          "base_uri": "https://localhost:8080/"
        },
        "outputId": "9b51d149-32ae-4664-caae-61997ae8a3da"
      },
      "source": [
        "import numpy as np \n",
        "\n",
        "inputs = [[1.0, 2.0, 3.0, 2.5],\n",
        "          [2.0,5.0,-1.0,2.0],\n",
        "          [-1/5, 2.7, 3.3, -0.8]]\n",
        "      \n",
        "weights = [[0.2, 0.8, -0.5, 1.0],\n",
        "           [0.5, -0.91, 0.26, -0.5],\n",
        "           [-0.26, -0.27, 0.17, 0.87]]\n",
        "\n",
        "biases  = [2.0, 3.0, 0.5]\n",
        "\n",
        "layer_outputs = np.dot(inputs, np.array(weights).T) + biases\n",
        "\n",
        "print(layer_outputs)"
      ],
      "execution_count": null,
      "outputs": [
        {
          "output_type": "stream",
          "text": [
            "[[ 4.8    1.21   2.385]\n",
            " [ 8.9   -1.81   0.2  ]\n",
            " [ 1.67   1.701 -0.312]]\n"
          ],
          "name": "stdout"
        }
      ]
    },
    {
      "cell_type": "markdown",
      "metadata": {
        "id": "rIp1P2tXJgu4"
      },
      "source": [
        "## More hidden layers and non-linear data\n",
        "\n",
        "A deep neural network is a neural network with 2 or more hidden layers\n",
        "\n",
        "So for each layer we will have a different set of weights\n"
      ]
    },
    {
      "cell_type": "code",
      "metadata": {
        "id": "88MZDkRZ-Pfl"
      },
      "source": [
        "import numpy as np \n",
        "inputs = [1, 2, 3]\n",
        "weights = [[0.2, 0.8, -0.5 ],\n",
        "           [0.4,0.8,-0.6],\n",
        "           [0.9, 0.4, 0.8]]\n",
        "biases = [2.0, -1.0, 0]\n",
        "\n",
        "weights2 = [[ 0.1, -0.14, 0.5],\n",
        "            [-0.5, 0.12, -0.33],\n",
        "            [-0.44, 0.73, -0.13]]\n",
        "\n",
        "biases2 = [-1,2, -0.5]\n",
        "\n",
        "layer_outputs = np.dot(inputs, weights) +biases\n",
        "\n",
        "\n"
      ],
      "execution_count": null,
      "outputs": []
    },
    {
      "cell_type": "markdown",
      "metadata": {
        "id": "eWRQ-FjsKHHJ"
      },
      "source": [
        "###Q how many neurons we have in the second layer?\n"
      ]
    },
    {
      "cell_type": "code",
      "metadata": {
        "colab": {
          "base_uri": "https://localhost:8080/"
        },
        "id": "XtAwEp2uKK-B",
        "outputId": "cdde02f8-6a59-4447-cf73-fa0bb0b34630"
      },
      "source": [
        "import numpy as np \n",
        "inputs = [[1.0, 2.0, 3.0, 2.5],\n",
        "          [2.0,5.0,-1.0,2.0],\n",
        "          [-1/5, 2.7, 3.3, -0.8]]\n",
        "weights = [[0.2, 0.8, -0.5, 1.0],\n",
        "           [0.5, -0.91, 0.26, -0.5],\n",
        "           [-0.26, -0.27, 0.17, 0.87]]\n",
        "biases = [2.0, -1.0, 0]\n",
        "\n",
        "weights2 = [[ 0.1, -0.14, 0.5],\n",
        "            [-0.5, 0.12, -0.33],\n",
        "            [-0.44, 0.73, -0.13]]\n",
        "\n",
        "biases2 = [-1, 2, -0.5]\n",
        "\n",
        "layer1_outputs = np.dot(inputs, np.array(weights).T) +biases\n",
        "\n",
        "\n",
        "layer2_outputs = np.dot(layer1_outputs, np.array(weights2).T) + biases2\n",
        "\n",
        "print(layer2_outputs)"
      ],
      "execution_count": null,
      "outputs": [
        {
          "output_type": "stream",
          "text": [
            "[[ 0.8131  -1.35685 -4.89375]\n",
            " [ 0.5534  -3.0482  -8.6183 ]\n",
            " [-0.91714  1.15708 -2.80751]]\n"
          ],
          "name": "stdout"
        }
      ]
    },
    {
      "cell_type": "code",
      "metadata": {
        "colab": {
          "base_uri": "https://localhost:8080/"
        },
        "id": "FZrI_VM7KYHk",
        "outputId": "8f9b114e-5cc6-4d3a-9ea0-ca51127dc367"
      },
      "source": [
        "!pip install nnfs"
      ],
      "execution_count": null,
      "outputs": [
        {
          "output_type": "stream",
          "text": [
            "Collecting nnfs\n",
            "  Downloading https://files.pythonhosted.org/packages/06/8c/3003a41d5229e65da792331b060dcad8100a0a5b9760f8c2074cde864148/nnfs-0.5.1-py3-none-any.whl\n",
            "Requirement already satisfied: numpy in /usr/local/lib/python3.7/dist-packages (from nnfs) (1.19.5)\n",
            "Installing collected packages: nnfs\n",
            "Successfully installed nnfs-0.5.1\n"
          ],
          "name": "stdout"
        }
      ]
    },
    {
      "cell_type": "code",
      "metadata": {
        "id": "l9zr04ZsLDj5"
      },
      "source": [
        "import nnfs\n",
        "nnfs.init()"
      ],
      "execution_count": null,
      "outputs": []
    },
    {
      "cell_type": "code",
      "metadata": {
        "colab": {
          "base_uri": "https://localhost:8080/",
          "height": 266
        },
        "id": "6_5HFYddLK3U",
        "outputId": "e6514424-73c4-4baa-e16a-6fb97cf4e168"
      },
      "source": [
        "import matplotlib.pyplot as plt\n",
        "from nnfs.datasets import spiral_data\n",
        "X,y = spiral_data(samples=100, classes=3)\n",
        "plt.scatter(X[:,0], X[:,1])\n",
        "plt.show()"
      ],
      "execution_count": null,
      "outputs": [
        {
          "output_type": "display_data",
          "data": {
            "image/png": "[encoded data removed]",
            "text/plain": [
              "<Figure size 432x288 with 1 Axes>"
            ]
          },
          "metadata": {
            "tags": [],
            "needs_background": "light"
          }
        }
      ]
    },
    {
      "cell_type": "code",
      "metadata": {
        "colab": {
          "base_uri": "https://localhost:8080/",
          "height": 265
        },
        "id": "lnO35ahILaUB",
        "outputId": "250817a6-c3df-4bbd-bb29-1314919e75b1"
      },
      "source": [
        "import matplotlib.pyplot as plt\n",
        "from nnfs.datasets import spiral_data\n",
        "X,y = spiral_data(samples=100, classes=3)\n",
        "plt.scatter(X[:,0], X[:,1], c = y, cmap='brg')\n",
        "plt.show()"
      ],
      "execution_count": null,
      "outputs": [
        {
          "output_type": "display_data",
          "data": {
            "image/png": "[encoded data removed]",
            "text/plain": [
              "<Figure size 432x288 with 1 Axes>"
            ]
          },
          "metadata": {
            "tags": [],
            "needs_background": "light"
          }
        }
      ]
    },
    {
      "cell_type": "markdown",
      "metadata": {
        "id": "ocLIqmziL4VI"
      },
      "source": [
        "## Dense layer"
      ]
    },
    {
      "cell_type": "code",
      "metadata": {
        "colab": {
          "base_uri": "https://localhost:8080/"
        },
        "id": "65n7_RRpLw0S",
        "outputId": "4631f07e-a622-4d1c-f568-f64ba09fe00c"
      },
      "source": [
        "import numpy as np \n",
        "import nnfs\n",
        "from nnfs.datasets import spiral_data\n",
        "\n",
        "nnfs.init()\n",
        "#Dense Layer\n",
        "class Layer_Dense:\n",
        "\n",
        "  def __init__(self, n_inputs, n_neurons):\n",
        "    #initialize weight and biases\n",
        "    self.weights = 0.01 * np.random.randn(n_inputs, n_neurons)\n",
        "    self.biases = np.zeros((1,n_neurons))\n",
        "\n",
        "  # forwards pass\n",
        "  def forward(self, inputs):\n",
        "    self.output = np.dot(inputs, self.weights) + self.biases\n",
        "\n",
        "# test class\n",
        "\n",
        "X,y = spiral_data(samples = 100, classes=3)\n",
        "\n",
        "#create the layer\n",
        "dense1 = Layer_Dense(2, 3)\n",
        "\n",
        "#perform a forward pass\n",
        "dense1.forward(X)\n",
        "\n",
        "# see output\n",
        "print(dense1.output[:5])"
      ],
      "execution_count": null,
      "outputs": [
        {
          "output_type": "stream",
          "text": [
            "[[ 0.0000000e+00  0.0000000e+00  0.0000000e+00]\n",
            " [-1.0475188e-04  1.1395361e-04 -4.7983500e-05]\n",
            " [-2.7414842e-04  3.1729150e-04 -8.6921798e-05]\n",
            " [-4.2188365e-04  5.2666257e-04 -5.5912682e-05]\n",
            " [-5.7707680e-04  7.1401405e-04 -8.9430439e-05]]\n"
          ],
          "name": "stdout"
        }
      ]
    },
    {
      "cell_type": "markdown",
      "metadata": {
        "id": "j4ElCfFS-o3U"
      },
      "source": [
        "### Activation Functions\n",
        "\n",
        "Activation function is applied to the output of a neuron, which modifies outputs.\n",
        "\n",
        "We use activation function because is activation function is non-linear, it allows for neural networks with 2 or more layers to map non-linear functions.\n",
        "\n",
        "There are generally 2 types of activation functions used in NN. \n",
        "One in the hidden layers and 1 in the final output layer. \n",
        "\n",
        "How non-linearity comes will see later. Generally there are following types \n",
        "\n",
        "1. Step activation function \n",
        "2. Linear activation function (Last Layer for regression)\n",
        "3. Sigmoid activation function\n",
        "4. Rectified Linear Units \n",
        "\n",
        "\n",
        "Refs\n",
        "----\n",
        "1. https://towardsdatascience.com/if-rectified-linear-units-are-linear-how-do-they-add-nonlinearity-40247d3e4792\n",
        "\n"
      ]
    },
    {
      "cell_type": "markdown",
      "metadata": {
        "id": "RrHcBtZAZ20y"
      },
      "source": [
        "ReLU Activation : simple code \n"
      ]
    },
    {
      "cell_type": "code",
      "metadata": {
        "colab": {
          "base_uri": "https://localhost:8080/"
        },
        "id": "-GDM6Zz4altw",
        "outputId": "f39c801e-7386-40c0-cb1a-82178b390a0e"
      },
      "source": [
        "!pip install nnfs"
      ],
      "execution_count": null,
      "outputs": [
        {
          "output_type": "stream",
          "text": [
            "Collecting nnfs\n",
            "  Downloading https://files.pythonhosted.org/packages/06/8c/3003a41d5229e65da792331b060dcad8100a0a5b9760f8c2074cde864148/nnfs-0.5.1-py3-none-any.whl\n",
            "Requirement already satisfied: numpy in /usr/local/lib/python3.7/dist-packages (from nnfs) (1.19.5)\n",
            "Installing collected packages: nnfs\n",
            "Successfully installed nnfs-0.5.1\n"
          ],
          "name": "stdout"
        }
      ]
    },
    {
      "cell_type": "code",
      "metadata": {
        "id": "zqMQ5-2NMyGL",
        "colab": {
          "base_uri": "https://localhost:8080/"
        },
        "outputId": "7d151818-4b86-4a6d-c26e-b0711134fe0e"
      },
      "source": [
        "import numpy as np \n",
        "\n",
        "inputs = [0, 2, -1, 3.3, -2.7, 1.1, 2.2, -100]\n",
        "output = np.maximum(0, inputs)\n",
        "print(output)"
      ],
      "execution_count": null,
      "outputs": [
        {
          "output_type": "stream",
          "text": [
            "[0.  2.  0.  3.3 0.  1.1 2.2 0. ]\n"
          ],
          "name": "stdout"
        }
      ]
    },
    {
      "cell_type": "code",
      "metadata": {
        "id": "2tk8KBVaaCyW"
      },
      "source": [
        "# Relu Activation Class \n",
        "class Activation_Relu:\n",
        "\n",
        "  #forward pass \n",
        "  def forward(self, inputs):\n",
        "    # calculate max of 0, input values\n",
        "    self.output = np.maximum(0, inputs)\n",
        "    "
      ],
      "execution_count": null,
      "outputs": []
    },
    {
      "cell_type": "code",
      "metadata": {
        "colab": {
          "base_uri": "https://localhost:8080/"
        },
        "id": "d394Le7caPPW",
        "outputId": "7e8ea4e6-fbe5-4d89-a99c-adce87656ccd"
      },
      "source": [
        "#example \n",
        "import numpy as np \n",
        "import nnfs\n",
        "from nnfs.datasets import spiral_data\n",
        "\n",
        "nnfs.init()\n",
        "#Dense Layer\n",
        "class Layer_Dense:\n",
        "\n",
        "  def __init__(self, n_inputs, n_neurons):\n",
        "    #initialize weight and biases\n",
        "    self.weights = 0.01 * np.random.randn(n_inputs, n_neurons)\n",
        "    self.biases = np.zeros((1,n_neurons))\n",
        "\n",
        "  # forwards pass\n",
        "  def forward(self, inputs):\n",
        "    self.output = np.dot(inputs, self.weights) + self.biases\n",
        "\n",
        "# test class\n",
        "\n",
        "X,y = spiral_data(samples = 100, classes=3)\n",
        "\n",
        "#create the layer\n",
        "dense1 = Layer_Dense(2, 3)\n",
        "activation1 = Activation_Relu()\n",
        "\n",
        "#perform a forward pass\n",
        "dense1.forward(X)\n",
        "\n",
        "#perform activation of Relu\n",
        "activation1.forward(dense1.output)\n",
        "\n",
        "\n",
        "# see output\n",
        "print(activation1.output[:5])"
      ],
      "execution_count": null,
      "outputs": [
        {
          "output_type": "stream",
          "text": [
            "[[0.         0.         0.        ]\n",
            " [0.         0.00011395 0.        ]\n",
            " [0.         0.00031729 0.        ]\n",
            " [0.         0.00052666 0.        ]\n",
            " [0.         0.00071401 0.        ]]\n"
          ],
          "name": "stdout"
        }
      ]
    },
    {
      "cell_type": "markdown",
      "metadata": {
        "id": "btpa74zdasnS"
      },
      "source": [
        "We can see the values have been clipped to 0. "
      ]
    },
    {
      "cell_type": "markdown",
      "metadata": {
        "id": "2xFMcq_OcId2"
      },
      "source": [
        "### Softmax Activation Function"
      ]
    },
    {
      "cell_type": "code",
      "metadata": {
        "colab": {
          "base_uri": "https://localhost:8080/"
        },
        "id": "3bPWQbQmaTg3",
        "outputId": "2ce77170-e208-4f67-c938-1ef00e70a5d8"
      },
      "source": [
        "layer_outputs = [4.8, 1.21, 2.385]\n",
        "\n",
        "# need to do e^x\n",
        "# e = 2.71828182846\n",
        "\n",
        "exp_values = np.exp(layer_outputs)\n",
        "print(exp_values)"
      ],
      "execution_count": null,
      "outputs": [
        {
          "output_type": "stream",
          "text": [
            "[121.51041752   3.35348465  10.85906266]\n"
          ],
          "name": "stdout"
        }
      ]
    },
    {
      "cell_type": "markdown",
      "metadata": {
        "id": "LgIvJ3nKcpp6"
      },
      "source": [
        "Full softmax "
      ]
    },
    {
      "cell_type": "code",
      "metadata": {
        "colab": {
          "base_uri": "https://localhost:8080/"
        },
        "id": "6XHV_VVmcmHN",
        "outputId": "c317597e-db2b-4726-9916-ae358e6a1087"
      },
      "source": [
        "layer_outputs = [4.8, 1.21, 2.385]\n",
        "\n",
        "# need to do e^x\n",
        "# e = 2.71828182846\n",
        "\n",
        "exp_values = np.exp(layer_outputs)\n",
        "print(exp_values)\n",
        "\n",
        "# now normalize them \n",
        "norm_values = exp_values / np.sum(exp_values)\n",
        "print(norm_values)\n",
        "\n",
        "print(\"sum of normalized values: \", np.sum(norm_values))"
      ],
      "execution_count": null,
      "outputs": [
        {
          "output_type": "stream",
          "text": [
            "[121.51041752   3.35348465  10.85906266]\n",
            "[0.89528266 0.02470831 0.08000903]\n",
            "sum of normalized values:  0.9999999999999999\n"
          ],
          "name": "stdout"
        }
      ]
    },
    {
      "cell_type": "markdown",
      "metadata": {
        "id": "JxpCWfxCdpmk"
      },
      "source": [
        "For batches"
      ]
    },
    {
      "cell_type": "code",
      "metadata": {
        "colab": {
          "base_uri": "https://localhost:8080/"
        },
        "id": "tgb8mqBxdlkg",
        "outputId": "06543410-60d0-4197-d825-8c35f39f3999"
      },
      "source": [
        "layer_outputs = np.array([[4.8, 1.21, 2.385],\n",
        "                          [8.9, -1.81, 0.2],\n",
        "                          [1.41, 1.051, 0.026]])\n",
        "\n",
        "print(\"sum without axis\", np.sum(layer_outputs))"
      ],
      "execution_count": null,
      "outputs": [
        {
          "output_type": "stream",
          "text": [
            "sum without axis 18.172\n"
          ],
          "name": "stdout"
        }
      ]
    },
    {
      "cell_type": "code",
      "metadata": {
        "colab": {
          "base_uri": "https://localhost:8080/"
        },
        "id": "QKk-RKUWee9p",
        "outputId": "2a2819f5-a8fd-4b65-e069-46627df7903c"
      },
      "source": [
        "print(\"sum with axis = 0 \", np.sum(layer_outputs, axis = 0))"
      ],
      "execution_count": null,
      "outputs": [
        {
          "output_type": "stream",
          "text": [
            "sum with axis = 0  [15.11   0.451  2.611]\n"
          ],
          "name": "stdout"
        }
      ]
    },
    {
      "cell_type": "code",
      "metadata": {
        "colab": {
          "base_uri": "https://localhost:8080/"
        },
        "id": "lF_6qDQ3ekrP",
        "outputId": "880ca3a1-5839-433a-d139-75445f678349"
      },
      "source": [
        "print(\"sum with axis = 1 \", np.sum(layer_outputs, axis = 1))"
      ],
      "execution_count": null,
      "outputs": [
        {
          "output_type": "stream",
          "text": [
            "sum with axis = 1  [8.395 7.29  2.487]\n"
          ],
          "name": "stdout"
        }
      ]
    },
    {
      "cell_type": "code",
      "metadata": {
        "colab": {
          "base_uri": "https://localhost:8080/"
        },
        "id": "465dw3D4enpZ",
        "outputId": "304c5967-534a-45f4-9ec3-9788116623ff"
      },
      "source": [
        "# to simplify to single value per sample, use keep_dims\n",
        "print(\"sum with axis = 1 \", np.sum(layer_outputs, axis = 1, keepdims=True))"
      ],
      "execution_count": null,
      "outputs": [
        {
          "output_type": "stream",
          "text": [
            "sum with axis = 1  [[8.395]\n",
            " [7.29 ]\n",
            " [2.487]]\n"
          ],
          "name": "stdout"
        }
      ]
    },
    {
      "cell_type": "markdown",
      "metadata": {
        "id": "qYpW-1vffGAC"
      },
      "source": [
        "\n",
        "\n",
        "Softmax Activation Code"
      ]
    },
    {
      "cell_type": "code",
      "metadata": {
        "id": "f2mchQCQfCcQ"
      },
      "source": [
        "#Softmax Activation\n",
        "class Activation_Softmax:\n",
        "\n",
        "  # forward pass \n",
        "  def forward(self, inputs):\n",
        "\n",
        "    exp_values = np.exp(inputs - np.max(inputs, axis = 1, keepdims=True))\n",
        "\n",
        "    #normalize\n",
        "    probs = exp_values / np.sum(exp_values, axis = 1, keepdims=True)\n",
        "\n",
        "    self.output = probs\n",
        "  "
      ],
      "execution_count": null,
      "outputs": []
    },
    {
      "cell_type": "code",
      "metadata": {
        "id": "QblO6R7EfjC_"
      },
      "source": [
        ""
      ],
      "execution_count": null,
      "outputs": []
    },
    {
      "cell_type": "markdown",
      "metadata": {
        "id": "4aAE0BP-fxrP"
      },
      "source": [
        "Exponent\n"
      ]
    },
    {
      "cell_type": "code",
      "metadata": {
        "colab": {
          "base_uri": "https://localhost:8080/"
        },
        "id": "4khkxb3Hfy44",
        "outputId": "2dbde7e9-057c-46de-db48-252f86df8467"
      },
      "source": [
        "np.exp(-100)"
      ],
      "execution_count": null,
      "outputs": [
        {
          "output_type": "execute_result",
          "data": {
            "text/plain": [
              "3.720075976020836e-44"
            ]
          },
          "metadata": {
            "tags": []
          },
          "execution_count": 15
        }
      ]
    },
    {
      "cell_type": "code",
      "metadata": {
        "colab": {
          "base_uri": "https://localhost:8080/"
        },
        "id": "leILyMxqf0Lq",
        "outputId": "cfdc566f-425f-4e0e-b02b-8e17fefd1ad5"
      },
      "source": [
        "np.exp(-10)"
      ],
      "execution_count": null,
      "outputs": [
        {
          "output_type": "execute_result",
          "data": {
            "text/plain": [
              "4.5399929762484854e-05"
            ]
          },
          "metadata": {
            "tags": []
          },
          "execution_count": 16
        }
      ]
    },
    {
      "cell_type": "code",
      "metadata": {
        "colab": {
          "base_uri": "https://localhost:8080/"
        },
        "id": "OzFmyWO9f1T1",
        "outputId": "14a98d10-daa3-46ed-cbc3-51e9fa0b53c1"
      },
      "source": [
        "np.exp(0)"
      ],
      "execution_count": null,
      "outputs": [
        {
          "output_type": "execute_result",
          "data": {
            "text/plain": [
              "1.0"
            ]
          },
          "metadata": {
            "tags": []
          },
          "execution_count": 17
        }
      ]
    },
    {
      "cell_type": "code",
      "metadata": {
        "colab": {
          "base_uri": "https://localhost:8080/"
        },
        "id": "7ic3tchhf2Mc",
        "outputId": "50580099-14d7-42bd-f62a-911c730e9ece"
      },
      "source": [
        "np.exp(10)"
      ],
      "execution_count": null,
      "outputs": [
        {
          "output_type": "execute_result",
          "data": {
            "text/plain": [
              "22026.465794806718"
            ]
          },
          "metadata": {
            "tags": []
          },
          "execution_count": 18
        }
      ]
    },
    {
      "cell_type": "code",
      "metadata": {
        "colab": {
          "base_uri": "https://localhost:8080/"
        },
        "id": "GuWQqSmDf6Sh",
        "outputId": "57927eb2-76bb-48ad-a0d1-d2e273d854b9"
      },
      "source": [
        "np.exp(100)"
      ],
      "execution_count": null,
      "outputs": [
        {
          "output_type": "execute_result",
          "data": {
            "text/plain": [
              "2.6881171418161356e+43"
            ]
          },
          "metadata": {
            "tags": []
          },
          "execution_count": 19
        }
      ]
    },
    {
      "cell_type": "code",
      "metadata": {
        "colab": {
          "base_uri": "https://localhost:8080/"
        },
        "id": "AD9GrnCJf9np",
        "outputId": "98ef0188-e014-43e4-cf35-fba4511ef37e"
      },
      "source": [
        "np.exp(1000)"
      ],
      "execution_count": null,
      "outputs": [
        {
          "output_type": "stream",
          "text": [
            "/usr/local/lib/python3.7/dist-packages/ipykernel_launcher.py:1: RuntimeWarning: overflow encountered in exp\n",
            "  \"\"\"Entry point for launching an IPython kernel.\n"
          ],
          "name": "stderr"
        },
        {
          "output_type": "execute_result",
          "data": {
            "text/plain": [
              "inf"
            ]
          },
          "metadata": {
            "tags": []
          },
          "execution_count": 20
        }
      ]
    },
    {
      "cell_type": "code",
      "metadata": {
        "colab": {
          "base_uri": "https://localhost:8080/"
        },
        "id": "7hPSob2mf-l4",
        "outputId": "65afaede-773e-4915-ec14-80f714be2313"
      },
      "source": [
        "softmax = Activation_Softmax()\n",
        "\n",
        "input = [[1,2,3]]\n",
        "\n",
        "softmax.forward(input)\n",
        "print(softmax.output)"
      ],
      "execution_count": null,
      "outputs": [
        {
          "output_type": "stream",
          "text": [
            "[[0.09003057 0.24472847 0.66524096]]\n"
          ],
          "name": "stdout"
        }
      ]
    },
    {
      "cell_type": "code",
      "metadata": {
        "colab": {
          "base_uri": "https://localhost:8080/"
        },
        "id": "veP3ehuhggKP",
        "outputId": "c73b67b5-6584-44e8-b75f-bf72ada139e7"
      },
      "source": [
        "input = [[-2,-1,0]]\n",
        "\n",
        "softmax.forward(input)\n",
        "print(softmax.output)"
      ],
      "execution_count": null,
      "outputs": [
        {
          "output_type": "stream",
          "text": [
            "[[0.09003057 0.24472847 0.66524096]]\n"
          ],
          "name": "stdout"
        }
      ]
    },
    {
      "cell_type": "markdown",
      "metadata": {
        "id": "ygnayfuHgzKY"
      },
      "source": [
        "Final Code "
      ]
    },
    {
      "cell_type": "code",
      "metadata": {
        "colab": {
          "base_uri": "https://localhost:8080/"
        },
        "id": "5mn-Quxqgryh",
        "outputId": "7aac4615-f633-4525-91d1-ebfd704489cb"
      },
      "source": [
        "#example \n",
        "import numpy as np \n",
        "import nnfs\n",
        "from nnfs.datasets import spiral_data\n",
        "\n",
        "nnfs.init()\n",
        "#Dense Layer\n",
        "class Layer_Dense:\n",
        "\n",
        "  def __init__(self, n_inputs, n_neurons):\n",
        "    #initialize weight and biases\n",
        "    self.weights = 0.01 * np.random.randn(n_inputs, n_neurons)\n",
        "    self.biases = np.zeros((1,n_neurons))\n",
        "\n",
        "  # forwards pass\n",
        "  def forward(self, inputs):\n",
        "    self.output = np.dot(inputs, self.weights) + self.biases\n",
        "\n",
        "# test class\n",
        "\n",
        "X,y = spiral_data(samples = 100, classes=3)\n",
        "\n",
        "#create the layer\n",
        "dense1 = Layer_Dense(2, 3)\n",
        "activation1 = Activation_Relu()\n",
        "activation2 = Activation_Softmax()\n",
        "\n",
        "#perform a forward pass\n",
        "dense1.forward(X)\n",
        "\n",
        "#perform activation of Relu\n",
        "activation1.forward(dense1.output)\n",
        "\n",
        "#perform softmax\n",
        "activation2.forward(activation1.output)\n",
        "\n",
        "# see output\n",
        "print(activation2.output[:5])"
      ],
      "execution_count": null,
      "outputs": [
        {
          "output_type": "stream",
          "text": [
            "[[0.33333334 0.33333334 0.33333334]\n",
            " [0.33332068 0.33335868 0.33332068]\n",
            " [0.3332981  0.33340386 0.3332981 ]\n",
            " [0.3332748  0.3334504  0.3332748 ]\n",
            " [0.33325398 0.33349204 0.33325398]]\n"
          ],
          "name": "stdout"
        }
      ]
    },
    {
      "cell_type": "markdown",
      "metadata": {
        "id": "JJoRO_LRiBk0"
      },
      "source": [
        "# assignment \n",
        "Think about how to model sine wave using neural networks?\n",
        "\n",
        "Can a neural network do this? We have not learned about training but think about the first steps. \n",
        "\n",
        "You need a dataset to train upon. How can you create that dataset?\n",
        "\n",
        "Try to create a sine wave dataset. \n",
        "\n"
      ]
    },
    {
      "cell_type": "markdown",
      "metadata": {
        "id": "x8ibRs5fytDO"
      },
      "source": [
        "Categorical Cross Entropy\n",
        "\n"
      ]
    },
    {
      "cell_type": "code",
      "metadata": {
        "id": "_41MFWHqhGWz",
        "colab": {
          "base_uri": "https://localhost:8080/"
        },
        "outputId": "5f1164f1-5398-41ce-efe3-1d1c66dd687e"
      },
      "source": [
        "import math\n",
        "output = [0.7, 0.1 , 0.2]\n",
        "\n",
        "target = [1, 0, 0 ]\n",
        "\n",
        "\n",
        "loss = -(math.log(output[0]) * target[0] + \n",
        "                 math.log(output[1]) * target[1]+\n",
        "                 math.log(output[2]) * target[2])\n",
        "\n",
        "print(loss)"
      ],
      "execution_count": null,
      "outputs": [
        {
          "output_type": "stream",
          "text": [
            "0.35667494393873245\n"
          ],
          "name": "stdout"
        }
      ]
    },
    {
      "cell_type": "code",
      "metadata": {
        "colab": {
          "base_uri": "https://localhost:8080/"
        },
        "id": "eks2bKtdy9t2",
        "outputId": "1517063f-3974-4faf-9334-8ecd14a194c1"
      },
      "source": [
        "# our numpy solution \n",
        "import numpy as np \n",
        "np.sum(-1*np.log(np.asarray(output)) * np.asarray(target))"
      ],
      "execution_count": null,
      "outputs": [
        {
          "output_type": "execute_result",
          "data": {
            "text/plain": [
              "0.35667494393873245"
            ]
          },
          "metadata": {
            "tags": []
          },
          "execution_count": 10
        }
      ]
    },
    {
      "cell_type": "code",
      "metadata": {
        "colab": {
          "base_uri": "https://localhost:8080/"
        },
        "id": "8WxtkqzOzPfg",
        "outputId": "42ee921d-f837-4c40-c9fc-a8f988f37ee6"
      },
      "source": [
        "print(math.log(1))\n",
        "print(math.log(0.95))\n",
        "print(math.log(0.9))\n",
        "print(math.log(0.8))\n",
        "print(math.log(0.2))\n",
        "print(math.log(0.1))\n",
        "print(math.log(0.05))\n",
        "print(math.log(0.01))"
      ],
      "execution_count": null,
      "outputs": [
        {
          "output_type": "stream",
          "text": [
            "0.0\n",
            "-0.05129329438755058\n",
            "-0.10536051565782628\n",
            "-0.2231435513142097\n",
            "-1.6094379124341003\n",
            "-2.3025850929940455\n",
            "-2.995732273553991\n",
            "-4.605170185988091\n"
          ],
          "name": "stdout"
        }
      ]
    },
    {
      "cell_type": "markdown",
      "metadata": {
        "id": "ez9A2iiq0Rc5"
      },
      "source": [
        "Calcualting loss "
      ]
    },
    {
      "cell_type": "code",
      "metadata": {
        "colab": {
          "base_uri": "https://localhost:8080/"
        },
        "id": "9VqGAkbyzfhn",
        "outputId": "34cadc1c-6c92-4c6a-92c8-df00fae1ccd8"
      },
      "source": [
        "softmax_outputs = np.array([[0.7, 0.1, 0.2],\n",
        "                   [0.1, 0.5, 0.4],\n",
        "                   [0.02, 0.9, 0.08]])\n",
        "\n",
        "class_targets = [0, 1, 1]\n",
        "\n",
        "#use numpy indexing to get the correct confidence scores \n",
        "print(softmax_outputs[range(len(softmax_outputs)), class_targets])\n",
        "\n"
      ],
      "execution_count": null,
      "outputs": [
        {
          "output_type": "stream",
          "text": [
            "[0.7 0.5 0.9]\n"
          ],
          "name": "stdout"
        }
      ]
    },
    {
      "cell_type": "code",
      "metadata": {
        "colab": {
          "base_uri": "https://localhost:8080/"
        },
        "id": "Ijj8XFQq03CA",
        "outputId": "8b7587ba-0e6d-404c-986b-e1957e6f0804"
      },
      "source": [
        "negLog = -np.log(softmax_outputs[range(len(softmax_outputs)), class_targets])\n",
        "\n",
        "avg_loss = np.mean(negLog)\n",
        "\n",
        "print(avg_loss)"
      ],
      "execution_count": null,
      "outputs": [
        {
          "output_type": "stream",
          "text": [
            "0.38506088005216804\n"
          ],
          "name": "stdout"
        }
      ]
    },
    {
      "cell_type": "markdown",
      "metadata": {
        "id": "3shsHer21e5d"
      },
      "source": [
        "## One hot encoded values. \n"
      ]
    },
    {
      "cell_type": "code",
      "metadata": {
        "colab": {
          "base_uri": "https://localhost:8080/"
        },
        "id": "X85R8wQM1Zqf",
        "outputId": "170b2f83-951f-4c03-f491-033aa78c26ce"
      },
      "source": [
        "softmax_outputs = np.array([[0.7, 0.1, 0.2],\n",
        "                   [0.1, 0.5, 0.4],\n",
        "                   [0.02, 0.9, 0.08]])\n",
        "\n",
        "class_targets = np.array([[1, 0, 0],\n",
        "                          [0,1,0],\n",
        "                         [0,1,0]])\n",
        "\n",
        "print(np.sum(softmax_outputs * class_targets, axis = 1))\n",
        "negLog = -1 * np.log(np.sum(softmax_outputs * class_targets, axis = 1))\n",
        "avg_loss = np.mean(negLog)\n",
        "print(avg_loss)"
      ],
      "execution_count": null,
      "outputs": [
        {
          "output_type": "stream",
          "text": [
            "[0.7 0.5 0.9]\n",
            "0.38506088005216804\n"
          ],
          "name": "stdout"
        }
      ]
    },
    {
      "cell_type": "markdown",
      "metadata": {
        "id": "FN-P7pwk4bP-"
      },
      "source": [
        "Problems with log "
      ]
    },
    {
      "cell_type": "code",
      "metadata": {
        "colab": {
          "base_uri": "https://localhost:8080/"
        },
        "id": "F1pS8Nqf37Pt",
        "outputId": "fd56f29c-6f7c-4413-a515-ce8e8f14f364"
      },
      "source": [
        "np.log(0)"
      ],
      "execution_count": null,
      "outputs": [
        {
          "output_type": "stream",
          "text": [
            "/usr/local/lib/python3.7/dist-packages/ipykernel_launcher.py:1: RuntimeWarning: divide by zero encountered in log\n",
            "  \"\"\"Entry point for launching an IPython kernel.\n"
          ],
          "name": "stderr"
        },
        {
          "output_type": "execute_result",
          "data": {
            "text/plain": [
              "-inf"
            ]
          },
          "metadata": {
            "tags": []
          },
          "execution_count": 20
        }
      ]
    },
    {
      "cell_type": "code",
      "metadata": {
        "colab": {
          "base_uri": "https://localhost:8080/"
        },
        "id": "uLJERz_B4dvH",
        "outputId": "33b8541f-1b0b-422e-dadf-ce06b1ee0514"
      },
      "source": [
        "-np.log(1.0000001)"
      ],
      "execution_count": null,
      "outputs": [
        {
          "output_type": "execute_result",
          "data": {
            "text/plain": [
              "-9.999999505838704e-08"
            ]
          },
          "metadata": {
            "tags": []
          },
          "execution_count": 21
        }
      ]
    },
    {
      "cell_type": "markdown",
      "metadata": {
        "id": "efdQ4NEu4pBR"
      },
      "source": [
        "add a very small value to the actual values like 1e-7\n",
        "\n"
      ]
    },
    {
      "cell_type": "code",
      "metadata": {
        "id": "_zYItRv54gEO"
      },
      "source": [
        "softmax_outputs = np.array([[0.7, 0.1, 0.2],\n",
        "                   [0.1, 0.5, 0.4],\n",
        "                   [0.02, 0.9, 0.08]])\n",
        "\n",
        "class_targets = np.array([[1, 0, 0],\n",
        "                          [1,0,0],\n",
        "                         [0,1,0]])\n",
        "\n",
        "actual_scores = np.sum(softmax_outputs * class_targets, axis = 1)\n",
        "\n",
        "actual_scores += 1e-7\n",
        "\n"
      ],
      "execution_count": null,
      "outputs": []
    },
    {
      "cell_type": "code",
      "metadata": {
        "colab": {
          "base_uri": "https://localhost:8080/"
        },
        "id": "4yVGvz2X48Kw",
        "outputId": "4f6fe102-6b6a-4c39-f309-53547789d97f"
      },
      "source": [
        "print(actual_scores)"
      ],
      "execution_count": null,
      "outputs": [
        {
          "output_type": "stream",
          "text": [
            "[0.7000001 0.5000001 0.9000001]\n"
          ],
          "name": "stdout"
        }
      ]
    },
    {
      "cell_type": "code",
      "metadata": {
        "colab": {
          "base_uri": "https://localhost:8080/"
        },
        "id": "6n9T9WUi4-Ww",
        "outputId": "1df98f6f-c040-4adf-9379-cd92fbe1df74"
      },
      "source": [
        "preds = np.array([0, 1, 0.5])\n",
        "preds += 1e-7\n",
        "\n",
        "preds = np.clip(preds, 1e-7, 1-1e-7)\n",
        "np.clip()\n",
        "print(preds)\n",
        "\n",
        "-np.log(preds)\n"
      ],
      "execution_count": null,
      "outputs": [
        {
          "output_type": "stream",
          "text": [
            "[1.000000e-07 9.999999e-01 5.000001e-01]\n"
          ],
          "name": "stdout"
        },
        {
          "output_type": "execute_result",
          "data": {
            "text/plain": [
              "array([1.61180957e+01, 1.00000005e-07, 6.93146981e-01])"
            ]
          },
          "metadata": {
            "tags": []
          },
          "execution_count": 26
        }
      ]
    },
    {
      "cell_type": "markdown",
      "metadata": {
        "id": "gTnSPanL5zeN"
      },
      "source": [
        "Final Code "
      ]
    },
    {
      "cell_type": "code",
      "metadata": {
        "id": "uWvL0gd75b8I"
      },
      "source": [
        "# Common loss class \n",
        "\n",
        "class Loss : \n",
        "\n",
        "  #calculates data and reg loss given model output and truth values \n",
        "  def calculate(self, output, y):\n",
        "\n",
        "    #calculate sample losses \n",
        "\n",
        "    sample_losses = self.forward(output, y )\n",
        "\n",
        "    #mean loss \n",
        "    data_loss = np.mean(sample_losses)\n",
        "\n",
        "    #return \n",
        "    return data_loss \n",
        "\n",
        "\n",
        "\n",
        "\n",
        "  \n"
      ],
      "execution_count": null,
      "outputs": []
    },
    {
      "cell_type": "code",
      "metadata": {
        "id": "zEAeMjaU6MCo"
      },
      "source": [
        "# Categorical Cross Entropy Loss \n",
        "\n",
        "class Loss_CategoricalCrossEntropy(Loss):\n",
        "\n",
        "  #forward pass \n",
        "  def forward(self, y_pred, y_true):\n",
        "\n",
        "    #number of samples in a batch \n",
        "    samples = len(y_pred)\n",
        "\n",
        "    #clip data to remove log 0 and negative loss \n",
        "    y_pred_clipped = np.clip(y_pred, 1e-7, 1-1e-7)\n",
        "\n",
        "    #probs for target values \n",
        "\n",
        "    #if categorical labels \n",
        "    if len(y_true.shape) == 1:\n",
        "      confidences = y_pred_clipped[range(samples), y_true]\n",
        "    \n",
        "    elif len(y_true.shape) == 2:\n",
        "      confidences = np.sum(y_pred_clipped * y_true, axis = 1)\n",
        "\n",
        "    #Losses\n",
        "    negLog = -np.log(confidences)\n",
        "\n",
        "    return negLog\n",
        "    "
      ],
      "execution_count": null,
      "outputs": []
    },
    {
      "cell_type": "markdown",
      "metadata": {
        "id": "qr2L3C1z6bHC"
      },
      "source": [
        ""
      ]
    },
    {
      "cell_type": "code",
      "metadata": {
        "colab": {
          "base_uri": "https://localhost:8080/"
        },
        "id": "Fqzbqw6l6SQv",
        "outputId": "ac11ca76-9f56-45a9-f36b-6099ce8ec822"
      },
      "source": [
        "loss_fucntion = Loss_CategoricalCrossEntropy()\n",
        "loss = loss_fucntion.calculate(softmax_outputs, class_targets)\n",
        "print(loss)"
      ],
      "execution_count": null,
      "outputs": [
        {
          "output_type": "stream",
          "text": [
            "0.38506088005216804\n"
          ],
          "name": "stdout"
        }
      ]
    },
    {
      "cell_type": "markdown",
      "metadata": {
        "id": "MAVuiWKd7Tsk"
      },
      "source": [
        "Calculating Accuracy"
      ]
    },
    {
      "cell_type": "code",
      "metadata": {
        "id": "VM7ySp-57MYf",
        "colab": {
          "base_uri": "https://localhost:8080/"
        },
        "outputId": "58dd27a2-a1cc-4636-b2c2-c64bf5ad07b4"
      },
      "source": [
        "import numpy as np \n",
        "\n",
        "#probabilities of 3 samples \n",
        "softmax_outputs = np.array([[0.7, 0.2, 0.1],\n",
        "                            [0.5, 0.1, 0.4],\n",
        "                            [0.02, 0.9, 0.08]])\n",
        "\n",
        "#target \n",
        "class_targets = np.array([0, 1, 1])\n",
        "\n",
        "\n",
        "predictions = np.argmax(softmax_outputs, axis = 1)\n",
        "\n",
        "accuracy = np.mean(predictions == class_targets)\n",
        "\n",
        "print(accuracy)\n",
        "\n",
        "#"
      ],
      "execution_count": null,
      "outputs": [
        {
          "output_type": "stream",
          "text": [
            "0.6666666666666666\n"
          ],
          "name": "stdout"
        }
      ]
    },
    {
      "cell_type": "markdown",
      "metadata": {
        "id": "FChidiTQFcK5"
      },
      "source": [
        "Back Propagation\n"
      ]
    },
    {
      "cell_type": "code",
      "metadata": {
        "colab": {
          "base_uri": "https://localhost:8080/"
        },
        "id": "L7MBENBb_pEE",
        "outputId": "d7a1901b-c885-4b21-d666-9acb45f5d397"
      },
      "source": [
        "import numpy as np \n",
        "\n",
        "# Suppose gradient is coming from the end. \n",
        "dvalues = np.array([[1., 1., 1.],\n",
        "                    [2., 2., 2.],\n",
        "                    3., 3., 3.])\n",
        "\n",
        "\n",
        "# set of inputs \n",
        "inputs = np.array([[1, 2, 3, 2.5],\n",
        "                   [2., 5., -1,  2],\n",
        "                   [-1.5, 2.7, 3.3, -0.8]])\n",
        "\n",
        "#weights \n",
        "\n",
        "weights = np.array( [[ 0.2, 0.8, -0.5, 1],\n",
        "                     [0.5, -0.91, 0.26, -0.5],\n",
        "                     [-0.26, -0.27, 0.17, 0.87]]).T\n",
        "\n",
        "biases = np.array([[2, 3, 0.5]])\n",
        "\n",
        "#forward pass \n",
        "layer_outputs = np.dot(inputs, weights) + biases \n",
        "relu_outputs = np.maximum(0, layer_outputs)\n",
        "\n",
        "#backward pass \n",
        "#relu layer\n",
        "drelu = relu_outputs.copy()\n",
        "drelu[layer_outputs <= 0] = 0\n",
        "\n",
        "#dense layer\n",
        "dinputs = np.dot(drelu, weights.T)\n",
        "dweights = np.dot(inputs.T, drelu)\n",
        "dbiases = np.sum(drelu, axis = 0, keepdims = True)\n",
        "\n",
        "weights += -0.001 * dweights \n",
        "biases += -0.001 * dbiases \n",
        "\n",
        "print(weights)\n",
        "print(biases )\n",
        "\n"
      ],
      "execution_count": null,
      "outputs": [
        {
          "output_type": "stream",
          "text": [
            "[[ 0.179515   0.5003665 -0.262746 ]\n",
            " [ 0.742093  -0.9152577 -0.2758402]\n",
            " [-0.510153   0.2529017  0.1629592]\n",
            " [ 0.971328  -0.5021842  0.8636583]]\n",
            "[[1.98489  2.997739 0.497389]]\n"
          ],
          "name": "stdout"
        },
        {
          "output_type": "stream",
          "text": [
            "/usr/local/lib/python3.7/dist-packages/ipykernel_launcher.py:6: VisibleDeprecationWarning: Creating an ndarray from ragged nested sequences (which is a list-or-tuple of lists-or-tuples-or ndarrays with different lengths or shapes) is deprecated. If you meant to do this, you must specify 'dtype=object' when creating the ndarray\n",
            "  \n"
          ],
          "name": "stderr"
        }
      ]
    },
    {
      "cell_type": "markdown",
      "metadata": {
        "id": "jFH0YjCMcArU"
      },
      "source": [
        "## Full NN code without Optimization"
      ]
    },
    {
      "cell_type": "code",
      "metadata": {
        "id": "39QnLCvUcLm-",
        "colab": {
          "base_uri": "https://localhost:8080/"
        },
        "outputId": "6fa3653f-9f5c-41d3-978f-c9242080a56a"
      },
      "source": [
        "!pip install nnfs"
      ],
      "execution_count": 1,
      "outputs": [
        {
          "output_type": "stream",
          "text": [
            "Collecting nnfs\n",
            "  Downloading https://files.pythonhosted.org/packages/06/8c/3003a41d5229e65da792331b060dcad8100a0a5b9760f8c2074cde864148/nnfs-0.5.1-py3-none-any.whl\n",
            "Requirement already satisfied: numpy in /usr/local/lib/python3.7/dist-packages (from nnfs) (1.19.5)\n",
            "Installing collected packages: nnfs\n",
            "Successfully installed nnfs-0.5.1\n"
          ],
          "name": "stdout"
        }
      ]
    },
    {
      "cell_type": "code",
      "metadata": {
        "id": "MQgUKbExHAbD",
        "colab": {
          "base_uri": "https://localhost:8080/"
        },
        "outputId": "e7509ed1-274e-421e-fc1f-9bc3c9efcba0"
      },
      "source": [
        "import numpy as np\n",
        "import nnfs\n",
        "from nnfs.datasets import spiral_data\n",
        "\n",
        "nnfs.init()\n",
        "\n",
        "\n",
        "# Dense layer\n",
        "class Layer_Dense:\n",
        "\n",
        "    # Layer initialization\n",
        "    def __init__(self, n_inputs, n_neurons):\n",
        "        # Initialize weights and biases\n",
        "        self.weights = 0.01 * np.random.randn(n_inputs, n_neurons)\n",
        "        self.biases = np.zeros((1, n_neurons))\n",
        "\n",
        "    # Forward pass\n",
        "    def forward(self, inputs):\n",
        "        # Remember input values\n",
        "        self.inputs = inputs\n",
        "        # Calculate output values from inputs, weights and biases\n",
        "        self.output = np.dot(inputs, self.weights) + self.biases\n",
        "\n",
        "    # Backward pass\n",
        "    def backward(self, dvalues):\n",
        "        # Gradients on parameters\n",
        "        self.dweights = np.dot(self.inputs.T, dvalues)\n",
        "        self.dbiases = np.sum(dvalues, axis=0, keepdims=True)\n",
        "        # Gradient on values\n",
        "        self.dinputs = np.dot(dvalues, self.weights.T)\n",
        "\n",
        "\n",
        "# ReLU activation\n",
        "class Activation_ReLU:\n",
        "\n",
        "    # Forward pass\n",
        "    def forward(self, inputs):\n",
        "\n",
        "        # Remember input values\n",
        "        self.inputs = inputs\n",
        "        # Calculate output values from inputs\n",
        "        self.output = np.maximum(0, inputs)\n",
        "\n",
        "    # Backward pass\n",
        "    def backward(self, dvalues):\n",
        "        # Since we need to modify original variable,\n",
        "        # let's make a copy of values first\n",
        "        self.dinputs = dvalues.copy()\n",
        "\n",
        "        # Zero gradient where input values were negative\n",
        "        self.dinputs[self.inputs <= 0] = 0\n",
        "\n",
        "\n",
        "# Softmax activation\n",
        "class Activation_Softmax:\n",
        "\n",
        "    # Forward pass\n",
        "    def forward(self, inputs):\n",
        "        # Remember input values\n",
        "        self.inputs = inputs\n",
        "\n",
        "        # Get unnormalized probabilities\n",
        "        exp_values = np.exp(inputs - np.max(inputs, axis=1,\n",
        "                                            keepdims=True))\n",
        "        # Normalize them for each sample\n",
        "        probabilities = exp_values / np.sum(exp_values, axis=1,\n",
        "                                            keepdims=True)\n",
        "\n",
        "        self.output = probabilities\n",
        "\n",
        "    # Backward pass\n",
        "    def backward(self, dvalues):\n",
        "\n",
        "        # Create uninitialized array\n",
        "        self.dinputs = np.empty_like(dvalues)\n",
        "\n",
        "        # Enumerate outputs and gradients\n",
        "        for index, (single_output, single_dvalues) in \\\n",
        "                enumerate(zip(self.output, dvalues)):\n",
        "            # Flatten output array\n",
        "            single_output = single_output.reshape(-1, 1)\n",
        "            # Calculate Jacobian matrix of the output\n",
        "            jacobian_matrix = np.diagflat(single_output) - \\\n",
        "                              np.dot(single_output, single_output.T)\n",
        "\n",
        "            # Calculate sample-wise gradient\n",
        "            # and add it to the array of sample gradients\n",
        "            self.dinputs[index] = np.dot(jacobian_matrix,\n",
        "                                         single_dvalues)\n",
        "\n",
        "\n",
        "# Common loss class\n",
        "class Loss:\n",
        "\n",
        "    # Calculates the data and regularization losses\n",
        "    # given model output and ground truth values\n",
        "    def calculate(self, output, y):\n",
        "\n",
        "        # Calculate sample losses\n",
        "        sample_losses = self.forward(output, y)\n",
        "\n",
        "        # Calculate mean loss\n",
        "        data_loss = np.mean(sample_losses)\n",
        "\n",
        "        # Return loss\n",
        "        return data_loss\n",
        "\n",
        "\n",
        "# Cross-entropy loss\n",
        "class Loss_CategoricalCrossentropy(Loss):\n",
        "\n",
        "    # Forward pass\n",
        "    def forward(self, y_pred, y_true):\n",
        "\n",
        "        # Number of samples in a batch\n",
        "        samples = len(y_pred)\n",
        "\n",
        "        # Clip data to prevent division by 0\n",
        "        # Clip both sides to not drag mean towards any value\n",
        "        y_pred_clipped = np.clip(y_pred, 1e-7, 1 - 1e-7)\n",
        "\n",
        "        # Probabilities for target values -\n",
        "        # only if categorical labels\n",
        "        if len(y_true.shape) == 1:\n",
        "            correct_confidences = y_pred_clipped[\n",
        "                range(samples),\n",
        "                y_true\n",
        "            ]\n",
        "\n",
        "\n",
        "        # Mask values - only for one-hot encoded labels\n",
        "        elif len(y_true.shape) == 2:\n",
        "            correct_confidences = np.sum(\n",
        "                y_pred_clipped * y_true,\n",
        "                axis=1\n",
        "            )\n",
        "\n",
        "        # Losses\n",
        "        negative_log_likelihoods = -np.log(correct_confidences)\n",
        "        return negative_log_likelihoods\n",
        "\n",
        "    # Backward pass\n",
        "    def backward(self, dvalues, y_true):\n",
        "\n",
        "        # Number of samples\n",
        "        samples = len(dvalues)\n",
        "        # Number of labels in every sample\n",
        "        # We'll use the first sample to count them\n",
        "        labels = len(dvalues[0])\n",
        "\n",
        "        # If labels are sparse, turn them into one-hot vector\n",
        "        if len(y_true.shape) == 1:\n",
        "            y_true = np.eye(labels)[y_true]\n",
        "\n",
        "        # Calculate gradient\n",
        "        self.dinputs = -y_true / dvalues\n",
        "        # Normalize gradient\n",
        "        self.dinputs = self.dinputs / samples\n",
        "\n",
        "\n",
        "# Softmax classifier - combined Softmax activation\n",
        "# and cross-entropy loss for faster backward step\n",
        "class Activation_Softmax_Loss_CategoricalCrossentropy():\n",
        "\n",
        "    # Creates activation and loss function objects\n",
        "    def __init__(self):\n",
        "        self.activation = Activation_Softmax()\n",
        "        self.loss = Loss_CategoricalCrossentropy()\n",
        "\n",
        "    # Forward pass\n",
        "    def forward(self, inputs, y_true):\n",
        "        # Output layer's activation function\n",
        "        self.activation.forward(inputs)\n",
        "        # Set the output\n",
        "        self.output = self.activation.output\n",
        "        # Calculate and return loss value\n",
        "        return self.loss.calculate(self.output, y_true)\n",
        "\n",
        "\n",
        "    # Backward pass\n",
        "    def backward(self, dvalues, y_true):\n",
        "\n",
        "        # Number of samples\n",
        "        samples = len(dvalues)\n",
        "\n",
        "        # If labels are one-hot encoded,\n",
        "        # turn them into discrete values\n",
        "        if len(y_true.shape) == 2:\n",
        "            y_true = np.argmax(y_true, axis=1)\n",
        "\n",
        "        # Copy so we can safely modify\n",
        "        self.dinputs = dvalues.copy()\n",
        "        # Calculate gradient\n",
        "        self.dinputs[range(samples), y_true] -= 1\n",
        "        # Normalize gradient\n",
        "        self.dinputs = self.dinputs / samples\n",
        "\n",
        "\n",
        "# Create dataset\n",
        "X, y = spiral_data(samples=100, classes=3)\n",
        "\n",
        "# Create Dense layer with 2 input features and 3 output values\n",
        "dense1 = Layer_Dense(2, 3)\n",
        "\n",
        "# Create ReLU activation (to be used with Dense layer):\n",
        "activation1 = Activation_ReLU()\n",
        "\n",
        "# Create second Dense layer with 3 input features (as we take output\n",
        "# of previous layer here) and 3 output values (output values)\n",
        "dense2 = Layer_Dense(3, 3)\n",
        "\n",
        "# Create Softmax classifier's combined loss and activation\n",
        "loss_activation = Activation_Softmax_Loss_CategoricalCrossentropy()\n",
        "\n",
        "# Perform a forward pass of our training data through this layer\n",
        "dense1.forward(X)\n",
        "\n",
        "# Perform a forward pass through activation function\n",
        "# takes the output of first dense layer here\n",
        "activation1.forward(dense1.output)\n",
        "\n",
        "# Perform a forward pass through second Dense layer\n",
        "# takes outputs of activation function of first layer as inputs\n",
        "dense2.forward(activation1.output)\n",
        "\n",
        "# Perform a forward pass through the activation/loss function\n",
        "# takes the output of second dense layer here and returns loss\n",
        "loss = loss_activation.forward(dense2.output, y)\n",
        "# Let's see output of the first few samples:\n",
        "print(loss_activation.output[:5])\n",
        "\n",
        "# Print loss value\n",
        "print('loss:', loss)\n",
        "\n",
        "# Calculate accuracy from output of activation2 and targets\n",
        "# calculate values along first axis\n",
        "predictions = np.argmax(loss_activation.output, axis=1)\n",
        "if len(y.shape) == 2:\n",
        "    y = np.argmax(y, axis=1)\n",
        "accuracy = np.mean(predictions==y)\n",
        "\n",
        "# Print accuracy\n",
        "print('acc:', accuracy)\n",
        "\n",
        "# Backward pass\n",
        "loss_activation.backward(loss_activation.output, y)\n",
        "dense2.backward(loss_activation.dinputs)\n",
        "activation1.backward(dense2.dinputs)\n",
        "dense1.backward(activation1.dinputs)\n",
        "\n",
        "# Print gradients\n",
        "print(dense1.dweights)\n",
        "print(dense1.dbiases)\n",
        "print(dense2.dweights)\n",
        "print(dense2.dbiases)"
      ],
      "execution_count": 5,
      "outputs": [
        {
          "output_type": "stream",
          "text": [
            "[[0.33333334 0.33333334 0.33333334]\n",
            " [0.3333332  0.3333332  0.33333364]\n",
            " [0.3333329  0.33333293 0.3333342 ]\n",
            " [0.3333326  0.33333263 0.33333477]\n",
            " [0.33333233 0.3333324  0.33333528]]\n",
            "loss: 1.0986104\n",
            "acc: 0.34\n",
            "[[ 1.5766357e-04  7.8368583e-05  4.7324400e-05]\n",
            " [ 1.8161038e-04  1.1045573e-05 -3.3096312e-05]]\n",
            "[[-3.60553473e-04  9.66117223e-05 -1.03671395e-04]]\n",
            "[[ 5.44109462e-05  1.07411419e-04 -1.61822361e-04]\n",
            " [-4.07913431e-05 -7.16780924e-05  1.12469446e-04]\n",
            " [-5.30112993e-05  8.58172934e-05 -3.28059905e-05]]\n",
            "[[-1.0729185e-05 -9.4610732e-06  2.0027859e-05]]\n"
          ],
          "name": "stdout"
        }
      ]
    },
    {
      "cell_type": "markdown",
      "metadata": {
        "id": "0oQgRSO0Gf5F"
      },
      "source": [
        "## Optimizers"
      ]
    },
    {
      "cell_type": "code",
      "metadata": {
        "id": "JPDdjKMA_cib"
      },
      "source": [
        "!pip install nnfs"
      ],
      "execution_count": null,
      "outputs": []
    },
    {
      "cell_type": "code",
      "metadata": {
        "id": "OERkShhI_o8p"
      },
      "source": [
        "class Optimizer_SGD:\n",
        "\n",
        "  def __init__(self, learning_rate = 1.0):\n",
        "    self.learning_rate = learning_rate\n",
        "\n",
        "  def update_params(self, layer):\n",
        "    layer.weights += -self.learning_rate * layer.dweights\n",
        "    layer.biases += -self.learning_rate * layer.dbiases\n",
        "    "
      ],
      "execution_count": 2,
      "outputs": []
    },
    {
      "cell_type": "code",
      "metadata": {
        "colab": {
          "base_uri": "https://localhost:8080/"
        },
        "id": "rY_yXGMc_XfW",
        "outputId": "2499c84f-ebd9-4269-ae11-33ed33ef5fe4"
      },
      "source": [
        "import numpy as np\n",
        "import nnfs\n",
        "from nnfs.datasets import spiral_data\n",
        "\n",
        "nnfs.init()\n",
        "\n",
        "\n",
        "# Create dataset\n",
        "X, y = spiral_data(samples=100, classes=3)\n",
        "\n",
        "# Create Dense layer with 2 input features and 3 output values\n",
        "dense1 = Layer_Dense(2, 64)\n",
        "\n",
        "# Create ReLU activation (to be used with Dense layer):\n",
        "activation1 = Activation_ReLU()\n",
        "\n",
        "# Create second Dense layer with 3 input features (as we take output\n",
        "# of previous layer here) and 3 output values (output values)\n",
        "dense2 = Layer_Dense(64, 3)\n",
        "\n",
        "# Create Softmax classifier's combined loss and activation\n",
        "loss_activation = Activation_Softmax_Loss_CategoricalCrossentropy()\n",
        "\n",
        "optimizer = Optimizer_SGD()\n",
        "\n",
        "#train in loop \n",
        "losses = []\n",
        "for epoch in range(10001):\n",
        "\n",
        "  #forward passes \n",
        "  dense1.forward(X)\n",
        "  activation1.forward(dense1.output)\n",
        "  dense2.forward(activation1.output)\n",
        "  loss = loss_activation.forward(dense2.output, y)\n",
        "  losses.append(loss)\n",
        "  # calcualte accuracy \n",
        "  predictions = np.argmax(loss_activation.output, axis = 1)\n",
        "  if len(y.shape) == 2:\n",
        "    y = np.argmax(y, axis = 1)\n",
        "  \n",
        "  accuracy = np.mean(predictions == y)\n",
        "\n",
        "  if not epoch % 100:\n",
        "    print(f'epoch: {epoch}, acc: {accuracy}, loss:{loss}' )\n",
        "\n",
        "  # backward pass \n",
        "  loss_activation.backward(loss_activation.output, y)\n",
        "  dense2.backward(loss_activation.dinputs)\n",
        "  activation1.backward(dense2.dinputs)\n",
        "  dense1.backward(activation1.dinputs)\n",
        "\n",
        "  #update params \n",
        "  optimizer.update_params(dense1)\n",
        "  optimizer.update_params(dense2)\n"
      ],
      "execution_count": 32,
      "outputs": [
        {
          "output_type": "stream",
          "text": [
            "epoch: 0, acc: 0.36, loss:1.098594307899475\n",
            "epoch: 100, acc: 0.4, loss:1.0869206190109253\n",
            "epoch: 200, acc: 0.4166666666666667, loss:1.0773380994796753\n",
            "epoch: 300, acc: 0.42, loss:1.0760209560394287\n",
            "epoch: 400, acc: 0.4, loss:1.074236273765564\n",
            "epoch: 500, acc: 0.4, loss:1.0713080167770386\n",
            "epoch: 600, acc: 0.4166666666666667, loss:1.0673632621765137\n",
            "epoch: 700, acc: 0.43666666666666665, loss:1.0623551607131958\n",
            "epoch: 800, acc: 0.43, loss:1.0550928115844727\n",
            "epoch: 900, acc: 0.39, loss:1.0638744831085205\n",
            "epoch: 1000, acc: 0.4, loss:1.0622682571411133\n",
            "epoch: 1100, acc: 0.44333333333333336, loss:1.061262607574463\n",
            "epoch: 1200, acc: 0.4033333333333333, loss:1.0605604648590088\n",
            "epoch: 1300, acc: 0.38666666666666666, loss:1.0517452955245972\n",
            "epoch: 1400, acc: 0.38666666666666666, loss:1.105523943901062\n",
            "epoch: 1500, acc: 0.43, loss:1.0429925918579102\n",
            "epoch: 1600, acc: 0.41, loss:1.0630847215652466\n",
            "epoch: 1700, acc: 0.39666666666666667, loss:1.0433818101882935\n",
            "epoch: 1800, acc: 0.45, loss:1.0381176471710205\n",
            "epoch: 1900, acc: 0.48333333333333334, loss:1.0248881578445435\n",
            "epoch: 2000, acc: 0.4033333333333333, loss:1.0371609926223755\n",
            "epoch: 2100, acc: 0.45666666666666667, loss:1.0216883420944214\n",
            "epoch: 2200, acc: 0.49333333333333335, loss:1.0195891857147217\n",
            "epoch: 2300, acc: 0.44333333333333336, loss:1.0016921758651733\n",
            "epoch: 2400, acc: 0.48, loss:0.9941015839576721\n",
            "epoch: 2500, acc: 0.49, loss:1.008725643157959\n",
            "epoch: 2600, acc: 0.48, loss:0.9909303784370422\n",
            "epoch: 2700, acc: 0.54, loss:0.9724604487419128\n",
            "epoch: 2800, acc: 0.47333333333333333, loss:0.9976078271865845\n",
            "epoch: 2900, acc: 0.5266666666666666, loss:0.963260293006897\n",
            "epoch: 3000, acc: 0.5433333333333333, loss:0.9854065179824829\n",
            "epoch: 3100, acc: 0.5233333333333333, loss:0.9876247048377991\n",
            "epoch: 3200, acc: 0.4866666666666667, loss:0.9763368964195251\n",
            "epoch: 3300, acc: 0.49333333333333335, loss:0.9725401997566223\n",
            "epoch: 3400, acc: 0.4766666666666667, loss:0.9842291474342346\n",
            "epoch: 3500, acc: 0.52, loss:0.992677628993988\n",
            "epoch: 3600, acc: 0.5366666666666666, loss:0.9652496576309204\n",
            "epoch: 3700, acc: 0.55, loss:0.9966951608657837\n",
            "epoch: 3800, acc: 0.48333333333333334, loss:0.9633467793464661\n",
            "epoch: 3900, acc: 0.49333333333333335, loss:0.9697713255882263\n",
            "epoch: 4000, acc: 0.52, loss:0.9706616401672363\n",
            "epoch: 4100, acc: 0.54, loss:0.989279568195343\n",
            "epoch: 4200, acc: 0.5466666666666666, loss:0.9564687013626099\n",
            "epoch: 4300, acc: 0.5733333333333334, loss:0.9951723217964172\n",
            "epoch: 4400, acc: 0.48333333333333334, loss:0.9586665034294128\n",
            "epoch: 4500, acc: 0.49333333333333335, loss:0.9687966704368591\n",
            "epoch: 4600, acc: 0.52, loss:0.9737345576286316\n",
            "epoch: 4700, acc: 0.5433333333333333, loss:0.9868637323379517\n",
            "epoch: 4800, acc: 0.5466666666666666, loss:0.9624319672584534\n",
            "epoch: 4900, acc: 0.5533333333333333, loss:1.0066593885421753\n",
            "epoch: 5000, acc: 0.51, loss:0.9731101393699646\n",
            "epoch: 5100, acc: 0.53, loss:0.9664764404296875\n",
            "epoch: 5200, acc: 0.5466666666666666, loss:0.9857028126716614\n",
            "epoch: 5300, acc: 0.55, loss:0.9605168700218201\n",
            "epoch: 5400, acc: 0.5566666666666666, loss:1.0007402896881104\n",
            "epoch: 5500, acc: 0.52, loss:0.9658766388893127\n",
            "epoch: 5600, acc: 0.5133333333333333, loss:0.9555531740188599\n",
            "epoch: 5700, acc: 0.57, loss:0.9754876494407654\n",
            "epoch: 5800, acc: 0.5533333333333333, loss:0.9360553026199341\n",
            "epoch: 5900, acc: 0.5766666666666667, loss:0.971545398235321\n",
            "epoch: 6000, acc: 0.49, loss:0.9397631883621216\n",
            "epoch: 6100, acc: 0.5566666666666666, loss:0.9508057832717896\n",
            "epoch: 6200, acc: 0.5333333333333333, loss:0.9367452263832092\n",
            "epoch: 6300, acc: 0.59, loss:0.9558148384094238\n",
            "epoch: 6400, acc: 0.5633333333333334, loss:0.928519606590271\n",
            "epoch: 6500, acc: 0.5933333333333334, loss:0.9553053975105286\n",
            "epoch: 6600, acc: 0.5233333333333333, loss:0.9191462993621826\n",
            "epoch: 6700, acc: 0.5666666666666667, loss:0.928459882736206\n",
            "epoch: 6800, acc: 0.56, loss:0.8899131417274475\n",
            "epoch: 6900, acc: 0.5866666666666667, loss:0.8712476491928101\n",
            "epoch: 7000, acc: 0.5933333333333334, loss:0.9049868583679199\n",
            "epoch: 7100, acc: 0.6233333333333333, loss:0.859682023525238\n",
            "epoch: 7200, acc: 0.5833333333333334, loss:0.867811918258667\n",
            "epoch: 7300, acc: 0.6, loss:0.8740476369857788\n",
            "epoch: 7400, acc: 0.5966666666666667, loss:0.8488327860832214\n",
            "epoch: 7500, acc: 0.6066666666666667, loss:0.91400146484375\n",
            "epoch: 7600, acc: 0.6566666666666666, loss:0.8581396341323853\n",
            "epoch: 7700, acc: 0.62, loss:0.8528146743774414\n",
            "epoch: 7800, acc: 0.63, loss:0.8621673583984375\n",
            "epoch: 7900, acc: 0.58, loss:0.8781864643096924\n",
            "epoch: 8000, acc: 0.6166666666666667, loss:0.8736241459846497\n",
            "epoch: 8100, acc: 0.5966666666666667, loss:0.8394070267677307\n",
            "epoch: 8200, acc: 0.5933333333333334, loss:0.8517529964447021\n",
            "epoch: 8300, acc: 0.58, loss:0.9232891798019409\n",
            "epoch: 8400, acc: 0.6466666666666666, loss:0.8787612915039062\n",
            "epoch: 8500, acc: 0.63, loss:0.8380792140960693\n",
            "epoch: 8600, acc: 0.63, loss:0.8532760739326477\n",
            "epoch: 8700, acc: 0.6266666666666667, loss:0.8633965253829956\n",
            "epoch: 8800, acc: 0.6, loss:0.8790981769561768\n",
            "epoch: 8900, acc: 0.5966666666666667, loss:0.8709477782249451\n",
            "epoch: 9000, acc: 0.57, loss:0.8717381954193115\n",
            "epoch: 9100, acc: 0.63, loss:0.8798957467079163\n",
            "epoch: 9200, acc: 0.6266666666666667, loss:0.8619816303253174\n",
            "epoch: 9300, acc: 0.6133333333333333, loss:0.8477188348770142\n",
            "epoch: 9400, acc: 0.5966666666666667, loss:0.8380523920059204\n",
            "epoch: 9500, acc: 0.6066666666666667, loss:0.8435631394386292\n",
            "epoch: 9600, acc: 0.6066666666666667, loss:0.8644261956214905\n",
            "epoch: 9700, acc: 0.6066666666666667, loss:0.8806635737419128\n",
            "epoch: 9800, acc: 0.6, loss:0.9264081716537476\n",
            "epoch: 9900, acc: 0.61, loss:0.9145286083221436\n",
            "epoch: 10000, acc: 0.6466666666666666, loss:0.8737250566482544\n"
          ],
          "name": "stdout"
        }
      ]
    },
    {
      "cell_type": "code",
      "metadata": {
        "colab": {
          "base_uri": "https://localhost:8080/",
          "height": 314
        },
        "id": "Xvgha_rMBr-y",
        "outputId": "97d7c736-9070-46e8-983a-d31109047ca4"
      },
      "source": [
        "import matplotlib.pyplot as plt \n",
        "%matplotlib inline \n",
        "\n",
        "plt.plot(range(len(losses)), losses)\n",
        "plt.title('Loss vs steps')\n",
        "plt.xlabel('Steps')\n",
        "plt.ylabel('Loss')"
      ],
      "execution_count": 29,
      "outputs": [
        {
          "output_type": "execute_result",
          "data": {
            "text/plain": [
              "Text(0, 0.5, 'Loss')"
            ]
          },
          "metadata": {
            "tags": []
          },
          "execution_count": 29
        },
        {
          "output_type": "display_data",
          "data": {
            "image/png": "[encoded data removed]",
            "text/plain": [
              "<Figure size 432x288 with 1 Axes>"
            ]
          },
          "metadata": {
            "tags": [],
            "needs_background": "light"
          }
        }
      ]
    },
    {
      "cell_type": "markdown",
      "metadata": {
        "id": "FUW8MMB5CHDf"
      },
      "source": [
        "Low learning rate \n"
      ]
    },
    {
      "cell_type": "code",
      "metadata": {
        "colab": {
          "base_uri": "https://localhost:8080/",
          "height": 1000
        },
        "id": "1KSlZfJxCGoW",
        "outputId": "7f83173e-152b-422c-c72d-344ea440539e"
      },
      "source": [
        "import numpy as np\n",
        "import nnfs\n",
        "from nnfs.datasets import spiral_data\n",
        "\n",
        "nnfs.init()\n",
        "\n",
        "\n",
        "# Create dataset\n",
        "X, y = spiral_data(samples=100, classes=3)\n",
        "\n",
        "# Create Dense layer with 2 input features and 3 output values\n",
        "dense1 = Layer_Dense(2, 64)\n",
        "\n",
        "# Create ReLU activation (to be used with Dense layer):\n",
        "activation1 = Activation_ReLU()\n",
        "\n",
        "# Create second Dense layer with 3 input features (as we take output\n",
        "# of previous layer here) and 3 output values (output values)\n",
        "dense2 = Layer_Dense(64, 3)\n",
        "\n",
        "# Create Softmax classifier's combined loss and activation\n",
        "loss_activation = Activation_Softmax_Loss_CategoricalCrossentropy()\n",
        "\n",
        "optimizer = Optimizer_SGD(0.001)\n",
        "\n",
        "#train in loop \n",
        "losses = []\n",
        "for epoch in range(10001):\n",
        "\n",
        "  #forward passes \n",
        "  dense1.forward(X)\n",
        "  activation1.forward(dense1.output)\n",
        "  dense2.forward(activation1.output)\n",
        "  loss = loss_activation.forward(dense2.output, y)\n",
        "  losses.append(loss)\n",
        "  # calcualte accuracy \n",
        "  predictions = np.argmax(loss_activation.output, axis = 1)\n",
        "  if len(y.shape) == 2:\n",
        "    y = np.argmax(y, axis = 1)\n",
        "  \n",
        "  accuracy = np.mean(predictions == y)\n",
        "\n",
        "  if not epoch % 100:\n",
        "    print(f'epoch: {epoch}, acc: {accuracy}, loss:{loss}' )\n",
        "\n",
        "  # backward pass \n",
        "  loss_activation.backward(loss_activation.output, y)\n",
        "  dense2.backward(loss_activation.dinputs)\n",
        "  activation1.backward(dense2.dinputs)\n",
        "  dense1.backward(activation1.dinputs)\n",
        "\n",
        "  #update params \n",
        "  optimizer.update_params(dense1)\n",
        "  optimizer.update_params(dense2)\n",
        "\n",
        "plt.plot(range(len(losses)), losses)\n",
        "plt.title('Loss vs steps')\n",
        "plt.xlabel('Steps')\n",
        "plt.ylabel('Loss')\n"
      ],
      "execution_count": 30,
      "outputs": [
        {
          "output_type": "stream",
          "text": [
            "epoch: 0, acc: 0.36, loss:1.098594307899475\n",
            "epoch: 100, acc: 0.36, loss:1.0985922813415527\n",
            "epoch: 200, acc: 0.36666666666666664, loss:1.0985902547836304\n",
            "epoch: 300, acc: 0.37, loss:1.0985881090164185\n",
            "epoch: 400, acc: 0.4, loss:1.098586082458496\n",
            "epoch: 500, acc: 0.4066666666666667, loss:1.0985839366912842\n",
            "epoch: 600, acc: 0.4033333333333333, loss:1.0985819101333618\n",
            "epoch: 700, acc: 0.4033333333333333, loss:1.0985798835754395\n",
            "epoch: 800, acc: 0.39666666666666667, loss:1.0985779762268066\n",
            "epoch: 900, acc: 0.4033333333333333, loss:1.0985760688781738\n",
            "epoch: 1000, acc: 0.4066666666666667, loss:1.0985740423202515\n",
            "epoch: 1100, acc: 0.4033333333333333, loss:1.0985721349716187\n",
            "epoch: 1200, acc: 0.4066666666666667, loss:1.0985701084136963\n",
            "epoch: 1300, acc: 0.4033333333333333, loss:1.098568320274353\n",
            "epoch: 1400, acc: 0.39666666666666667, loss:1.0985665321350098\n",
            "epoch: 1500, acc: 0.3933333333333333, loss:1.0985647439956665\n",
            "epoch: 1600, acc: 0.39, loss:1.0985629558563232\n",
            "epoch: 1700, acc: 0.39, loss:1.0985610485076904\n",
            "epoch: 1800, acc: 0.38666666666666666, loss:1.0985593795776367\n",
            "epoch: 1900, acc: 0.38666666666666666, loss:1.0985575914382935\n",
            "epoch: 2000, acc: 0.39, loss:1.0985559225082397\n",
            "epoch: 2100, acc: 0.38666666666666666, loss:1.098554253578186\n",
            "epoch: 2200, acc: 0.39, loss:1.0985527038574219\n",
            "epoch: 2300, acc: 0.39, loss:1.0985511541366577\n",
            "epoch: 2400, acc: 0.39, loss:1.098549485206604\n",
            "epoch: 2500, acc: 0.3933333333333333, loss:1.0985479354858398\n",
            "epoch: 2600, acc: 0.3933333333333333, loss:1.0985465049743652\n",
            "epoch: 2700, acc: 0.39666666666666667, loss:1.098544955253601\n",
            "epoch: 2800, acc: 0.4, loss:1.0985435247421265\n",
            "epoch: 2900, acc: 0.4, loss:1.0985420942306519\n",
            "epoch: 3000, acc: 0.4, loss:1.0985406637191772\n",
            "epoch: 3100, acc: 0.4, loss:1.0985392332077026\n",
            "epoch: 3200, acc: 0.4033333333333333, loss:1.098537802696228\n",
            "epoch: 3300, acc: 0.4, loss:1.098536491394043\n",
            "epoch: 3400, acc: 0.4033333333333333, loss:1.0985350608825684\n",
            "epoch: 3500, acc: 0.4066666666666667, loss:1.0985337495803833\n",
            "epoch: 3600, acc: 0.41, loss:1.0985324382781982\n",
            "epoch: 3700, acc: 0.41333333333333333, loss:1.0985311269760132\n",
            "epoch: 3800, acc: 0.41333333333333333, loss:1.0985296964645386\n",
            "epoch: 3900, acc: 0.41333333333333333, loss:1.0985283851623535\n",
            "epoch: 4000, acc: 0.4166666666666667, loss:1.0985270738601685\n",
            "epoch: 4100, acc: 0.4166666666666667, loss:1.0985256433486938\n",
            "epoch: 4200, acc: 0.4166666666666667, loss:1.0985243320465088\n",
            "epoch: 4300, acc: 0.4166666666666667, loss:1.0985230207443237\n",
            "epoch: 4400, acc: 0.4166666666666667, loss:1.0985217094421387\n",
            "epoch: 4500, acc: 0.4166666666666667, loss:1.0985205173492432\n",
            "epoch: 4600, acc: 0.4166666666666667, loss:1.0985193252563477\n",
            "epoch: 4700, acc: 0.4166666666666667, loss:1.0985180139541626\n",
            "epoch: 4800, acc: 0.4166666666666667, loss:1.0985167026519775\n",
            "epoch: 4900, acc: 0.4166666666666667, loss:1.0985153913497925\n",
            "epoch: 5000, acc: 0.4166666666666667, loss:1.098514199256897\n",
            "epoch: 5100, acc: 0.4166666666666667, loss:1.0985130071640015\n",
            "epoch: 5200, acc: 0.4166666666666667, loss:1.098511815071106\n",
            "epoch: 5300, acc: 0.4166666666666667, loss:1.0985103845596313\n",
            "epoch: 5400, acc: 0.4166666666666667, loss:1.0985091924667358\n",
            "epoch: 5500, acc: 0.4166666666666667, loss:1.0985080003738403\n",
            "epoch: 5600, acc: 0.41333333333333333, loss:1.0985068082809448\n",
            "epoch: 5700, acc: 0.41333333333333333, loss:1.0985054969787598\n",
            "epoch: 5800, acc: 0.41333333333333333, loss:1.0985041856765747\n",
            "epoch: 5900, acc: 0.41333333333333333, loss:1.0985028743743896\n",
            "epoch: 6000, acc: 0.41, loss:1.0985018014907837\n",
            "epoch: 6100, acc: 0.41, loss:1.0985004901885986\n",
            "epoch: 6200, acc: 0.4066666666666667, loss:1.0984992980957031\n",
            "epoch: 6300, acc: 0.4066666666666667, loss:1.0984981060028076\n",
            "epoch: 6400, acc: 0.4066666666666667, loss:1.098496675491333\n",
            "epoch: 6500, acc: 0.41, loss:1.0984957218170166\n",
            "epoch: 6600, acc: 0.41, loss:1.0984944105148315\n",
            "epoch: 6700, acc: 0.41, loss:1.0984930992126465\n",
            "epoch: 6800, acc: 0.41, loss:1.098491907119751\n",
            "epoch: 6900, acc: 0.41, loss:1.098490595817566\n",
            "epoch: 7000, acc: 0.41, loss:1.0984896421432495\n",
            "epoch: 7100, acc: 0.41, loss:1.098488211631775\n",
            "epoch: 7200, acc: 0.41333333333333333, loss:1.0984869003295898\n",
            "epoch: 7300, acc: 0.41, loss:1.0984857082366943\n",
            "epoch: 7400, acc: 0.41, loss:1.0984845161437988\n",
            "epoch: 7500, acc: 0.41, loss:1.0984833240509033\n",
            "epoch: 7600, acc: 0.41, loss:1.0984820127487183\n",
            "epoch: 7700, acc: 0.41, loss:1.0984808206558228\n",
            "epoch: 7800, acc: 0.41, loss:1.0984796285629272\n",
            "epoch: 7900, acc: 0.41, loss:1.0984784364700317\n",
            "epoch: 8000, acc: 0.41, loss:1.0984771251678467\n",
            "epoch: 8100, acc: 0.41, loss:1.0984759330749512\n",
            "epoch: 8200, acc: 0.41, loss:1.0984746217727661\n",
            "epoch: 8300, acc: 0.41333333333333333, loss:1.0984734296798706\n",
            "epoch: 8400, acc: 0.41333333333333333, loss:1.0984721183776855\n",
            "epoch: 8500, acc: 0.41333333333333333, loss:1.09847092628479\n",
            "epoch: 8600, acc: 0.41333333333333333, loss:1.098469614982605\n",
            "epoch: 8700, acc: 0.41333333333333333, loss:1.0984684228897095\n",
            "epoch: 8800, acc: 0.41333333333333333, loss:1.098467230796814\n",
            "epoch: 8900, acc: 0.41333333333333333, loss:1.0984660387039185\n",
            "epoch: 9000, acc: 0.41333333333333333, loss:1.0984646081924438\n",
            "epoch: 9100, acc: 0.4166666666666667, loss:1.0984632968902588\n",
            "epoch: 9200, acc: 0.42, loss:1.0984621047973633\n",
            "epoch: 9300, acc: 0.42, loss:1.0984609127044678\n",
            "epoch: 9400, acc: 0.42, loss:1.0984594821929932\n",
            "epoch: 9500, acc: 0.42, loss:1.0984582901000977\n",
            "epoch: 9600, acc: 0.42, loss:1.0984569787979126\n",
            "epoch: 9700, acc: 0.42, loss:1.098455548286438\n",
            "epoch: 9800, acc: 0.42, loss:1.098454236984253\n",
            "epoch: 9900, acc: 0.42, loss:1.0984528064727783\n",
            "epoch: 10000, acc: 0.42333333333333334, loss:1.0984514951705933\n"
          ],
          "name": "stdout"
        },
        {
          "output_type": "execute_result",
          "data": {
            "text/plain": [
              "Text(0, 0.5, 'Loss')"
            ]
          },
          "metadata": {
            "tags": []
          },
          "execution_count": 30
        },
        {
          "output_type": "display_data",
          "data": {
            "image/png": "[encoded data removed]",
            "text/plain": [
              "<Figure size 432x288 with 1 Axes>"
            ]
          },
          "metadata": {
            "tags": [],
            "needs_background": "light"
          }
        }
      ]
    },
    {
      "cell_type": "code",
      "metadata": {
        "colab": {
          "base_uri": "https://localhost:8080/",
          "height": 1000
        },
        "id": "93K8PgMVDEN0",
        "outputId": "6330d76b-00d1-4b5d-d2cd-d879ad55c3fe"
      },
      "source": [
        "import numpy as np\n",
        "import nnfs\n",
        "from nnfs.datasets import spiral_data\n",
        "\n",
        "nnfs.init()\n",
        "\n",
        "\n",
        "# Create dataset\n",
        "X, y = spiral_data(samples=100, classes=3)\n",
        "\n",
        "# Create Dense layer with 2 input features and 3 output values\n",
        "dense1 = Layer_Dense(2, 64)\n",
        "\n",
        "# Create ReLU activation (to be used with Dense layer):\n",
        "activation1 = Activation_ReLU()\n",
        "\n",
        "# Create second Dense layer with 3 input features (as we take output\n",
        "# of previous layer here) and 3 output values (output values)\n",
        "dense2 = Layer_Dense(64, 3)\n",
        "\n",
        "# Create Softmax classifier's combined loss and activation\n",
        "loss_activation = Activation_Softmax_Loss_CategoricalCrossentropy()\n",
        "\n",
        "optimizer = Optimizer_SGD(0.85)\n",
        "\n",
        "#train in loop \n",
        "losses = []\n",
        "for epoch in range(10001):\n",
        "\n",
        "  #forward passes \n",
        "  dense1.forward(X)\n",
        "  activation1.forward(dense1.output)\n",
        "  dense2.forward(activation1.output)\n",
        "  loss = loss_activation.forward(dense2.output, y)\n",
        "  losses.append(loss)\n",
        "  # calcualte accuracy \n",
        "  predictions = np.argmax(loss_activation.output, axis = 1)\n",
        "  if len(y.shape) == 2:\n",
        "    y = np.argmax(y, axis = 1)\n",
        "  \n",
        "  accuracy = np.mean(predictions == y)\n",
        "\n",
        "  if not epoch % 100:\n",
        "    print(f'epoch: {epoch}, acc: {accuracy}, loss:{loss}' )\n",
        "\n",
        "  # backward pass \n",
        "  loss_activation.backward(loss_activation.output, y)\n",
        "  dense2.backward(loss_activation.dinputs)\n",
        "  activation1.backward(dense2.dinputs)\n",
        "  dense1.backward(activation1.dinputs)\n",
        "\n",
        "  #update params \n",
        "  optimizer.update_params(dense1)\n",
        "  optimizer.update_params(dense2)\n",
        "\n",
        "plt.plot(range(len(losses)), losses)\n",
        "plt.title('Loss vs steps')\n",
        "plt.xlabel('Steps')\n",
        "plt.ylabel('Loss')\n"
      ],
      "execution_count": 31,
      "outputs": [
        {
          "output_type": "stream",
          "text": [
            "epoch: 0, acc: 0.36, loss:1.098594307899475\n",
            "epoch: 100, acc: 0.4033333333333333, loss:1.09110426902771\n",
            "epoch: 200, acc: 0.41, loss:1.0781528949737549\n",
            "epoch: 300, acc: 0.42333333333333334, loss:1.0765252113342285\n",
            "epoch: 400, acc: 0.41333333333333333, loss:1.0754460096359253\n",
            "epoch: 500, acc: 0.4, loss:1.0735853910446167\n",
            "epoch: 600, acc: 0.4033333333333333, loss:1.0708863735198975\n",
            "epoch: 700, acc: 0.4166666666666667, loss:1.0674803256988525\n",
            "epoch: 800, acc: 0.43333333333333335, loss:1.0634346008300781\n",
            "epoch: 900, acc: 0.44666666666666666, loss:1.0567983388900757\n",
            "epoch: 1000, acc: 0.4533333333333333, loss:1.0497252941131592\n",
            "epoch: 1100, acc: 0.42, loss:1.0586049556732178\n",
            "epoch: 1200, acc: 0.4, loss:1.0575016736984253\n",
            "epoch: 1300, acc: 0.39666666666666667, loss:1.0537679195404053\n",
            "epoch: 1400, acc: 0.39666666666666667, loss:1.0539730787277222\n",
            "epoch: 1500, acc: 0.43666666666666665, loss:1.065623164176941\n",
            "epoch: 1600, acc: 0.45, loss:1.0771702527999878\n",
            "epoch: 1700, acc: 0.4, loss:1.04583740234375\n",
            "epoch: 1800, acc: 0.42333333333333334, loss:1.0394339561462402\n",
            "epoch: 1900, acc: 0.4066666666666667, loss:1.067804217338562\n",
            "epoch: 2000, acc: 0.4066666666666667, loss:1.037172794342041\n",
            "epoch: 2100, acc: 0.44, loss:1.027287244796753\n",
            "epoch: 2200, acc: 0.45666666666666667, loss:1.038488507270813\n",
            "epoch: 2300, acc: 0.44666666666666666, loss:1.0423778295516968\n",
            "epoch: 2400, acc: 0.5366666666666666, loss:0.986311137676239\n",
            "epoch: 2500, acc: 0.4266666666666667, loss:1.0092506408691406\n",
            "epoch: 2600, acc: 0.4866666666666667, loss:1.0293062925338745\n",
            "epoch: 2700, acc: 0.53, loss:0.9862475395202637\n",
            "epoch: 2800, acc: 0.5166666666666667, loss:0.9918524026870728\n",
            "epoch: 2900, acc: 0.51, loss:0.9729094505310059\n",
            "epoch: 3000, acc: 0.51, loss:1.001628041267395\n",
            "epoch: 3100, acc: 0.5266666666666666, loss:1.0008291006088257\n",
            "epoch: 3200, acc: 0.4866666666666667, loss:0.9676011204719543\n",
            "epoch: 3300, acc: 0.47333333333333333, loss:0.9715688228607178\n",
            "epoch: 3400, acc: 0.52, loss:0.9716684222221375\n",
            "epoch: 3500, acc: 0.5233333333333333, loss:0.9593930840492249\n",
            "epoch: 3600, acc: 0.49333333333333335, loss:0.9660150408744812\n",
            "epoch: 3700, acc: 0.48333333333333334, loss:0.9624878764152527\n",
            "epoch: 3800, acc: 0.52, loss:0.9563201665878296\n",
            "epoch: 3900, acc: 0.5333333333333333, loss:0.9560033082962036\n",
            "epoch: 4000, acc: 0.54, loss:0.9641157984733582\n",
            "epoch: 4100, acc: 0.5033333333333333, loss:0.958552360534668\n",
            "epoch: 4200, acc: 0.5033333333333333, loss:0.9458459615707397\n",
            "epoch: 4300, acc: 0.5533333333333333, loss:0.9592179656028748\n",
            "epoch: 4400, acc: 0.55, loss:0.964046835899353\n",
            "epoch: 4500, acc: 0.51, loss:0.9617825150489807\n",
            "epoch: 4600, acc: 0.5066666666666667, loss:0.9450520873069763\n",
            "epoch: 4700, acc: 0.5566666666666666, loss:0.9568802714347839\n",
            "epoch: 4800, acc: 0.53, loss:0.9601391553878784\n",
            "epoch: 4900, acc: 0.49666666666666665, loss:0.9631547331809998\n",
            "epoch: 5000, acc: 0.5666666666666667, loss:0.9608914256095886\n",
            "epoch: 5100, acc: 0.5333333333333333, loss:0.9470316767692566\n",
            "epoch: 5200, acc: 0.51, loss:0.9663339257240295\n",
            "epoch: 5300, acc: 0.51, loss:0.9856399297714233\n",
            "epoch: 5400, acc: 0.5633333333333334, loss:1.002647876739502\n",
            "epoch: 5500, acc: 0.5733333333333334, loss:0.9685387015342712\n",
            "epoch: 5600, acc: 0.51, loss:0.9592396020889282\n",
            "epoch: 5700, acc: 0.58, loss:0.964918851852417\n",
            "epoch: 5800, acc: 0.5466666666666666, loss:0.9419671893119812\n",
            "epoch: 5900, acc: 0.54, loss:0.9621848464012146\n",
            "epoch: 6000, acc: 0.5233333333333333, loss:0.9861330389976501\n",
            "epoch: 6100, acc: 0.5866666666666667, loss:0.9836980104446411\n",
            "epoch: 6200, acc: 0.5533333333333333, loss:0.9403071999549866\n",
            "epoch: 6300, acc: 0.5366666666666666, loss:0.9414297342300415\n",
            "epoch: 6400, acc: 0.53, loss:0.9618615508079529\n",
            "epoch: 6500, acc: 0.5733333333333334, loss:0.9253088235855103\n",
            "epoch: 6600, acc: 0.58, loss:0.9747936725616455\n",
            "epoch: 6700, acc: 0.5533333333333333, loss:0.9310923218727112\n",
            "epoch: 6800, acc: 0.59, loss:0.9525468945503235\n",
            "epoch: 6900, acc: 0.5233333333333333, loss:0.9310550689697266\n",
            "epoch: 7000, acc: 0.55, loss:0.9755570292472839\n",
            "epoch: 7100, acc: 0.5666666666666667, loss:0.9172365069389343\n",
            "epoch: 7200, acc: 0.5866666666666667, loss:0.9689092040061951\n",
            "epoch: 7300, acc: 0.5533333333333333, loss:0.9468705058097839\n",
            "epoch: 7400, acc: 0.61, loss:0.9534051418304443\n",
            "epoch: 7500, acc: 0.5733333333333334, loss:0.9526743292808533\n",
            "epoch: 7600, acc: 0.5366666666666666, loss:0.9354404807090759\n",
            "epoch: 7700, acc: 0.5466666666666666, loss:0.9785068035125732\n",
            "epoch: 7800, acc: 0.5666666666666667, loss:0.9160088300704956\n",
            "epoch: 7900, acc: 0.59, loss:0.9704978466033936\n",
            "epoch: 8000, acc: 0.6033333333333334, loss:0.9497460722923279\n",
            "epoch: 8100, acc: 0.55, loss:0.9204681515693665\n",
            "epoch: 8200, acc: 0.5866666666666667, loss:0.9228540062904358\n",
            "epoch: 8300, acc: 0.5966666666666667, loss:0.9309743046760559\n",
            "epoch: 8400, acc: 0.59, loss:0.9302946925163269\n",
            "epoch: 8500, acc: 0.5766666666666667, loss:0.9379971027374268\n",
            "epoch: 8600, acc: 0.5666666666666667, loss:0.9221791625022888\n",
            "epoch: 8700, acc: 0.5866666666666667, loss:0.9238671660423279\n",
            "epoch: 8800, acc: 0.59, loss:0.9269946217536926\n",
            "epoch: 8900, acc: 0.59, loss:0.9285272359848022\n",
            "epoch: 9000, acc: 0.5833333333333334, loss:0.9278387427330017\n",
            "epoch: 9100, acc: 0.5833333333333334, loss:0.9291917085647583\n",
            "epoch: 9200, acc: 0.5833333333333334, loss:0.9291853904724121\n",
            "epoch: 9300, acc: 0.5833333333333334, loss:0.9295763373374939\n",
            "epoch: 9400, acc: 0.5766666666666667, loss:0.9290005564689636\n",
            "epoch: 9500, acc: 0.58, loss:0.9279197454452515\n",
            "epoch: 9600, acc: 0.5766666666666667, loss:0.9260796308517456\n",
            "epoch: 9700, acc: 0.5533333333333333, loss:0.9231849908828735\n",
            "epoch: 9800, acc: 0.5433333333333333, loss:0.9456762671470642\n",
            "epoch: 9900, acc: 0.58, loss:0.9455422163009644\n",
            "epoch: 10000, acc: 0.6033333333333334, loss:0.9419823288917542\n"
          ],
          "name": "stdout"
        },
        {
          "output_type": "execute_result",
          "data": {
            "text/plain": [
              "Text(0, 0.5, 'Loss')"
            ]
          },
          "metadata": {
            "tags": []
          },
          "execution_count": 31
        },
        {
          "output_type": "display_data",
          "data": {
            "image/png": "[encoded data removed]",
            "text/plain": [
              "<Figure size 432x288 with 1 Axes>"
            ]
          },
          "metadata": {
            "tags": [],
            "needs_background": "light"
          }
        }
      ]
    },
    {
      "cell_type": "markdown",
      "metadata": {
        "id": "luAkdVEc8Yy1"
      },
      "source": [
        "### SGD Optimizer"
      ]
    },
    {
      "cell_type": "code",
      "metadata": {
        "id": "SilHYmJpDWc6"
      },
      "source": [
        "# SGD optimizer\n",
        "class Optimizer_SGD:\n",
        "\n",
        "    # Initialize optimizer - set settings,\n",
        "    # learning rate of 1. is default for this optimizer\n",
        "    def __init__(self, learning_rate=1., decay=0.):\n",
        "        self.learning_rate = learning_rate\n",
        "        self.current_learning_rate = learning_rate\n",
        "        self.decay = decay\n",
        "        self.iterations = 0\n",
        "\n",
        "    # Call once before any parameter updates\n",
        "    def pre_update_params(self):\n",
        "        if self.decay:\n",
        "            self.current_learning_rate = self.learning_rate * \\\n",
        "                (1. / (1. + self.decay * self.iterations))\n",
        "\n",
        "    # Update parameters\n",
        "    def update_params(self, layer):\n",
        "        # Vanilla SGD updates \n",
        "        weight_updates = -self.current_learning_rate * \\\n",
        "                          layer.dweights\n",
        "        bias_updates = -self.current_learning_rate * \\\n",
        "                        layer.dbiases\n",
        "\n",
        "        # Update weights and biases using either\n",
        "        # vanilla or momentum updates\n",
        "        layer.weights += weight_updates\n",
        "        layer.biases += bias_updates\n",
        "\n",
        "\n",
        "    # Call once after any parameter updates\n",
        "    def post_update_params(self):\n",
        "        self.iterations += 1"
      ],
      "execution_count": 34,
      "outputs": []
    },
    {
      "cell_type": "code",
      "metadata": {
        "colab": {
          "base_uri": "https://localhost:8080/",
          "height": 1000
        },
        "id": "Z6aA7A1cDmd2",
        "outputId": "c40d12c6-45f2-43ba-c3c5-07a1f0e9f44c"
      },
      "source": [
        "import numpy as np\n",
        "import nnfs\n",
        "from nnfs.datasets import spiral_data\n",
        "\n",
        "nnfs.init()\n",
        "\n",
        "\n",
        "# Create dataset\n",
        "X, y = spiral_data(samples=100, classes=3)\n",
        "\n",
        "# Create Dense layer with 2 input features and 3 output values\n",
        "dense1 = Layer_Dense(2, 64)\n",
        "\n",
        "# Create ReLU activation (to be used with Dense layer):\n",
        "activation1 = Activation_ReLU()\n",
        "\n",
        "# Create second Dense layer with 3 input features (as we take output\n",
        "# of previous layer here) and 3 output values (output values)\n",
        "dense2 = Layer_Dense(64, 3)\n",
        "\n",
        "# Create Softmax classifier's combined loss and activation\n",
        "loss_activation = Activation_Softmax_Loss_CategoricalCrossentropy()\n",
        "\n",
        "optimizer = Optimizer_SGD(decay = 1e-2)\n",
        "\n",
        "#train in loop \n",
        "losses = []\n",
        "for epoch in range(10001):\n",
        "\n",
        "  #forward passes \n",
        "  dense1.forward(X)\n",
        "  activation1.forward(dense1.output)\n",
        "  dense2.forward(activation1.output)\n",
        "  loss = loss_activation.forward(dense2.output, y)\n",
        "  losses.append(loss)\n",
        "  # calcualte accuracy \n",
        "  predictions = np.argmax(loss_activation.output, axis = 1)\n",
        "  if len(y.shape) == 2:\n",
        "    y = np.argmax(y, axis = 1)\n",
        "  \n",
        "  accuracy = np.mean(predictions == y)\n",
        "\n",
        "  if not epoch % 100:\n",
        "    print(f'epoch: {epoch}, acc: {accuracy}, loss:{loss}, lr:{optimizer.current_learning_rate}' )\n",
        "\n",
        "  # backward pass \n",
        "  loss_activation.backward(loss_activation.output, y)\n",
        "  dense2.backward(loss_activation.dinputs)\n",
        "  activation1.backward(dense2.dinputs)\n",
        "  dense1.backward(activation1.dinputs)\n",
        "\n",
        "  #update params \n",
        "  optimizer.pre_update_params()\n",
        "  optimizer.update_params(dense1)\n",
        "  optimizer.update_params(dense2)\n",
        "  optimizer.post_update_params()\n",
        "\n",
        "plt.plot(range(len(losses)), losses)\n",
        "plt.title('Loss vs steps')\n",
        "plt.xlabel('Steps')\n",
        "plt.ylabel('Loss')\n"
      ],
      "execution_count": 35,
      "outputs": [
        {
          "output_type": "stream",
          "text": [
            "epoch: 0, acc: 0.36, loss:1.098594307899475, lr:1.0\n",
            "epoch: 100, acc: 0.4033333333333333, loss:1.094583511352539, lr:0.5025125628140703\n",
            "epoch: 200, acc: 0.39666666666666667, loss:1.0842682123184204, lr:0.33444816053511706\n",
            "epoch: 300, acc: 0.4, loss:1.0800079107284546, lr:0.2506265664160401\n",
            "epoch: 400, acc: 0.4066666666666667, loss:1.078490138053894, lr:0.2004008016032064\n",
            "epoch: 500, acc: 0.42, loss:1.077833652496338, lr:0.1669449081803005\n",
            "epoch: 600, acc: 0.42, loss:1.0774352550506592, lr:0.14306151645207438\n",
            "epoch: 700, acc: 0.4166666666666667, loss:1.0771820545196533, lr:0.1251564455569462\n",
            "epoch: 800, acc: 0.41333333333333333, loss:1.0769789218902588, lr:0.11123470522803114\n",
            "epoch: 900, acc: 0.41, loss:1.076817274093628, lr:0.10010010010010009\n",
            "epoch: 1000, acc: 0.4166666666666667, loss:1.0766910314559937, lr:0.09099181073703366\n",
            "epoch: 1100, acc: 0.42333333333333334, loss:1.0765801668167114, lr:0.08340283569641367\n",
            "epoch: 1200, acc: 0.42333333333333334, loss:1.0764901638031006, lr:0.07698229407236336\n",
            "epoch: 1300, acc: 0.4266666666666667, loss:1.0764083862304688, lr:0.07147962830593281\n",
            "epoch: 1400, acc: 0.4266666666666667, loss:1.0763334035873413, lr:0.066711140760507\n",
            "epoch: 1500, acc: 0.4266666666666667, loss:1.076262354850769, lr:0.06253908692933083\n",
            "epoch: 1600, acc: 0.4266666666666667, loss:1.076193928718567, lr:0.05885815185403177\n",
            "epoch: 1700, acc: 0.42, loss:1.0761269330978394, lr:0.055586436909394105\n",
            "epoch: 1800, acc: 0.42, loss:1.07606041431427, lr:0.052659294365455495\n",
            "epoch: 1900, acc: 0.42, loss:1.0759949684143066, lr:0.05002501250625312\n",
            "epoch: 2000, acc: 0.42, loss:1.0759315490722656, lr:0.047641734159123386\n",
            "epoch: 2100, acc: 0.42333333333333334, loss:1.0758695602416992, lr:0.04547521600727603\n",
            "epoch: 2200, acc: 0.4266666666666667, loss:1.0758087635040283, lr:0.04349717268377555\n",
            "epoch: 2300, acc: 0.4266666666666667, loss:1.075749158859253, lr:0.04168403501458941\n",
            "epoch: 2400, acc: 0.4166666666666667, loss:1.0756906270980835, lr:0.04001600640256102\n",
            "epoch: 2500, acc: 0.4166666666666667, loss:1.0756319761276245, lr:0.03847633705271258\n",
            "epoch: 2600, acc: 0.4166666666666667, loss:1.0755743980407715, lr:0.03705075954057058\n",
            "epoch: 2700, acc: 0.4166666666666667, loss:1.0755178928375244, lr:0.03572704537334762\n",
            "epoch: 2800, acc: 0.41333333333333333, loss:1.075461983680725, lr:0.03449465332873405\n",
            "epoch: 2900, acc: 0.41333333333333333, loss:1.075406551361084, lr:0.03334444814938312\n",
            "epoch: 3000, acc: 0.41333333333333333, loss:1.0753517150878906, lr:0.03226847370119393\n",
            "epoch: 3100, acc: 0.41333333333333333, loss:1.0752969980239868, lr:0.03125976867771178\n",
            "epoch: 3200, acc: 0.41333333333333333, loss:1.075243353843689, lr:0.03031221582297666\n",
            "epoch: 3300, acc: 0.41333333333333333, loss:1.0751901865005493, lr:0.02942041776993233\n",
            "epoch: 3400, acc: 0.41, loss:1.0751373767852783, lr:0.028579594169762787\n",
            "epoch: 3500, acc: 0.41, loss:1.0750848054885864, lr:0.027785495971103084\n",
            "epoch: 3600, acc: 0.4066666666666667, loss:1.075033187866211, lr:0.02703433360367667\n",
            "epoch: 3700, acc: 0.4066666666666667, loss:1.0749820470809937, lr:0.026322716504343247\n",
            "epoch: 3800, acc: 0.4066666666666667, loss:1.0749313831329346, lr:0.025647601949217745\n",
            "epoch: 3900, acc: 0.4066666666666667, loss:1.0748807191848755, lr:0.02500625156289072\n",
            "epoch: 4000, acc: 0.4066666666666667, loss:1.0748282670974731, lr:0.02439619419370578\n",
            "epoch: 4100, acc: 0.4066666666666667, loss:1.0747779607772827, lr:0.023815194093831864\n",
            "epoch: 4200, acc: 0.4066666666666667, loss:1.0747281312942505, lr:0.02326122354035822\n",
            "epoch: 4300, acc: 0.4033333333333333, loss:1.0746769905090332, lr:0.022732439190725165\n",
            "epoch: 4400, acc: 0.4033333333333333, loss:1.0746269226074219, lr:0.02222716159146477\n",
            "epoch: 4500, acc: 0.4033333333333333, loss:1.0745782852172852, lr:0.021743857360295715\n",
            "epoch: 4600, acc: 0.4033333333333333, loss:1.0745298862457275, lr:0.021281123643328365\n",
            "epoch: 4700, acc: 0.4033333333333333, loss:1.074480414390564, lr:0.02083767451552407\n",
            "epoch: 4800, acc: 0.4033333333333333, loss:1.074431300163269, lr:0.020412329046744233\n",
            "epoch: 4900, acc: 0.4033333333333333, loss:1.0743829011917114, lr:0.020004000800160033\n",
            "epoch: 5000, acc: 0.4033333333333333, loss:1.0743353366851807, lr:0.019611688566385566\n",
            "epoch: 5100, acc: 0.4033333333333333, loss:1.0742881298065186, lr:0.019234468166955183\n",
            "epoch: 5200, acc: 0.4, loss:1.0742411613464355, lr:0.018871485185884128\n",
            "epoch: 5300, acc: 0.4, loss:1.0741947889328003, lr:0.018521948508983144\n",
            "epoch: 5400, acc: 0.4, loss:1.0741490125656128, lr:0.01818512456810329\n",
            "epoch: 5500, acc: 0.4, loss:1.074103593826294, lr:0.01786033220217896\n",
            "epoch: 5600, acc: 0.4, loss:1.0740586519241333, lr:0.01754693805930865\n",
            "epoch: 5700, acc: 0.4, loss:1.0740149021148682, lr:0.01724435247456458\n",
            "epoch: 5800, acc: 0.4, loss:1.0739717483520508, lr:0.016952025767079167\n",
            "epoch: 5900, acc: 0.4, loss:1.0739294290542603, lr:0.01666944490748458\n",
            "epoch: 6000, acc: 0.4, loss:1.0738879442214966, lr:0.016396130513198885\n",
            "epoch: 6100, acc: 0.4, loss:1.073846697807312, lr:0.016131634134537828\n",
            "epoch: 6200, acc: 0.4, loss:1.0738059282302856, lr:0.015875535799333228\n",
            "epoch: 6300, acc: 0.4, loss:1.073765754699707, lr:0.01562744178777934\n",
            "epoch: 6400, acc: 0.4, loss:1.073725938796997, lr:0.015386982612709646\n",
            "epoch: 6500, acc: 0.4, loss:1.0736864805221558, lr:0.015153811183512654\n",
            "epoch: 6600, acc: 0.4, loss:1.0736474990844727, lr:0.014927601134497688\n",
            "epoch: 6700, acc: 0.4033333333333333, loss:1.0736087560653687, lr:0.014708045300779527\n",
            "epoch: 6800, acc: 0.4033333333333333, loss:1.0735702514648438, lr:0.014494854326714018\n",
            "epoch: 6900, acc: 0.4, loss:1.073532223701477, lr:0.014287755393627663\n",
            "epoch: 7000, acc: 0.4, loss:1.0734946727752686, lr:0.014086491055078181\n",
            "epoch: 7100, acc: 0.4, loss:1.0734572410583496, lr:0.013890818169190166\n",
            "epoch: 7200, acc: 0.39666666666666667, loss:1.0734200477600098, lr:0.013700506918755994\n",
            "epoch: 7300, acc: 0.39666666666666667, loss:1.0733833312988281, lr:0.013515339910798757\n",
            "epoch: 7400, acc: 0.39666666666666667, loss:1.0733470916748047, lr:0.013335111348179758\n",
            "epoch: 7500, acc: 0.39666666666666667, loss:1.0733108520507812, lr:0.013159626266614028\n",
            "epoch: 7600, acc: 0.39666666666666667, loss:1.073275089263916, lr:0.012988699831146902\n",
            "epoch: 7700, acc: 0.39666666666666667, loss:1.073239803314209, lr:0.012822156686754713\n",
            "epoch: 7800, acc: 0.39666666666666667, loss:1.073204755783081, lr:0.0126598303582732\n",
            "epoch: 7900, acc: 0.39666666666666667, loss:1.073169469833374, lr:0.012501562695336917\n",
            "epoch: 8000, acc: 0.39666666666666667, loss:1.0731343030929565, lr:0.012347203358439314\n",
            "epoch: 8100, acc: 0.39666666666666667, loss:1.0730993747711182, lr:0.012196609342602758\n",
            "epoch: 8200, acc: 0.39666666666666667, loss:1.0730648040771484, lr:0.012049644535486204\n",
            "epoch: 8300, acc: 0.39666666666666667, loss:1.073030710220337, lr:0.011906179307060364\n",
            "epoch: 8400, acc: 0.39666666666666667, loss:1.072996735572815, lr:0.011766090128250382\n",
            "epoch: 8500, acc: 0.39666666666666667, loss:1.0729631185531616, lr:0.01162925921618793\n",
            "epoch: 8600, acc: 0.39666666666666667, loss:1.0729297399520874, lr:0.011495574203931488\n",
            "epoch: 8700, acc: 0.39666666666666667, loss:1.0728964805603027, lr:0.011364927832708264\n",
            "epoch: 8800, acc: 0.39666666666666667, loss:1.0728635787963867, lr:0.011237217664906169\n",
            "epoch: 8900, acc: 0.39666666666666667, loss:1.0728307962417603, lr:0.011112345816201801\n",
            "epoch: 9000, acc: 0.39666666666666667, loss:1.072798252105713, lr:0.010990218705352238\n",
            "epoch: 9100, acc: 0.39666666666666667, loss:1.0727659463882446, lr:0.010870746820306556\n",
            "epoch: 9200, acc: 0.39666666666666667, loss:1.0727338790893555, lr:0.010753844499408539\n",
            "epoch: 9300, acc: 0.39666666666666667, loss:1.0727018117904663, lr:0.010639429726566656\n",
            "epoch: 9400, acc: 0.39666666666666667, loss:1.0726702213287354, lr:0.010527423939362039\n",
            "epoch: 9500, acc: 0.39666666666666667, loss:1.0726385116577148, lr:0.010417751849150954\n",
            "epoch: 9600, acc: 0.39666666666666667, loss:1.072607159614563, lr:0.010310341272296112\n",
            "epoch: 9700, acc: 0.39666666666666667, loss:1.0725762844085693, lr:0.010205122971731808\n",
            "epoch: 9800, acc: 0.39666666666666667, loss:1.0725454092025757, lr:0.010102030508132133\n",
            "epoch: 9900, acc: 0.39666666666666667, loss:1.0725147724151611, lr:0.01000100010001\n",
            "epoch: 10000, acc: 0.39666666666666667, loss:1.0724841356277466, lr:0.009901970492127933\n"
          ],
          "name": "stdout"
        },
        {
          "output_type": "execute_result",
          "data": {
            "text/plain": [
              "Text(0, 0.5, 'Loss')"
            ]
          },
          "metadata": {
            "tags": []
          },
          "execution_count": 35
        },
        {
          "output_type": "display_data",
          "data": {
            "image/png": "[encoded data removed]",
            "text/plain": [
              "<Figure size 432x288 with 1 Axes>"
            ]
          },
          "metadata": {
            "tags": [],
            "needs_background": "light"
          }
        }
      ]
    },
    {
      "cell_type": "markdown",
      "metadata": {
        "id": "nHnoAADQEWCI"
      },
      "source": [
        "Less decay"
      ]
    },
    {
      "cell_type": "code",
      "metadata": {
        "colab": {
          "base_uri": "https://localhost:8080/",
          "height": 1000
        },
        "id": "UVttgor2EXqy",
        "outputId": "569131c2-5e8b-4b2c-9c87-40100f4dff74"
      },
      "source": [
        "import numpy as np\n",
        "import nnfs\n",
        "from nnfs.datasets import spiral_data\n",
        "\n",
        "nnfs.init()\n",
        "\n",
        "\n",
        "# Create dataset\n",
        "X, y = spiral_data(samples=100, classes=3)\n",
        "\n",
        "# Create Dense layer with 2 input features and 3 output values\n",
        "dense1 = Layer_Dense(2, 64)\n",
        "\n",
        "# Create ReLU activation (to be used with Dense layer):\n",
        "activation1 = Activation_ReLU()\n",
        "\n",
        "# Create second Dense layer with 3 input features (as we take output\n",
        "# of previous layer here) and 3 output values (output values)\n",
        "dense2 = Layer_Dense(64, 3)\n",
        "\n",
        "# Create Softmax classifier's combined loss and activation\n",
        "loss_activation = Activation_Softmax_Loss_CategoricalCrossentropy()\n",
        "\n",
        "optimizer = Optimizer_SGD(decay = 1e-3)\n",
        "\n",
        "#train in loop \n",
        "losses = []\n",
        "for epoch in range(10001):\n",
        "\n",
        "  #forward passes \n",
        "  dense1.forward(X)\n",
        "  activation1.forward(dense1.output)\n",
        "  dense2.forward(activation1.output)\n",
        "  loss = loss_activation.forward(dense2.output, y)\n",
        "  losses.append(loss)\n",
        "  # calcualte accuracy \n",
        "  predictions = np.argmax(loss_activation.output, axis = 1)\n",
        "  if len(y.shape) == 2:\n",
        "    y = np.argmax(y, axis = 1)\n",
        "  \n",
        "  accuracy = np.mean(predictions == y)\n",
        "\n",
        "  if not epoch % 100:\n",
        "    print(f'epoch: {epoch}, acc: {accuracy}, loss:{loss}, lr:{optimizer.current_learning_rate}' )\n",
        "\n",
        "  # backward pass \n",
        "  loss_activation.backward(loss_activation.output, y)\n",
        "  dense2.backward(loss_activation.dinputs)\n",
        "  activation1.backward(dense2.dinputs)\n",
        "  dense1.backward(activation1.dinputs)\n",
        "\n",
        "  #update params \n",
        "  optimizer.pre_update_params()\n",
        "  optimizer.update_params(dense1)\n",
        "  optimizer.update_params(dense2)\n",
        "  optimizer.post_update_params()\n",
        "\n",
        "plt.plot(range(len(losses)), losses)\n",
        "plt.title('Loss vs steps')\n",
        "plt.xlabel('Steps')\n",
        "plt.ylabel('Loss')\n"
      ],
      "execution_count": 36,
      "outputs": [
        {
          "output_type": "stream",
          "text": [
            "epoch: 0, acc: 0.36, loss:1.098594307899475, lr:1.0\n",
            "epoch: 100, acc: 0.4, loss:1.088205099105835, lr:0.9099181073703367\n",
            "epoch: 200, acc: 0.42333333333333334, loss:1.0777205228805542, lr:0.8340283569641367\n",
            "epoch: 300, acc: 0.42333333333333334, loss:1.0764548778533936, lr:0.7698229407236336\n",
            "epoch: 400, acc: 0.42, loss:1.0755491256713867, lr:0.7147962830593281\n",
            "epoch: 500, acc: 0.4033333333333333, loss:1.0741554498672485, lr:0.66711140760507\n",
            "epoch: 600, acc: 0.4033333333333333, loss:1.0723166465759277, lr:0.6253908692933083\n",
            "epoch: 700, acc: 0.41, loss:1.0703470706939697, lr:0.5885815185403178\n",
            "epoch: 800, acc: 0.4066666666666667, loss:1.0682345628738403, lr:0.5558643690939411\n",
            "epoch: 900, acc: 0.4266666666666667, loss:1.0658538341522217, lr:0.526592943654555\n",
            "epoch: 1000, acc: 0.44333333333333336, loss:1.0631405115127563, lr:0.5002501250625312\n",
            "epoch: 1100, acc: 0.43666666666666665, loss:1.059455156326294, lr:0.4764173415912339\n",
            "epoch: 1200, acc: 0.44666666666666666, loss:1.0557358264923096, lr:0.45475216007276037\n",
            "epoch: 1300, acc: 0.44, loss:1.051923394203186, lr:0.43497172683775553\n",
            "epoch: 1400, acc: 0.43, loss:1.0476053953170776, lr:0.4168403501458941\n",
            "epoch: 1500, acc: 0.41333333333333333, loss:1.040504813194275, lr:0.4001600640256102\n",
            "epoch: 1600, acc: 0.42, loss:1.032575249671936, lr:0.3847633705271258\n",
            "epoch: 1700, acc: 0.43666666666666665, loss:1.0250996351242065, lr:0.3705075954057058\n",
            "epoch: 1800, acc: 0.44666666666666666, loss:1.017133355140686, lr:0.35727045373347627\n",
            "epoch: 1900, acc: 0.44666666666666666, loss:1.008447289466858, lr:0.3449465332873405\n",
            "epoch: 2000, acc: 0.49, loss:0.999559760093689, lr:0.33344448149383127\n",
            "epoch: 2100, acc: 0.45, loss:1.0048989057540894, lr:0.32268473701193934\n",
            "epoch: 2200, acc: 0.42333333333333334, loss:1.0087372064590454, lr:0.31259768677711786\n",
            "epoch: 2300, acc: 0.43333333333333335, loss:1.0062755346298218, lr:0.3031221582297666\n",
            "epoch: 2400, acc: 0.43333333333333335, loss:1.0024940967559814, lr:0.29420417769932333\n",
            "epoch: 2500, acc: 0.44, loss:0.9987099170684814, lr:0.2857959416976279\n",
            "epoch: 2600, acc: 0.44333333333333336, loss:0.9944607615470886, lr:0.2778549597110308\n",
            "epoch: 2700, acc: 0.46, loss:0.9896107912063599, lr:0.2703433360367667\n",
            "epoch: 2800, acc: 0.4633333333333333, loss:0.9859461188316345, lr:0.26322716504343247\n",
            "epoch: 2900, acc: 0.48, loss:0.9811713695526123, lr:0.25647601949217746\n",
            "epoch: 3000, acc: 0.4866666666666667, loss:0.977130115032196, lr:0.25006251562890724\n",
            "epoch: 3100, acc: 0.4866666666666667, loss:0.9723496437072754, lr:0.2439619419370578\n",
            "epoch: 3200, acc: 0.5033333333333333, loss:0.9681275486946106, lr:0.23815194093831865\n",
            "epoch: 3300, acc: 0.5066666666666667, loss:0.9633573293685913, lr:0.23261223540358225\n",
            "epoch: 3400, acc: 0.51, loss:0.9590501189231873, lr:0.22732439190725165\n",
            "epoch: 3500, acc: 0.5166666666666667, loss:0.9550294876098633, lr:0.22227161591464767\n",
            "epoch: 3600, acc: 0.5233333333333333, loss:0.9505584836006165, lr:0.21743857360295715\n",
            "epoch: 3700, acc: 0.5266666666666666, loss:0.9462372064590454, lr:0.21281123643328367\n",
            "epoch: 3800, acc: 0.53, loss:0.9415592551231384, lr:0.20837674515524068\n",
            "epoch: 3900, acc: 0.53, loss:0.9366893768310547, lr:0.20412329046744235\n",
            "epoch: 4000, acc: 0.5366666666666666, loss:0.9319341778755188, lr:0.2000400080016003\n",
            "epoch: 4100, acc: 0.5466666666666666, loss:0.9286285638809204, lr:0.19611688566385566\n",
            "epoch: 4200, acc: 0.5466666666666666, loss:0.9241488575935364, lr:0.19234468166955185\n",
            "epoch: 4300, acc: 0.5466666666666666, loss:0.920760989189148, lr:0.18871485185884126\n",
            "epoch: 4400, acc: 0.5466666666666666, loss:0.9167051315307617, lr:0.18521948508983144\n",
            "epoch: 4500, acc: 0.56, loss:0.912702739238739, lr:0.18185124568103292\n",
            "epoch: 4600, acc: 0.55, loss:0.9091458916664124, lr:0.1786033220217896\n",
            "epoch: 4700, acc: 0.56, loss:0.9052979350090027, lr:0.1754693805930865\n",
            "epoch: 4800, acc: 0.56, loss:0.900590181350708, lr:0.17244352474564578\n",
            "epoch: 4900, acc: 0.5566666666666666, loss:0.8969241380691528, lr:0.16952025767079165\n",
            "epoch: 5000, acc: 0.5633333333333334, loss:0.8934779763221741, lr:0.16669444907484582\n",
            "epoch: 5100, acc: 0.5666666666666667, loss:0.8902596235275269, lr:0.16396130513198884\n",
            "epoch: 5200, acc: 0.57, loss:0.887595534324646, lr:0.16131634134537828\n",
            "epoch: 5300, acc: 0.57, loss:0.8825060129165649, lr:0.15875535799333226\n",
            "epoch: 5400, acc: 0.58, loss:0.8798065185546875, lr:0.1562744178777934\n",
            "epoch: 5500, acc: 0.5866666666666667, loss:0.876708984375, lr:0.15386982612709646\n",
            "epoch: 5600, acc: 0.59, loss:0.8754709959030151, lr:0.15153811183512653\n",
            "epoch: 5700, acc: 0.5933333333333334, loss:0.8722601532936096, lr:0.14927601134497687\n",
            "epoch: 5800, acc: 0.59, loss:0.8692604303359985, lr:0.14708045300779526\n",
            "epoch: 5900, acc: 0.59, loss:0.8657904267311096, lr:0.14494854326714016\n",
            "epoch: 6000, acc: 0.5866666666666667, loss:0.8626292943954468, lr:0.1428775539362766\n",
            "epoch: 6100, acc: 0.5833333333333334, loss:0.8590361475944519, lr:0.1408649105507818\n",
            "epoch: 6200, acc: 0.5833333333333334, loss:0.8560277223587036, lr:0.13890818169190167\n",
            "epoch: 6300, acc: 0.58, loss:0.852372944355011, lr:0.13700506918755992\n",
            "epoch: 6400, acc: 0.5766666666666667, loss:0.8499178290367126, lr:0.13515339910798757\n",
            "epoch: 6500, acc: 0.5833333333333334, loss:0.8468402028083801, lr:0.13335111348179757\n",
            "epoch: 6600, acc: 0.59, loss:0.843994140625, lr:0.13159626266614027\n",
            "epoch: 6700, acc: 0.59, loss:0.8438836932182312, lr:0.12988699831146902\n",
            "epoch: 6800, acc: 0.59, loss:0.8419830799102783, lr:0.12822156686754713\n",
            "epoch: 6900, acc: 0.5933333333333334, loss:0.838492751121521, lr:0.126598303582732\n",
            "epoch: 7000, acc: 0.5933333333333334, loss:0.8356691598892212, lr:0.12501562695336915\n",
            "epoch: 7100, acc: 0.5966666666666667, loss:0.8317149877548218, lr:0.12347203358439313\n",
            "epoch: 7200, acc: 0.6, loss:0.829009473323822, lr:0.12196609342602757\n",
            "epoch: 7300, acc: 0.6, loss:0.825796902179718, lr:0.12049644535486204\n",
            "epoch: 7400, acc: 0.6033333333333334, loss:0.8230707049369812, lr:0.11906179307060363\n",
            "epoch: 7500, acc: 0.6066666666666667, loss:0.8197982311248779, lr:0.11766090128250381\n",
            "epoch: 7600, acc: 0.6033333333333334, loss:0.8173811435699463, lr:0.11629259216187929\n",
            "epoch: 7700, acc: 0.6, loss:0.8143560290336609, lr:0.11495574203931487\n",
            "epoch: 7800, acc: 0.5933333333333334, loss:0.8116163611412048, lr:0.11364927832708263\n",
            "epoch: 7900, acc: 0.5933333333333334, loss:0.8091781139373779, lr:0.11237217664906168\n",
            "epoch: 8000, acc: 0.5933333333333334, loss:0.8062868118286133, lr:0.11112345816201799\n",
            "epoch: 8100, acc: 0.6, loss:0.8034483790397644, lr:0.10990218705352237\n",
            "epoch: 8200, acc: 0.6, loss:0.8003649115562439, lr:0.10870746820306555\n",
            "epoch: 8300, acc: 0.6066666666666667, loss:0.7973328232765198, lr:0.1075384449940854\n",
            "epoch: 8400, acc: 0.6033333333333334, loss:0.7952946424484253, lr:0.10639429726566654\n",
            "epoch: 8500, acc: 0.5966666666666667, loss:0.7927553653717041, lr:0.10527423939362038\n",
            "epoch: 8600, acc: 0.6066666666666667, loss:0.7902684211730957, lr:0.10417751849150952\n",
            "epoch: 8700, acc: 0.62, loss:0.7878957986831665, lr:0.10310341272296113\n",
            "epoch: 8800, acc: 0.6233333333333333, loss:0.7859294414520264, lr:0.1020512297173181\n",
            "epoch: 8900, acc: 0.62, loss:0.7845796942710876, lr:0.10102030508132134\n",
            "epoch: 9000, acc: 0.6333333333333333, loss:0.7820120453834534, lr:0.1000100010001\n",
            "epoch: 9100, acc: 0.6333333333333333, loss:0.7794587016105652, lr:0.09901970492127933\n",
            "epoch: 9200, acc: 0.63, loss:0.777688205242157, lr:0.09804882831650162\n",
            "epoch: 9300, acc: 0.6366666666666667, loss:0.7751132249832153, lr:0.09709680551509856\n",
            "epoch: 9400, acc: 0.64, loss:0.772569477558136, lr:0.09616309260505818\n",
            "epoch: 9500, acc: 0.6366666666666667, loss:0.7725750803947449, lr:0.09524716639679968\n",
            "epoch: 9600, acc: 0.6366666666666667, loss:0.7712997198104858, lr:0.09434852344560807\n",
            "epoch: 9700, acc: 0.6433333333333333, loss:0.7677462100982666, lr:0.09346667912889055\n",
            "epoch: 9800, acc: 0.6433333333333333, loss:0.7657479047775269, lr:0.09260116677470137\n",
            "epoch: 9900, acc: 0.6466666666666666, loss:0.7632008194923401, lr:0.09175153683824203\n",
            "epoch: 10000, acc: 0.6466666666666666, loss:0.7612416744232178, lr:0.09091735612328393\n"
          ],
          "name": "stdout"
        },
        {
          "output_type": "execute_result",
          "data": {
            "text/plain": [
              "Text(0, 0.5, 'Loss')"
            ]
          },
          "metadata": {
            "tags": []
          },
          "execution_count": 36
        },
        {
          "output_type": "display_data",
          "data": {
            "image/png": "[encoded data removed]",
            "text/plain": [
              "<Figure size 432x288 with 1 Axes>"
            ]
          },
          "metadata": {
            "tags": [],
            "needs_background": "light"
          }
        }
      ]
    },
    {
      "cell_type": "code",
      "metadata": {
        "colab": {
          "base_uri": "https://localhost:8080/",
          "height": 1000
        },
        "id": "Uw9UwNdMN8Il",
        "outputId": "4ff65f06-a614-45a6-db36-620c1a1c5428"
      },
      "source": [
        "import numpy as np\n",
        "import nnfs\n",
        "from nnfs.datasets import spiral_data\n",
        "\n",
        "nnfs.init()\n",
        "\n",
        "\n",
        "# Create dataset\n",
        "X, y = spiral_data(samples=100, classes=3)\n",
        "\n",
        "# Create Dense layer with 2 input features and 3 output values\n",
        "dense1 = Layer_Dense(2, 64)\n",
        "\n",
        "# Create ReLU activation (to be used with Dense layer):\n",
        "activation1 = Activation_ReLU()\n",
        "\n",
        "# Create second Dense layer with 3 input features (as we take output\n",
        "# of previous layer here) and 3 output values (output values)\n",
        "dense2 = Layer_Dense(64, 3)\n",
        "\n",
        "# Create Softmax classifier's combined loss and activation\n",
        "loss_activation = Activation_Softmax_Loss_CategoricalCrossentropy()\n",
        "\n",
        "optimizer = Optimizer_SGD(learning_rate = 0.9, decay = 1e-3)\n",
        "\n",
        "#train in loop \n",
        "losses = []\n",
        "for epoch in range(10001):\n",
        "\n",
        "  #forward passes \n",
        "  dense1.forward(X)\n",
        "  activation1.forward(dense1.output)\n",
        "  dense2.forward(activation1.output)\n",
        "  loss = loss_activation.forward(dense2.output, y)\n",
        "  losses.append(loss)\n",
        "  # calcualte accuracy \n",
        "  predictions = np.argmax(loss_activation.output, axis = 1)\n",
        "  if len(y.shape) == 2:\n",
        "    y = np.argmax(y, axis = 1)\n",
        "  \n",
        "  accuracy = np.mean(predictions == y)\n",
        "\n",
        "  if not epoch % 100:\n",
        "    print(f'epoch: {epoch}, acc: {accuracy}, loss:{loss}, lr:{optimizer.current_learning_rate}' )\n",
        "\n",
        "  # backward pass \n",
        "  loss_activation.backward(loss_activation.output, y)\n",
        "  dense2.backward(loss_activation.dinputs)\n",
        "  activation1.backward(dense2.dinputs)\n",
        "  dense1.backward(activation1.dinputs)\n",
        "\n",
        "  #update params \n",
        "  optimizer.pre_update_params()\n",
        "  optimizer.update_params(dense1)\n",
        "  optimizer.update_params(dense2)\n",
        "  optimizer.post_update_params()\n",
        "\n",
        "plt.plot(range(len(losses)), losses)\n",
        "plt.title('Loss vs steps')\n",
        "plt.xlabel('Steps')\n",
        "plt.ylabel('Loss')\n"
      ],
      "execution_count": 37,
      "outputs": [
        {
          "output_type": "stream",
          "text": [
            "epoch: 0, acc: 0.36, loss:1.098594307899475, lr:0.9\n",
            "epoch: 100, acc: 0.4033333333333333, loss:1.0908864736557007, lr:0.8189262966333031\n",
            "epoch: 200, acc: 0.41, loss:1.0783594846725464, lr:0.7506255212677231\n",
            "epoch: 300, acc: 0.42, loss:1.0767338275909424, lr:0.6928406466512702\n",
            "epoch: 400, acc: 0.42, loss:1.0759800672531128, lr:0.6433166547533953\n",
            "epoch: 500, acc: 0.4066666666666667, loss:1.0750079154968262, lr:0.600400266844563\n",
            "epoch: 600, acc: 0.4, loss:1.0736521482467651, lr:0.5628517823639775\n",
            "epoch: 700, acc: 0.39666666666666667, loss:1.0720690488815308, lr:0.5297233666862861\n",
            "epoch: 800, acc: 0.4, loss:1.070396900177002, lr:0.500277932184547\n",
            "epoch: 900, acc: 0.41333333333333333, loss:1.068556547164917, lr:0.47393364928909953\n",
            "epoch: 1000, acc: 0.42333333333333334, loss:1.066581130027771, lr:0.45022511255627806\n",
            "epoch: 1100, acc: 0.44, loss:1.0645484924316406, lr:0.4287756074321105\n",
            "epoch: 1200, acc: 0.43333333333333335, loss:1.061824083328247, lr:0.4092769440654843\n",
            "epoch: 1300, acc: 0.43666666666666665, loss:1.0587058067321777, lr:0.39147455415397997\n",
            "epoch: 1400, acc: 0.44, loss:1.0556507110595703, lr:0.3751563151313047\n",
            "epoch: 1500, acc: 0.44, loss:1.0524868965148926, lr:0.3601440576230492\n",
            "epoch: 1600, acc: 0.42333333333333334, loss:1.0488972663879395, lr:0.3462870334744132\n",
            "epoch: 1700, acc: 0.4033333333333333, loss:1.0430479049682617, lr:0.33345683586513525\n",
            "epoch: 1800, acc: 0.42, loss:1.0370370149612427, lr:0.3215434083601286\n",
            "epoch: 1900, acc: 0.41333333333333333, loss:1.0306079387664795, lr:0.31045187995860646\n",
            "epoch: 2000, acc: 0.44333333333333336, loss:1.0244674682617188, lr:0.3001000333444481\n",
            "epoch: 2100, acc: 0.45666666666666667, loss:1.0180448293685913, lr:0.29041626331074544\n",
            "epoch: 2200, acc: 0.4666666666666667, loss:1.0111427307128906, lr:0.28133791809940606\n",
            "epoch: 2300, acc: 0.4766666666666667, loss:1.0035938024520874, lr:0.27280994240678996\n",
            "epoch: 2400, acc: 0.4866666666666667, loss:0.9961222410202026, lr:0.264783759929391\n",
            "epoch: 2500, acc: 0.5066666666666667, loss:0.9883489012718201, lr:0.2572163475278651\n",
            "epoch: 2600, acc: 0.52, loss:0.9803270697593689, lr:0.2500694637399277\n",
            "epoch: 2700, acc: 0.5333333333333333, loss:0.9721183180809021, lr:0.24330900243309003\n",
            "epoch: 2800, acc: 0.54, loss:0.9642433524131775, lr:0.23690444853908924\n",
            "epoch: 2900, acc: 0.5266666666666666, loss:0.9721681475639343, lr:0.2308284175429597\n",
            "epoch: 3000, acc: 0.5266666666666666, loss:0.9816446900367737, lr:0.22505626406601653\n",
            "epoch: 3100, acc: 0.5233333333333333, loss:0.982272207736969, lr:0.21956574774335202\n",
            "epoch: 3200, acc: 0.5133333333333333, loss:0.9802941679954529, lr:0.21433674684448678\n",
            "epoch: 3300, acc: 0.5133333333333333, loss:0.9753499627113342, lr:0.20935101186322402\n",
            "epoch: 3400, acc: 0.5133333333333333, loss:0.9709715843200684, lr:0.2045919527165265\n",
            "epoch: 3500, acc: 0.5166666666666667, loss:0.9691104292869568, lr:0.2000444543231829\n",
            "epoch: 3600, acc: 0.52, loss:0.9643534421920776, lr:0.19569471624266144\n",
            "epoch: 3700, acc: 0.5266666666666666, loss:0.9589905738830566, lr:0.1915301127899553\n",
            "epoch: 3800, acc: 0.5266666666666666, loss:0.9547461867332458, lr:0.18753907063971662\n",
            "epoch: 3900, acc: 0.5266666666666666, loss:0.9501391649246216, lr:0.18371096142069812\n",
            "epoch: 4000, acc: 0.5533333333333333, loss:0.944556474685669, lr:0.18003600720144028\n",
            "epoch: 4100, acc: 0.5566666666666666, loss:0.9408277273178101, lr:0.1765051970974701\n",
            "epoch: 4200, acc: 0.5566666666666666, loss:0.9361344575881958, lr:0.17311021350259667\n",
            "epoch: 4300, acc: 0.5533333333333333, loss:0.9305354952812195, lr:0.16984336667295713\n",
            "epoch: 4400, acc: 0.5566666666666666, loss:0.9244834184646606, lr:0.1666975365808483\n",
            "epoch: 4500, acc: 0.57, loss:0.9195552468299866, lr:0.16366612111292964\n",
            "epoch: 4600, acc: 0.5766666666666667, loss:0.9146866798400879, lr:0.16074298981961066\n",
            "epoch: 4700, acc: 0.58, loss:0.9090193510055542, lr:0.15792244253377785\n",
            "epoch: 4800, acc: 0.58, loss:0.9042315483093262, lr:0.1551991722710812\n",
            "epoch: 4900, acc: 0.59, loss:0.8984189033508301, lr:0.1525682319037125\n",
            "epoch: 5000, acc: 0.59, loss:0.8914826512336731, lr:0.15002500416736125\n",
            "epoch: 5100, acc: 0.6, loss:0.8875898122787476, lr:0.14756517461878996\n",
            "epoch: 5200, acc: 0.6, loss:0.8835523724555969, lr:0.14518470721084045\n",
            "epoch: 5300, acc: 0.61, loss:0.880218505859375, lr:0.14287982219399903\n",
            "epoch: 5400, acc: 0.6033333333333334, loss:0.8742620944976807, lr:0.14064697609001406\n",
            "epoch: 5500, acc: 0.62, loss:0.8705706596374512, lr:0.1384828435143868\n",
            "epoch: 5600, acc: 0.62, loss:0.8626813888549805, lr:0.1363843006516139\n",
            "epoch: 5700, acc: 0.62, loss:0.8595470190048218, lr:0.1343484102104792\n",
            "epoch: 5800, acc: 0.6233333333333333, loss:0.8568951487541199, lr:0.13237240770701575\n",
            "epoch: 5900, acc: 0.6233333333333333, loss:0.855272114276886, lr:0.13045368894042614\n",
            "epoch: 6000, acc: 0.6333333333333333, loss:0.852644145488739, lr:0.12858979854264896\n",
            "epoch: 6100, acc: 0.6366666666666667, loss:0.849540114402771, lr:0.12677841949570362\n",
            "epoch: 6200, acc: 0.6433333333333333, loss:0.8470592498779297, lr:0.1250173635227115\n",
            "epoch: 6300, acc: 0.64, loss:0.8446479439735413, lr:0.12330456226880393\n",
            "epoch: 6400, acc: 0.6466666666666666, loss:0.8407024145126343, lr:0.12163805919718881\n",
            "epoch: 6500, acc: 0.6466666666666666, loss:0.8371514081954956, lr:0.12001600213361781\n",
            "epoch: 6600, acc: 0.65, loss:0.8331452012062073, lr:0.11843663639952624\n",
            "epoch: 6700, acc: 0.6633333333333333, loss:0.8294439911842346, lr:0.11689829848032213\n",
            "epoch: 6800, acc: 0.67, loss:0.8256804347038269, lr:0.11539941018079242\n",
            "epoch: 6900, acc: 0.6666666666666666, loss:0.8220816254615784, lr:0.1139384732244588\n",
            "epoch: 7000, acc: 0.6666666666666666, loss:0.8195241093635559, lr:0.11251406425803225\n",
            "epoch: 7100, acc: 0.6666666666666666, loss:0.8168964385986328, lr:0.11112483022595382\n",
            "epoch: 7200, acc: 0.66, loss:0.8125894069671631, lr:0.10976948408342482\n",
            "epoch: 7300, acc: 0.66, loss:0.8100716471672058, lr:0.10844680081937584\n",
            "epoch: 7400, acc: 0.6666666666666666, loss:0.806832492351532, lr:0.10715561376354327\n",
            "epoch: 7500, acc: 0.66, loss:0.8043791651725769, lr:0.10589481115425343\n",
            "epoch: 7600, acc: 0.6633333333333333, loss:0.8022889494895935, lr:0.10466333294569136\n",
            "epoch: 7700, acc: 0.67, loss:0.7999650835990906, lr:0.10346016783538338\n",
            "epoch: 7800, acc: 0.67, loss:0.7967278957366943, lr:0.10228435049437437\n",
            "epoch: 7900, acc: 0.6666666666666666, loss:0.7949321269989014, lr:0.10113495898415552\n",
            "epoch: 8000, acc: 0.6666666666666666, loss:0.7936319708824158, lr:0.1000111123458162\n",
            "epoch: 8100, acc: 0.66, loss:0.7914961576461792, lr:0.09891196834817013\n",
            "epoch: 8200, acc: 0.6566666666666666, loss:0.7888838648796082, lr:0.09783672138275899\n",
            "epoch: 8300, acc: 0.6533333333333333, loss:0.7871407866477966, lr:0.09678460049467685\n",
            "epoch: 8400, acc: 0.6633333333333333, loss:0.7864149212837219, lr:0.0957548675390999\n",
            "epoch: 8500, acc: 0.66, loss:0.7837116718292236, lr:0.09474681545425834\n",
            "epoch: 8600, acc: 0.66, loss:0.7820512056350708, lr:0.09375976664235858\n",
            "epoch: 8700, acc: 0.65, loss:0.780517578125, lr:0.09279307145066501\n",
            "epoch: 8800, acc: 0.66, loss:0.7791102528572083, lr:0.0918461067455863\n",
            "epoch: 8900, acc: 0.6633333333333333, loss:0.7778030633926392, lr:0.09091827457318921\n",
            "epoch: 9000, acc: 0.6633333333333333, loss:0.7764581441879272, lr:0.09000900090009001\n",
            "epoch: 9100, acc: 0.6633333333333333, loss:0.7752015590667725, lr:0.0891177344291514\n",
            "epoch: 9200, acc: 0.6633333333333333, loss:0.7740125060081482, lr:0.08824394548485145\n",
            "epoch: 9300, acc: 0.6633333333333333, loss:0.7728772759437561, lr:0.0873871249635887\n",
            "epoch: 9400, acc: 0.66, loss:0.771757960319519, lr:0.08654678334455236\n",
            "epoch: 9500, acc: 0.6633333333333333, loss:0.7706199288368225, lr:0.08572244975711972\n",
            "epoch: 9600, acc: 0.6666666666666666, loss:0.7695419192314148, lr:0.08491367110104726\n",
            "epoch: 9700, acc: 0.6666666666666666, loss:0.7683978080749512, lr:0.08412001121600149\n",
            "epoch: 9800, acc: 0.6666666666666666, loss:0.7672532200813293, lr:0.08334105009723124\n",
            "epoch: 9900, acc: 0.6666666666666666, loss:0.7661957740783691, lr:0.08257638315441783\n",
            "epoch: 10000, acc: 0.6666666666666666, loss:0.7651330828666687, lr:0.08182562051095554\n"
          ],
          "name": "stdout"
        },
        {
          "output_type": "execute_result",
          "data": {
            "text/plain": [
              "Text(0, 0.5, 'Loss')"
            ]
          },
          "metadata": {
            "tags": []
          },
          "execution_count": 37
        },
        {
          "output_type": "display_data",
          "data": {
            "image/png": "[encoded data removed]",
            "text/plain": [
              "<Figure size 432x288 with 1 Axes>"
            ]
          },
          "metadata": {
            "tags": [],
            "needs_background": "light"
          }
        }
      ]
    },
    {
      "cell_type": "code",
      "metadata": {
        "id": "fEx4hZ_l8XnG"
      },
      "source": [
        "# SGD optimizer\n",
        "class Optimizer_SGD:\n",
        "\n",
        "    # Initialize optimizer - set settings,\n",
        "    # learning rate of 1. is default for this optimizer\n",
        "    def __init__(self, learning_rate=1., decay=0., momentum=0.):\n",
        "        self.learning_rate = learning_rate\n",
        "        self.current_learning_rate = learning_rate\n",
        "        self.decay = decay\n",
        "        self.iterations = 0\n",
        "        self.momentum = momentum\n",
        "\n",
        "    # Call once before any parameter updates\n",
        "    def pre_update_params(self):\n",
        "        if self.decay:\n",
        "            self.current_learning_rate = self.learning_rate * \\\n",
        "                (1. / (1. + self.decay * self.iterations))\n",
        "\n",
        "    # Update parameters\n",
        "    def update_params(self, layer):\n",
        "\n",
        "        # If we use momentum\n",
        "        if self.momentum:\n",
        "\n",
        "            # If layer does not contain momentum arrays, create them\n",
        "            # filled with zeros\n",
        "            if not hasattr(layer, 'weight_momentums'):\n",
        "                layer.weight_momentums = np.zeros_like(layer.weights)\n",
        "                # If there is no momentum array for weights\n",
        "                # The array doesn't exist for biases yet either.\n",
        "                layer.bias_momentums = np.zeros_like(layer.biases)\n",
        "\n",
        "            # Build weight updates with momentum - take previous\n",
        "            # updates multiplied by retain factor and update with\n",
        "            # current gradients\n",
        "            weight_updates = \\\n",
        "                self.momentum * layer.weight_momentums - \\\n",
        "                self.current_learning_rate * layer.dweights\n",
        "            layer.weight_momentums = weight_updates\n",
        "\n",
        "            # Build bias updates\n",
        "            bias_updates = \\\n",
        "                self.momentum * layer.bias_momentums - \\\n",
        "                self.current_learning_rate * layer.dbiases\n",
        "            layer.bias_momentums = bias_updates\n",
        "\n",
        "        # Vanilla SGD updates (as before momentum update)\n",
        "        else:\n",
        "            weight_updates = -self.current_learning_rate * \\\n",
        "                             layer.dweights\n",
        "            bias_updates = -self.current_learning_rate * \\\n",
        "                           layer.dbiases\n",
        "\n",
        "        # Update weights and biases using either\n",
        "        # vanilla or momentum updates\n",
        "        layer.weights += weight_updates\n",
        "        layer.biases += bias_updates\n",
        "\n",
        "\n",
        "    # Call once after any parameter updates\n",
        "    def post_update_params(self):\n",
        "        self.iterations += 1"
      ],
      "execution_count": 39,
      "outputs": []
    },
    {
      "cell_type": "code",
      "metadata": {
        "colab": {
          "base_uri": "https://localhost:8080/",
          "height": 1000
        },
        "id": "77Mn4VOiCdpP",
        "outputId": "3e225733-8247-42cc-9a3e-2257dce246e1"
      },
      "source": [
        "import numpy as np\n",
        "import nnfs\n",
        "from nnfs.datasets import spiral_data\n",
        "\n",
        "nnfs.init()\n",
        "\n",
        "\n",
        "# Create dataset\n",
        "X, y = spiral_data(samples=100, classes=3)\n",
        "\n",
        "# Create Dense layer with 2 input features and 3 output values\n",
        "dense1 = Layer_Dense(2, 64)\n",
        "\n",
        "# Create ReLU activation (to be used with Dense layer):\n",
        "activation1 = Activation_ReLU()\n",
        "\n",
        "# Create second Dense layer with 3 input features (as we take output\n",
        "# of previous layer here) and 3 output values (output values)\n",
        "dense2 = Layer_Dense(64, 3)\n",
        "\n",
        "# Create Softmax classifier's combined loss and activation\n",
        "loss_activation = Activation_Softmax_Loss_CategoricalCrossentropy()\n",
        "\n",
        "optimizer = Optimizer_SGD(decay = 1e-3, momentum  =0.5)\n",
        "\n",
        "#train in loop \n",
        "losses = []\n",
        "for epoch in range(25000):\n",
        "\n",
        "  #forward passes \n",
        "  dense1.forward(X)\n",
        "  activation1.forward(dense1.output)\n",
        "  dense2.forward(activation1.output)\n",
        "  loss = loss_activation.forward(dense2.output, y)\n",
        "  losses.append(loss)\n",
        "  # calcualte accuracy \n",
        "  predictions = np.argmax(loss_activation.output, axis = 1)\n",
        "  if len(y.shape) == 2:\n",
        "    y = np.argmax(y, axis = 1)\n",
        "  \n",
        "  accuracy = np.mean(predictions == y)\n",
        "\n",
        "  if not epoch % 100:\n",
        "    print(f'epoch: {epoch}, acc: {accuracy}, loss:{loss}, lr:{optimizer.current_learning_rate}' )\n",
        "\n",
        "  # backward pass \n",
        "  loss_activation.backward(loss_activation.output, y)\n",
        "  dense2.backward(loss_activation.dinputs)\n",
        "  activation1.backward(dense2.dinputs)\n",
        "  dense1.backward(activation1.dinputs)\n",
        "\n",
        "  #update params \n",
        "  optimizer.pre_update_params()\n",
        "  optimizer.update_params(dense1)\n",
        "  optimizer.update_params(dense2)\n",
        "  optimizer.post_update_params()\n",
        "\n",
        "plt.plot(range(len(losses)), losses)\n",
        "plt.title('Loss vs steps')\n",
        "plt.xlabel('Steps')\n",
        "plt.ylabel('Loss')\n"
      ],
      "execution_count": 41,
      "outputs": [
        {
          "output_type": "stream",
          "text": [
            "epoch: 0, acc: 0.36, loss:1.098594307899475, lr:1.0\n",
            "epoch: 100, acc: 0.4266666666666667, loss:1.0776474475860596, lr:0.9099181073703367\n",
            "epoch: 200, acc: 0.42, loss:1.0752781629562378, lr:0.8340283569641367\n",
            "epoch: 300, acc: 0.4066666666666667, loss:1.0710084438323975, lr:0.7698229407236336\n",
            "epoch: 400, acc: 0.42, loss:1.0651527643203735, lr:0.7147962830593281\n",
            "epoch: 500, acc: 0.45, loss:1.0558302402496338, lr:0.66711140760507\n",
            "epoch: 600, acc: 0.44666666666666666, loss:1.0429142713546753, lr:0.6253908692933083\n",
            "epoch: 700, acc: 0.44333333333333336, loss:1.0206767320632935, lr:0.5885815185403178\n",
            "epoch: 800, acc: 0.44666666666666666, loss:1.0313973426818848, lr:0.5558643690939411\n",
            "epoch: 900, acc: 0.47333333333333333, loss:1.020171880722046, lr:0.526592943654555\n",
            "epoch: 1000, acc: 0.49333333333333335, loss:1.0180854797363281, lr:0.5002501250625312\n",
            "epoch: 1100, acc: 0.49333333333333335, loss:1.0113260746002197, lr:0.4764173415912339\n",
            "epoch: 1200, acc: 0.49666666666666665, loss:1.0063916444778442, lr:0.45475216007276037\n",
            "epoch: 1300, acc: 0.5033333333333333, loss:0.9850419163703918, lr:0.43497172683775553\n",
            "epoch: 1400, acc: 0.48, loss:0.9752609133720398, lr:0.4168403501458941\n",
            "epoch: 1500, acc: 0.5166666666666667, loss:1.0067600011825562, lr:0.4001600640256102\n",
            "epoch: 1600, acc: 0.53, loss:0.9979339838027954, lr:0.3847633705271258\n",
            "epoch: 1700, acc: 0.53, loss:0.9758486151695251, lr:0.3705075954057058\n",
            "epoch: 1800, acc: 0.5466666666666666, loss:0.9722157716751099, lr:0.35727045373347627\n",
            "epoch: 1900, acc: 0.5433333333333333, loss:0.96370929479599, lr:0.3449465332873405\n",
            "epoch: 2000, acc: 0.5466666666666666, loss:0.9794057011604309, lr:0.33344448149383127\n",
            "epoch: 2100, acc: 0.55, loss:0.9934732913970947, lr:0.32268473701193934\n",
            "epoch: 2200, acc: 0.5433333333333333, loss:0.933728039264679, lr:0.31259768677711786\n",
            "epoch: 2300, acc: 0.55, loss:0.9930039644241333, lr:0.3031221582297666\n",
            "epoch: 2400, acc: 0.54, loss:0.9242481589317322, lr:0.29420417769932333\n",
            "epoch: 2500, acc: 0.5633333333333334, loss:0.9551560282707214, lr:0.2857959416976279\n",
            "epoch: 2600, acc: 0.5633333333333334, loss:0.9338002800941467, lr:0.2778549597110308\n",
            "epoch: 2700, acc: 0.5766666666666667, loss:0.9225409030914307, lr:0.2703433360367667\n",
            "epoch: 2800, acc: 0.5766666666666667, loss:0.9188584685325623, lr:0.26322716504343247\n",
            "epoch: 2900, acc: 0.5733333333333334, loss:0.922747015953064, lr:0.25647601949217746\n",
            "epoch: 3000, acc: 0.5766666666666667, loss:0.8813536763191223, lr:0.25006251562890724\n",
            "epoch: 3100, acc: 0.5833333333333334, loss:0.8849719166755676, lr:0.2439619419370578\n",
            "epoch: 3200, acc: 0.62, loss:0.8566021919250488, lr:0.23815194093831865\n",
            "epoch: 3300, acc: 0.6033333333333334, loss:0.8684444427490234, lr:0.23261223540358225\n",
            "epoch: 3400, acc: 0.5833333333333334, loss:0.8812788724899292, lr:0.22732439190725165\n",
            "epoch: 3500, acc: 0.5966666666666667, loss:0.8631296753883362, lr:0.22227161591464767\n",
            "epoch: 3600, acc: 0.6133333333333333, loss:0.8459405303001404, lr:0.21743857360295715\n",
            "epoch: 3700, acc: 0.64, loss:0.8198301196098328, lr:0.21281123643328367\n",
            "epoch: 3800, acc: 0.6233333333333333, loss:0.8243356347084045, lr:0.20837674515524068\n",
            "epoch: 3900, acc: 0.6066666666666667, loss:0.8430351614952087, lr:0.20412329046744235\n",
            "epoch: 4000, acc: 0.6233333333333333, loss:0.8102720379829407, lr:0.2000400080016003\n",
            "epoch: 4100, acc: 0.6233333333333333, loss:0.834318995475769, lr:0.19611688566385566\n",
            "epoch: 4200, acc: 0.63, loss:0.8013365864753723, lr:0.19234468166955185\n",
            "epoch: 4300, acc: 0.6433333333333333, loss:0.7840418815612793, lr:0.18871485185884126\n",
            "epoch: 4400, acc: 0.6633333333333333, loss:0.7751749753952026, lr:0.18521948508983144\n",
            "epoch: 4500, acc: 0.6466666666666666, loss:0.7789967060089111, lr:0.18185124568103292\n",
            "epoch: 4600, acc: 0.6533333333333333, loss:0.7658028602600098, lr:0.1786033220217896\n",
            "epoch: 4700, acc: 0.6633333333333333, loss:0.7508143186569214, lr:0.1754693805930865\n",
            "epoch: 4800, acc: 0.6533333333333333, loss:0.7519492506980896, lr:0.17244352474564578\n",
            "epoch: 4900, acc: 0.6466666666666666, loss:0.7650014758110046, lr:0.16952025767079165\n",
            "epoch: 5000, acc: 0.66, loss:0.744621217250824, lr:0.16669444907484582\n",
            "epoch: 5100, acc: 0.6666666666666666, loss:0.7340646386146545, lr:0.16396130513198884\n",
            "epoch: 5200, acc: 0.6833333333333333, loss:0.7340014576911926, lr:0.16131634134537828\n",
            "epoch: 5300, acc: 0.7066666666666667, loss:0.7236548066139221, lr:0.15875535799333226\n",
            "epoch: 5400, acc: 0.6533333333333333, loss:0.730890154838562, lr:0.1562744178777934\n",
            "epoch: 5500, acc: 0.6666666666666666, loss:0.7310124039649963, lr:0.15386982612709646\n",
            "epoch: 5600, acc: 0.6666666666666666, loss:0.7136136889457703, lr:0.15153811183512653\n",
            "epoch: 5700, acc: 0.7, loss:0.6960659623146057, lr:0.14927601134497687\n",
            "epoch: 5800, acc: 0.67, loss:0.7163270115852356, lr:0.14708045300779526\n",
            "epoch: 5900, acc: 0.68, loss:0.6965180039405823, lr:0.14494854326714016\n",
            "epoch: 6000, acc: 0.7033333333333334, loss:0.6779309511184692, lr:0.1428775539362766\n",
            "epoch: 6100, acc: 0.6766666666666666, loss:0.6869231462478638, lr:0.1408649105507818\n",
            "epoch: 6200, acc: 0.6966666666666667, loss:0.6736894845962524, lr:0.13890818169190167\n",
            "epoch: 6300, acc: 0.69, loss:0.6747503280639648, lr:0.13700506918755992\n",
            "epoch: 6400, acc: 0.69, loss:0.6667998433113098, lr:0.13515339910798757\n",
            "epoch: 6500, acc: 0.6933333333333334, loss:0.6629419922828674, lr:0.13335111348179757\n",
            "epoch: 6600, acc: 0.68, loss:0.6725524663925171, lr:0.13159626266614027\n",
            "epoch: 6700, acc: 0.6933333333333334, loss:0.6562133431434631, lr:0.12988699831146902\n",
            "epoch: 6800, acc: 0.71, loss:0.6477257013320923, lr:0.12822156686754713\n",
            "epoch: 6900, acc: 0.72, loss:0.6404823064804077, lr:0.126598303582732\n",
            "epoch: 7000, acc: 0.7066666666666667, loss:0.6420261859893799, lr:0.12501562695336915\n",
            "epoch: 7100, acc: 0.7166666666666667, loss:0.6355139017105103, lr:0.12347203358439313\n",
            "epoch: 7200, acc: 0.7266666666666667, loss:0.6326407790184021, lr:0.12196609342602757\n",
            "epoch: 7300, acc: 0.73, loss:0.6264051198959351, lr:0.12049644535486204\n",
            "epoch: 7400, acc: 0.73, loss:0.6222986578941345, lr:0.11906179307060363\n",
            "epoch: 7500, acc: 0.7333333333333333, loss:0.619855523109436, lr:0.11766090128250381\n",
            "epoch: 7600, acc: 0.74, loss:0.6158869862556458, lr:0.11629259216187929\n",
            "epoch: 7700, acc: 0.7433333333333333, loss:0.6126937866210938, lr:0.11495574203931487\n",
            "epoch: 7800, acc: 0.7433333333333333, loss:0.609584391117096, lr:0.11364927832708263\n",
            "epoch: 7900, acc: 0.7433333333333333, loss:0.605916440486908, lr:0.11237217664906168\n",
            "epoch: 8000, acc: 0.7433333333333333, loss:0.6025527119636536, lr:0.11112345816201799\n",
            "epoch: 8100, acc: 0.7433333333333333, loss:0.6003170013427734, lr:0.10990218705352237\n",
            "epoch: 8200, acc: 0.7466666666666667, loss:0.596989095211029, lr:0.10870746820306555\n",
            "epoch: 8300, acc: 0.75, loss:0.5952409505844116, lr:0.1075384449940854\n",
            "epoch: 8400, acc: 0.7566666666666667, loss:0.5929646492004395, lr:0.10639429726566654\n",
            "epoch: 8500, acc: 0.7566666666666667, loss:0.5908587574958801, lr:0.10527423939362038\n",
            "epoch: 8600, acc: 0.76, loss:0.5888590216636658, lr:0.10417751849150952\n",
            "epoch: 8700, acc: 0.76, loss:0.5864834785461426, lr:0.10310341272296113\n",
            "epoch: 8800, acc: 0.7633333333333333, loss:0.5839033126831055, lr:0.1020512297173181\n",
            "epoch: 8900, acc: 0.7666666666666667, loss:0.581125795841217, lr:0.10102030508132134\n",
            "epoch: 9000, acc: 0.7633333333333333, loss:0.5779078006744385, lr:0.1000100010001\n",
            "epoch: 9100, acc: 0.7666666666666667, loss:0.5743922591209412, lr:0.09901970492127933\n",
            "epoch: 9200, acc: 0.77, loss:0.5725800395011902, lr:0.09804882831650162\n",
            "epoch: 9300, acc: 0.77, loss:0.5687853097915649, lr:0.09709680551509856\n",
            "epoch: 9400, acc: 0.7733333333333333, loss:0.5665604472160339, lr:0.09616309260505818\n",
            "epoch: 9500, acc: 0.7733333333333333, loss:0.5638228058815002, lr:0.09524716639679968\n",
            "epoch: 9600, acc: 0.7766666666666666, loss:0.5615196824073792, lr:0.09434852344560807\n",
            "epoch: 9700, acc: 0.7833333333333333, loss:0.558870255947113, lr:0.09346667912889055\n",
            "epoch: 9800, acc: 0.7833333333333333, loss:0.5572448968887329, lr:0.09260116677470137\n",
            "epoch: 9900, acc: 0.78, loss:0.5553344488143921, lr:0.09175153683824203\n",
            "epoch: 10000, acc: 0.78, loss:0.5530889630317688, lr:0.09091735612328393\n",
            "epoch: 10100, acc: 0.7866666666666666, loss:0.5505742430686951, lr:0.09009820704567979\n",
            "epoch: 10200, acc: 0.79, loss:0.5483107566833496, lr:0.0892936869363336\n",
            "epoch: 10300, acc: 0.79, loss:0.5464475750923157, lr:0.08850340738118417\n",
            "epoch: 10400, acc: 0.7933333333333333, loss:0.5442036390304565, lr:0.08772699359592946\n",
            "epoch: 10500, acc: 0.79, loss:0.5425392985343933, lr:0.08696408383337681\n",
            "epoch: 10600, acc: 0.7933333333333333, loss:0.5407847166061401, lr:0.08621432882145012\n",
            "epoch: 10700, acc: 0.7966666666666666, loss:0.5391027331352234, lr:0.08547739123001966\n",
            "epoch: 10800, acc: 0.7966666666666666, loss:0.5374584197998047, lr:0.08475294516484448\n",
            "epoch: 10900, acc: 0.8, loss:0.5360448956489563, lr:0.08404067568703252\n",
            "epoch: 11000, acc: 0.8066666666666666, loss:0.5340299606323242, lr:0.08334027835652971\n",
            "epoch: 11100, acc: 0.8066666666666666, loss:0.5326242446899414, lr:0.08265145879824778\n",
            "epoch: 11200, acc: 0.8066666666666666, loss:0.5312359929084778, lr:0.08197393228953193\n",
            "epoch: 11300, acc: 0.8066666666666666, loss:0.529880166053772, lr:0.08130742336775348\n",
            "epoch: 11400, acc: 0.8066666666666666, loss:0.5282825827598572, lr:0.08065166545689167\n",
            "epoch: 11500, acc: 0.81, loss:0.5270739793777466, lr:0.08000640051204096\n",
            "epoch: 11600, acc: 0.8066666666666666, loss:0.5255780220031738, lr:0.07937137868084769\n",
            "epoch: 11700, acc: 0.8066666666666666, loss:0.5242288112640381, lr:0.07874635798094339\n",
            "epoch: 11800, acc: 0.8066666666666666, loss:0.5228837132453918, lr:0.07813110399249942\n",
            "epoch: 11900, acc: 0.8066666666666666, loss:0.5216185450553894, lr:0.07752538956508256\n",
            "epoch: 12000, acc: 0.8066666666666666, loss:0.5203602910041809, lr:0.07692899453804139\n",
            "epoch: 12100, acc: 0.8066666666666666, loss:0.5193865299224854, lr:0.07634170547370028\n",
            "epoch: 12200, acc: 0.81, loss:0.5179125666618347, lr:0.07576331540268202\n",
            "epoch: 12300, acc: 0.81, loss:0.5167858600616455, lr:0.07519362358072036\n",
            "epoch: 12400, acc: 0.81, loss:0.515688955783844, lr:0.07463243525636241\n",
            "epoch: 12500, acc: 0.81, loss:0.5144290924072266, lr:0.07407956144899622\n",
            "epoch: 12600, acc: 0.8066666666666666, loss:0.5135239958763123, lr:0.07353481873667181\n",
            "epoch: 12700, acc: 0.8066666666666666, loss:0.5123708248138428, lr:0.07299802905321556\n",
            "epoch: 12800, acc: 0.8066666666666666, loss:0.5113204717636108, lr:0.07246901949416625\n",
            "epoch: 12900, acc: 0.8066666666666666, loss:0.5103026032447815, lr:0.07194762213108856\n",
            "epoch: 13000, acc: 0.8066666666666666, loss:0.5092885494232178, lr:0.07143367383384527\n",
            "epoch: 13100, acc: 0.8066666666666666, loss:0.5083392262458801, lr:0.07092701610043266\n",
            "epoch: 13200, acc: 0.8066666666666666, loss:0.5073763132095337, lr:0.07042749489400663\n",
            "epoch: 13300, acc: 0.8066666666666666, loss:0.5064617395401001, lr:0.06993496048674733\n",
            "epoch: 13400, acc: 0.8033333333333333, loss:0.5055527687072754, lr:0.06944926731022988\n",
            "epoch: 13500, acc: 0.8066666666666666, loss:0.5045073628425598, lr:0.06897027381198703\n",
            "epoch: 13600, acc: 0.8066666666666666, loss:0.5036851763725281, lr:0.06849784231796699\n",
            "epoch: 13700, acc: 0.8033333333333333, loss:0.5028202533721924, lr:0.06803183890060549\n",
            "epoch: 13800, acc: 0.81, loss:0.5018883943557739, lr:0.06757213325224677\n",
            "epoch: 13900, acc: 0.81, loss:0.5010611414909363, lr:0.06711859856366198\n",
            "epoch: 14000, acc: 0.8133333333333334, loss:0.500216543674469, lr:0.06667111140742715\n",
            "epoch: 14100, acc: 0.8133333333333334, loss:0.49932733178138733, lr:0.0662295516259355\n",
            "epoch: 14200, acc: 0.8133333333333334, loss:0.4985383152961731, lr:0.06579380222383052\n",
            "epoch: 14300, acc: 0.81, loss:0.49772775173187256, lr:0.06536374926465782\n",
            "epoch: 14400, acc: 0.81, loss:0.497005820274353, lr:0.06493928177154361\n",
            "epoch: 14500, acc: 0.81, loss:0.49621835350990295, lr:0.06452029163171817\n",
            "epoch: 14600, acc: 0.8133333333333334, loss:0.49538204073905945, lr:0.06410667350471184\n",
            "epoch: 14700, acc: 0.81, loss:0.49464112520217896, lr:0.0636983247340595\n",
            "epoch: 14800, acc: 0.8133333333333334, loss:0.49393823742866516, lr:0.06329514526235838\n",
            "epoch: 14900, acc: 0.8133333333333334, loss:0.4932352602481842, lr:0.06289703754953141\n",
            "epoch: 15000, acc: 0.8133333333333334, loss:0.49249425530433655, lr:0.06250390649415588\n",
            "epoch: 15100, acc: 0.8133333333333334, loss:0.49172282218933105, lr:0.06211565935772408\n",
            "epoch: 15200, acc: 0.8166666666666667, loss:0.49087849259376526, lr:0.061732205691709376\n",
            "epoch: 15300, acc: 0.8166666666666667, loss:0.49020150303840637, lr:0.061353457267317016\n",
            "epoch: 15400, acc: 0.8166666666666667, loss:0.489587664604187, lr:0.06097932800780535\n",
            "epoch: 15500, acc: 0.8233333333333334, loss:0.48888543248176575, lr:0.060609733923268065\n",
            "epoch: 15600, acc: 0.8233333333333334, loss:0.48823028802871704, lr:0.060244593047773964\n",
            "epoch: 15700, acc: 0.82, loss:0.4876672327518463, lr:0.0598838253787652\n",
            "epoch: 15800, acc: 0.82, loss:0.4870346486568451, lr:0.059527352818620156\n",
            "epoch: 15900, acc: 0.82, loss:0.48630544543266296, lr:0.05917509911829102\n",
            "epoch: 16000, acc: 0.82, loss:0.4856448471546173, lr:0.058826989822930754\n",
            "epoch: 16100, acc: 0.8166666666666667, loss:0.48504170775413513, lr:0.058482952219428036\n",
            "epoch: 16200, acc: 0.8233333333333334, loss:0.4843100905418396, lr:0.05814291528577242\n",
            "epoch: 16300, acc: 0.82, loss:0.4835953414440155, lr:0.05780680964217585\n",
            "epoch: 16400, acc: 0.8166666666666667, loss:0.4830057919025421, lr:0.05747456750387953\n",
            "epoch: 16500, acc: 0.8166666666666667, loss:0.482317715883255, lr:0.05714612263557918\n",
            "epoch: 16600, acc: 0.8233333333333334, loss:0.4817359447479248, lr:0.05682141030740383\n",
            "epoch: 16700, acc: 0.8166666666666667, loss:0.4812141954898834, lr:0.056500367252387135\n",
            "epoch: 16800, acc: 0.8166666666666667, loss:0.4805411696434021, lr:0.05618293162537221\n",
            "epoch: 16900, acc: 0.8133333333333334, loss:0.48002615571022034, lr:0.055869042963294036\n",
            "epoch: 17000, acc: 0.8266666666666667, loss:0.47940683364868164, lr:0.055558642146785936\n",
            "epoch: 17100, acc: 0.82, loss:0.47889211773872375, lr:0.05525167136305873\n",
            "epoch: 17200, acc: 0.8166666666666667, loss:0.47827890515327454, lr:0.05494807407000384\n",
            "epoch: 17300, acc: 0.8133333333333334, loss:0.4772934913635254, lr:0.0546477949614733\n",
            "epoch: 17400, acc: 0.8166666666666667, loss:0.47653746604919434, lr:0.05435077993369205\n",
            "epoch: 17500, acc: 0.8166666666666667, loss:0.47597062587738037, lr:0.05405697605275961\n",
            "epoch: 17600, acc: 0.8133333333333334, loss:0.47539830207824707, lr:0.05376633152320017\n",
            "epoch: 17700, acc: 0.8166666666666667, loss:0.47485047578811646, lr:0.05347879565752179\n",
            "epoch: 17800, acc: 0.8166666666666667, loss:0.4743026793003082, lr:0.05319431884674717\n",
            "epoch: 17900, acc: 0.8133333333333334, loss:0.47369903326034546, lr:0.05291285253187999\n",
            "epoch: 18000, acc: 0.8166666666666667, loss:0.47314900159835815, lr:0.05263434917627244\n",
            "epoch: 18100, acc: 0.8133333333333334, loss:0.4726179540157318, lr:0.05235876223886067\n",
            "epoch: 18200, acc: 0.8166666666666667, loss:0.4721454977989197, lr:0.052086046148236885\n",
            "epoch: 18300, acc: 0.8133333333333334, loss:0.47158971428871155, lr:0.05181615627752734\n",
            "epoch: 18400, acc: 0.8133333333333334, loss:0.4711062014102936, lr:0.05154904892004742\n",
            "epoch: 18500, acc: 0.8133333333333334, loss:0.47067707777023315, lr:0.051284681265705935\n",
            "epoch: 18600, acc: 0.8166666666666667, loss:0.470154732465744, lr:0.05102301137813154\n",
            "epoch: 18700, acc: 0.8133333333333334, loss:0.4696849584579468, lr:0.050763998172496064\n",
            "epoch: 18800, acc: 0.8166666666666667, loss:0.4692173898220062, lr:0.0505076013940098\n",
            "epoch: 18900, acc: 0.8166666666666667, loss:0.46876201033592224, lr:0.05025378159706518\n",
            "epoch: 19000, acc: 0.8166666666666667, loss:0.4683304727077484, lr:0.050002500125006254\n",
            "epoch: 19100, acc: 0.8166666666666667, loss:0.46786630153656006, lr:0.04975371909050202\n",
            "epoch: 19200, acc: 0.82, loss:0.46744823455810547, lr:0.04950740135650279\n",
            "epoch: 19300, acc: 0.82, loss:0.4670180380344391, lr:0.0492635105177595\n",
            "epoch: 19400, acc: 0.8166666666666667, loss:0.4666067361831665, lr:0.049022010882886415\n",
            "epoch: 19500, acc: 0.8166666666666667, loss:0.4661858081817627, lr:0.048782867456949125\n",
            "epoch: 19600, acc: 0.8166666666666667, loss:0.4657536745071411, lr:0.048546045924559446\n",
            "epoch: 19700, acc: 0.8166666666666667, loss:0.46535205841064453, lr:0.04831151263346055\n",
            "epoch: 19800, acc: 0.8166666666666667, loss:0.4649381637573242, lr:0.04807923457858551\n",
            "epoch: 19900, acc: 0.8166666666666667, loss:0.4645389914512634, lr:0.047849179386573515\n",
            "epoch: 20000, acc: 0.8166666666666667, loss:0.4641396999359131, lr:0.047621315300728606\n",
            "epoch: 20100, acc: 0.8166666666666667, loss:0.46376341581344604, lr:0.04739561116640599\n",
            "epoch: 20200, acc: 0.8166666666666667, loss:0.4633561074733734, lr:0.04717203641681211\n",
            "epoch: 20300, acc: 0.8166666666666667, loss:0.46285542845726013, lr:0.04695056105920466\n",
            "epoch: 20400, acc: 0.8166666666666667, loss:0.4621078073978424, lr:0.046731155661479507\n",
            "epoch: 20500, acc: 0.8166666666666667, loss:0.46155455708503723, lr:0.046513791339132055\n",
            "epoch: 20600, acc: 0.8166666666666667, loss:0.46106618642807007, lr:0.046298439742580674\n",
            "epoch: 20700, acc: 0.8166666666666667, loss:0.4606238901615143, lr:0.046085073044840774\n",
            "epoch: 20800, acc: 0.8166666666666667, loss:0.4602004885673523, lr:0.04587366392953805\n",
            "epoch: 20900, acc: 0.82, loss:0.459590345621109, lr:0.04566418557925019\n",
            "epoch: 21000, acc: 0.8166666666666667, loss:0.4588249623775482, lr:0.045456611664166556\n",
            "epoch: 21100, acc: 0.8233333333333334, loss:0.4582810401916504, lr:0.045250916331055706\n",
            "epoch: 21200, acc: 0.8233333333333334, loss:0.45777907967567444, lr:0.04504707419253119\n",
            "epoch: 21300, acc: 0.8233333333333334, loss:0.45733749866485596, lr:0.04484506031660613\n",
            "epoch: 21400, acc: 0.8233333333333334, loss:0.4568959176540375, lr:0.044644850216527525\n",
            "epoch: 21500, acc: 0.8266666666666667, loss:0.4564628601074219, lr:0.044446419840881816\n",
            "epoch: 21600, acc: 0.8266666666666667, loss:0.45605164766311646, lr:0.04424974556396301\n",
            "epoch: 21700, acc: 0.8233333333333334, loss:0.45564004778862, lr:0.044054804176395436\n",
            "epoch: 21800, acc: 0.8233333333333334, loss:0.45522522926330566, lr:0.043861572876003334\n",
            "epoch: 21900, acc: 0.8233333333333334, loss:0.4547414779663086, lr:0.0436700292589196\n",
            "epoch: 22000, acc: 0.8266666666666667, loss:0.45428401231765747, lr:0.043480151310926564\n",
            "epoch: 22100, acc: 0.8266666666666667, loss:0.4538702368736267, lr:0.0432919173990216\n",
            "epoch: 22200, acc: 0.8266666666666667, loss:0.45340830087661743, lr:0.043105306263201\n",
            "epoch: 22300, acc: 0.8266666666666667, loss:0.4529963731765747, lr:0.0429202970084553\n",
            "epoch: 22400, acc: 0.8233333333333334, loss:0.45220592617988586, lr:0.04273686909696996\n",
            "epoch: 22500, acc: 0.8266666666666667, loss:0.4516071677207947, lr:0.04255500234052513\n",
            "epoch: 22600, acc: 0.8266666666666667, loss:0.4510638415813446, lr:0.04237467689308869\n",
            "epoch: 22700, acc: 0.83, loss:0.45055288076400757, lr:0.042195873243596776\n",
            "epoch: 22800, acc: 0.83, loss:0.4500698745250702, lr:0.04201857220891634\n",
            "epoch: 22900, acc: 0.83, loss:0.44961023330688477, lr:0.04184275492698439\n",
            "epoch: 23000, acc: 0.83, loss:0.4491700828075409, lr:0.04166840285011876\n",
            "epoch: 23100, acc: 0.83, loss:0.44872233271598816, lr:0.041495497738495375\n",
            "epoch: 23200, acc: 0.83, loss:0.44830235838890076, lr:0.041324021653787346\n",
            "epoch: 23300, acc: 0.83, loss:0.44788065552711487, lr:0.04115395695296103\n",
            "epoch: 23400, acc: 0.83, loss:0.4474928379058838, lr:0.04098528628222468\n",
            "epoch: 23500, acc: 0.8333333333333334, loss:0.4470718801021576, lr:0.04081799257112535\n",
            "epoch: 23600, acc: 0.8333333333333334, loss:0.4466908872127533, lr:0.04065205902678971\n",
            "epoch: 23700, acc: 0.8366666666666667, loss:0.4463100731372833, lr:0.04048746912830479\n",
            "epoch: 23800, acc: 0.8366666666666667, loss:0.445926308631897, lr:0.040324206621234725\n",
            "epoch: 23900, acc: 0.8366666666666667, loss:0.44556763768196106, lr:0.04016225551226957\n",
            "epoch: 24000, acc: 0.8366666666666667, loss:0.4451870620250702, lr:0.040001600064002565\n",
            "epoch: 24100, acc: 0.8366666666666667, loss:0.44482192397117615, lr:0.039842224789832265\n",
            "epoch: 24200, acc: 0.8366666666666667, loss:0.4444732666015625, lr:0.03968411444898607\n",
            "epoch: 24300, acc: 0.8366666666666667, loss:0.4441194534301758, lr:0.03952725404166173\n",
            "epoch: 24400, acc: 0.8366666666666667, loss:0.44379526376724243, lr:0.03937162880428363\n",
            "epoch: 24500, acc: 0.8366666666666667, loss:0.4434451162815094, lr:0.03921722420487078\n",
            "epoch: 24600, acc: 0.8366666666666667, loss:0.4431068003177643, lr:0.03906402593851322\n",
            "epoch: 24700, acc: 0.8366666666666667, loss:0.4427723288536072, lr:0.0389120199229542\n",
            "epoch: 24800, acc: 0.8366666666666667, loss:0.4424488842487335, lr:0.03876119229427497\n",
            "epoch: 24900, acc: 0.8366666666666667, loss:0.4421465992927551, lr:0.03861152940267964\n"
          ],
          "name": "stdout"
        },
        {
          "output_type": "execute_result",
          "data": {
            "text/plain": [
              "Text(0, 0.5, 'Loss')"
            ]
          },
          "metadata": {
            "tags": []
          },
          "execution_count": 41
        },
        {
          "output_type": "display_data",
          "data": {
            "image/png": "[encoded data removed]",
            "text/plain": [
              "<Figure size 432x288 with 1 Axes>"
            ]
          },
          "metadata": {
            "tags": [],
            "needs_background": "light"
          }
        }
      ]
    },
    {
      "cell_type": "code",
      "metadata": {
        "id": "8gpGygrucG0J"
      },
      "source": [
        "import numpy as np\n",
        "import nnfs\n",
        "from nnfs.datasets import spiral_data\n",
        "\n",
        "nnfs.init()\n",
        "\n",
        "\n",
        "\n",
        "# Dense layer\n",
        "class Layer_Dense:\n",
        "\n",
        "    # Layer initialization\n",
        "    def __init__(self, n_inputs, n_neurons):\n",
        "        # Initialize weights and biases\n",
        "        self.weights = 0.01 * np.random.randn(n_inputs, n_neurons)\n",
        "        self.biases = np.zeros((1, n_neurons))\n",
        "\n",
        "    # Forward pass\n",
        "    def forward(self, inputs):\n",
        "        # Remember input values\n",
        "        self.inputs = inputs\n",
        "        # Calculate output values from inputs, weights and biases\n",
        "        self.output = np.dot(inputs, self.weights) + self.biases\n",
        "\n",
        "    # Backward pass\n",
        "    def backward(self, dvalues):\n",
        "        # Gradients on parameters\n",
        "        self.dweights = np.dot(self.inputs.T, dvalues)\n",
        "        self.dbiases = np.sum(dvalues, axis=0, keepdims=True)\n",
        "        # Gradient on values\n",
        "        self.dinputs = np.dot(dvalues, self.weights.T)\n",
        "\n",
        "\n",
        "# ReLU activation\n",
        "class Activation_ReLU:\n",
        "\n",
        "    # Forward pass\n",
        "    def forward(self, inputs):\n",
        "        # Remember input values\n",
        "        self.inputs = inputs\n",
        "        # Calculate output values from inputs\n",
        "        self.output = np.maximum(0, inputs)\n",
        "\n",
        "    # Backward pass\n",
        "    def backward(self, dvalues):\n",
        "        # Since we need to modify original variable,\n",
        "        # let's make a copy of values first\n",
        "        self.dinputs = dvalues.copy()\n",
        "\n",
        "        # Zero gradient where input values were negative\n",
        "        self.dinputs[self.inputs <= 0] = 0\n",
        "\n",
        "\n",
        "\n",
        "# Softmax activation\n",
        "class Activation_Softmax:\n",
        "\n",
        "    # Forward pass\n",
        "    def forward(self, inputs):\n",
        "        # Remember input values\n",
        "        self.inputs = inputs\n",
        "\n",
        "        # Get unnormalized probabilities\n",
        "        exp_values = np.exp(inputs - np.max(inputs, axis=1,\n",
        "                                            keepdims=True))\n",
        "        # Normalize them for each sample\n",
        "        probabilities = exp_values / np.sum(exp_values, axis=1,\n",
        "                                            keepdims=True)\n",
        "\n",
        "        self.output = probabilities\n",
        "\n",
        "    # Backward pass\n",
        "    def backward(self, dvalues):\n",
        "\n",
        "        # Create uninitialized array\n",
        "        self.dinputs = np.empty_like(dvalues)\n",
        "\n",
        "        # Enumerate outputs and gradients\n",
        "        for index, (single_output, single_dvalues) in \\\n",
        "                enumerate(zip(self.output, dvalues)):\n",
        "            # Flatten output array\n",
        "            single_output = single_output.reshape(-1, 1)\n",
        "            # Calculate Jacobian matrix of the output\n",
        "            jacobian_matrix = np.diagflat(single_output) - \\\n",
        "                              np.dot(single_output, single_output.T)\n",
        "            # Calculate sample-wise gradient\n",
        "            # and add it to the array of sample gradients\n",
        "            self.dinputs[index] = np.dot(jacobian_matrix,\n",
        "                                         single_dvalues)\n",
        "\n",
        "\n",
        "# SGD optimizer\n",
        "class Optimizer_SGD:\n",
        "\n",
        "    # Initialize optimizer - set settings,\n",
        "    # learning rate of 1. is default for this optimizer\n",
        "    def __init__(self, learning_rate=1., decay=0., momentum=0.):\n",
        "        self.learning_rate = learning_rate\n",
        "        self.current_learning_rate = learning_rate\n",
        "        self.decay = decay\n",
        "        self.iterations = 0\n",
        "        self.momentum = momentum\n",
        "\n",
        "    # Call once before any parameter updates\n",
        "    def pre_update_params(self):\n",
        "        if self.decay:\n",
        "            self.current_learning_rate = self.learning_rate * \\\n",
        "                (1. / (1. + self.decay * self.iterations))\n",
        "\n",
        "    # Update parameters\n",
        "    def update_params(self, layer):\n",
        "\n",
        "        # If we use momentum\n",
        "        if self.momentum:\n",
        "\n",
        "            # If layer does not contain momentum arrays, create them\n",
        "            # filled with zeros\n",
        "            if not hasattr(layer, 'weight_momentums'):\n",
        "                layer.weight_momentums = np.zeros_like(layer.weights)\n",
        "                # If there is no momentum array for weights\n",
        "                # The array doesn't exist for biases yet either.\n",
        "                layer.bias_momentums = np.zeros_like(layer.biases)\n",
        "\n",
        "            # Build weight updates with momentum - take previous\n",
        "            # updates multiplied by retain factor and update with\n",
        "            # current gradients\n",
        "            weight_updates = \\\n",
        "                self.momentum * layer.weight_momentums - \\\n",
        "                self.current_learning_rate * layer.dweights\n",
        "            layer.weight_momentums = weight_updates\n",
        "\n",
        "            # Build bias updates\n",
        "            bias_updates = \\\n",
        "                self.momentum * layer.bias_momentums - \\\n",
        "                self.current_learning_rate * layer.dbiases\n",
        "            layer.bias_momentums = bias_updates\n",
        "\n",
        "        # Vanilla SGD updates (as before momentum update)\n",
        "        else:\n",
        "            weight_updates = -self.current_learning_rate * \\\n",
        "                             layer.dweights\n",
        "            bias_updates = -self.current_learning_rate * \\\n",
        "                           layer.dbiases\n",
        "\n",
        "        # Update weights and biases using either\n",
        "        # vanilla or momentum updates\n",
        "        layer.weights += weight_updates\n",
        "        layer.biases += bias_updates\n",
        "\n",
        "\n",
        "    # Call once after any parameter updates\n",
        "    def post_update_params(self):\n",
        "        self.iterations += 1\n",
        "\n",
        "\n",
        "# Adagrad optimizer\n",
        "class Optimizer_Adagrad:\n",
        "\n",
        "    # Initialize optimizer - set settings\n",
        "    def __init__(self, learning_rate=1., decay=0., epsilon=1e-7):\n",
        "        self.learning_rate = learning_rate\n",
        "        self.current_learning_rate = learning_rate\n",
        "        self.decay = decay\n",
        "        self.iterations = 0\n",
        "        self.epsilon = epsilon\n",
        "\n",
        "    # Call once before any parameter updates\n",
        "    def pre_update_params(self):\n",
        "        if self.decay:\n",
        "            self.current_learning_rate = self.learning_rate * \\\n",
        "                (1. / (1. + self.decay * self.iterations))\n",
        "\n",
        "    # Update parameters\n",
        "    def update_params(self, layer):\n",
        "\n",
        "        # If layer does not contain cache arrays,\n",
        "        # create them filled with zeros\n",
        "        if not hasattr(layer, 'weight_cache'):\n",
        "            layer.weight_cache = np.zeros_like(layer.weights)\n",
        "            layer.bias_cache = np.zeros_like(layer.biases)\n",
        "\n",
        "        # Update cache with squared current gradients\n",
        "        layer.weight_cache += layer.dweights**2\n",
        "        layer.bias_cache += layer.dbiases**2\n",
        "\n",
        "        # Vanilla SGD parameter update + normalization\n",
        "        # with square rooted cache\n",
        "        layer.weights += -self.current_learning_rate * \\\n",
        "                         layer.dweights / \\\n",
        "                         (np.sqrt(layer.weight_cache) + self.epsilon)\n",
        "        layer.biases += -self.current_learning_rate * \\\n",
        "                        layer.dbiases / \\\n",
        "                        (np.sqrt(layer.bias_cache) + self.epsilon)\n",
        "\n",
        "    # Call once after any parameter updates\n",
        "    def post_update_params(self):\n",
        "        self.iterations += 1\n",
        "\n",
        "\n",
        "# RMSprop optimizer\n",
        "class Optimizer_RMSprop:\n",
        "\n",
        "    # Initialize optimizer - set settings\n",
        "    def __init__(self, learning_rate=0.001, decay=0., epsilon=1e-7,\n",
        "                 rho=0.9):\n",
        "        self.learning_rate = learning_rate\n",
        "        self.current_learning_rate = learning_rate\n",
        "        self.decay = decay\n",
        "        self.iterations = 0\n",
        "        self.epsilon = epsilon\n",
        "        self.rho = rho\n",
        "\n",
        "    # Call once before any parameter updates\n",
        "    def pre_update_params(self):\n",
        "        if self.decay:\n",
        "            self.current_learning_rate = self.learning_rate * \\\n",
        "                (1. / (1. + self.decay * self.iterations))\n",
        "\n",
        "    # Update parameters\n",
        "    def update_params(self, layer):\n",
        "\n",
        "        # If layer does not contain cache arrays,\n",
        "        # create them filled with zeros\n",
        "        if not hasattr(layer, 'weight_cache'):\n",
        "            layer.weight_cache = np.zeros_like(layer.weights)\n",
        "            layer.bias_cache = np.zeros_like(layer.biases)\n",
        "\n",
        "        # Update cache with squared current gradients\n",
        "        layer.weight_cache = self.rho * layer.weight_cache + \\\n",
        "            (1 - self.rho) * layer.dweights**2\n",
        "        layer.bias_cache = self.rho * layer.bias_cache + \\\n",
        "            (1 - self.rho) * layer.dbiases**2\n",
        "\n",
        "        # Vanilla SGD parameter update + normalization\n",
        "        # with square rooted cache\n",
        "        layer.weights += -self.current_learning_rate * \\\n",
        "                         layer.dweights / \\\n",
        "                         (np.sqrt(layer.weight_cache) + self.epsilon)\n",
        "        layer.biases += -self.current_learning_rate * \\\n",
        "                        layer.dbiases / \\\n",
        "                        (np.sqrt(layer.bias_cache) + self.epsilon)\n",
        "\n",
        "    # Call once after any parameter updates\n",
        "    def post_update_params(self):\n",
        "        self.iterations += 1\n",
        "\n",
        "\n",
        "\n",
        "# Adam optimizer\n",
        "class Optimizer_Adam:\n",
        "\n",
        "    # Initialize optimizer - set settings\n",
        "    def __init__(self, learning_rate=0.001, decay=0., epsilon=1e-7,\n",
        "                 beta_1=0.9, beta_2=0.999):\n",
        "        self.learning_rate = learning_rate\n",
        "        self.current_learning_rate = learning_rate\n",
        "        self.decay = decay\n",
        "        self.iterations = 0\n",
        "        self.epsilon = epsilon\n",
        "        self.beta_1 = beta_1\n",
        "        self.beta_2 = beta_2\n",
        "\n",
        "    # Call once before any parameter updates\n",
        "    def pre_update_params(self):\n",
        "        if self.decay:\n",
        "            self.current_learning_rate = self.learning_rate * \\\n",
        "                (1. / (1. + self.decay * self.iterations))\n",
        "\n",
        "    # Update parameters\n",
        "    def update_params(self, layer):\n",
        "\n",
        "        # If layer does not contain cache arrays,\n",
        "        # create them filled with zeros\n",
        "        if not hasattr(layer, 'weight_cache'):\n",
        "            layer.weight_momentums = np.zeros_like(layer.weights)\n",
        "            layer.weight_cache = np.zeros_like(layer.weights)\n",
        "            layer.bias_momentums = np.zeros_like(layer.biases)\n",
        "            layer.bias_cache = np.zeros_like(layer.biases)\n",
        "\n",
        "        # Update momentum  with current gradients\n",
        "        layer.weight_momentums = self.beta_1 * \\\n",
        "                                 layer.weight_momentums + \\\n",
        "                                 (1 - self.beta_1) * layer.dweights\n",
        "        layer.bias_momentums = self.beta_1 * \\\n",
        "                               layer.bias_momentums + \\\n",
        "                               (1 - self.beta_1) * layer.dbiases\n",
        "        # Get corrected momentum\n",
        "        # self.iteration is 0 at first pass\n",
        "        # and we need to start with 1 here\n",
        "        weight_momentums_corrected = layer.weight_momentums / \\\n",
        "            (1 - self.beta_1 ** (self.iterations + 1))\n",
        "        bias_momentums_corrected = layer.bias_momentums / \\\n",
        "            (1 - self.beta_1 ** (self.iterations + 1))\n",
        "        # Update cache with squared current gradients\n",
        "        layer.weight_cache = self.beta_2 * layer.weight_cache + \\\n",
        "            (1 - self.beta_2) * layer.dweights**2\n",
        "\n",
        "        layer.bias_cache = self.beta_2 * layer.bias_cache + \\\n",
        "            (1 - self.beta_2) * layer.dbiases**2\n",
        "        # Get corrected cache\n",
        "        weight_cache_corrected = layer.weight_cache / \\\n",
        "            (1 - self.beta_2 ** (self.iterations + 1))\n",
        "        bias_cache_corrected = layer.bias_cache / \\\n",
        "            (1 - self.beta_2 ** (self.iterations + 1))\n",
        "\n",
        "        # Vanilla SGD parameter update + normalization\n",
        "        # with square rooted cache\n",
        "        layer.weights += -self.current_learning_rate * \\\n",
        "                         weight_momentums_corrected / \\\n",
        "                         (np.sqrt(weight_cache_corrected) +\n",
        "                             self.epsilon)\n",
        "        layer.biases += -self.current_learning_rate * \\\n",
        "                         bias_momentums_corrected / \\\n",
        "                         (np.sqrt(bias_cache_corrected) +\n",
        "                             self.epsilon)\n",
        "\n",
        "    # Call once after any parameter updates\n",
        "    def post_update_params(self):\n",
        "        self.iterations += 1\n",
        "\n",
        "\n",
        "# Common loss class\n",
        "class Loss:\n",
        "\n",
        "    # Calculates the data and regularization losses\n",
        "    # given model output and ground truth values\n",
        "    def calculate(self, output, y):\n",
        "\n",
        "        # Calculate sample losses\n",
        "        sample_losses = self.forward(output, y)\n",
        "\n",
        "        # Calculate mean loss\n",
        "        data_loss = np.mean(sample_losses)\n",
        "\n",
        "        # Return loss\n",
        "        return data_loss\n",
        "\n",
        "\n",
        "# Cross-entropy loss\n",
        "class Loss_CategoricalCrossentropy(Loss):\n",
        "\n",
        "    # Forward pass\n",
        "    def forward(self, y_pred, y_true):\n",
        "\n",
        "        # Number of samples in a batch\n",
        "        samples = len(y_pred)\n",
        "        # Clip data to prevent division by 0\n",
        "        # Clip both sides to not drag mean towards any value\n",
        "        y_pred_clipped = np.clip(y_pred, 1e-7, 1 - 1e-7)\n",
        "\n",
        "        # Probabilities for target values -\n",
        "        # only if categorical labels\n",
        "        if len(y_true.shape) == 1:\n",
        "            correct_confidences = y_pred_clipped[\n",
        "                range(samples),\n",
        "                y_true\n",
        "            ]\n",
        "\n",
        "        # Mask values - only for one-hot encoded labels\n",
        "        elif len(y_true.shape) == 2:\n",
        "            correct_confidences = np.sum(\n",
        "                y_pred_clipped * y_true,\n",
        "                axis=1\n",
        "            )\n",
        "\n",
        "        # Losses\n",
        "        negative_log_likelihoods = -np.log(correct_confidences)\n",
        "        return negative_log_likelihoods\n",
        "\n",
        "    # Backward pass\n",
        "    def backward(self, dvalues, y_true):\n",
        "\n",
        "        # Number of samples\n",
        "        samples = len(dvalues)\n",
        "        # Number of labels in every sample\n",
        "        # We'll use the first sample to count them\n",
        "        labels = len(dvalues[0])\n",
        "\n",
        "        # If labels are sparse, turn them into one-hot vector\n",
        "        if len(y_true.shape) == 1:\n",
        "            y_true = np.eye(labels)[y_true]\n",
        "\n",
        "        # Calculate gradient\n",
        "        self.dinputs = -y_true / dvalues\n",
        "        # Normalize gradient\n",
        "        self.dinputs = self.dinputs / samples\n",
        "\n",
        "\n",
        "\n",
        "# Softmax classifier - combined Softmax activation\n",
        "# and cross-entropy loss for faster backward step\n",
        "class Activation_Softmax_Loss_CategoricalCrossentropy():\n",
        "\n",
        "    # Creates activation and loss function objects\n",
        "    def __init__(self):\n",
        "        self.activation = Activation_Softmax()\n",
        "        self.loss = Loss_CategoricalCrossentropy()\n",
        "\n",
        "    # Forward pass\n",
        "    def forward(self, inputs, y_true):\n",
        "        # Output layer's activation function\n",
        "        self.activation.forward(inputs)\n",
        "        # Set the output\n",
        "        self.output = self.activation.output\n",
        "        # Calculate and return loss value\n",
        "        return self.loss.calculate(self.output, y_true)\n",
        "\n",
        "    # Backward pass\n",
        "    def backward(self, dvalues, y_true):\n",
        "\n",
        "        # Number of samples\n",
        "        samples = len(dvalues)\n",
        "\n",
        "        # If labels are one-hot encoded,\n",
        "        # turn them into discrete values\n",
        "        if len(y_true.shape) == 2:\n",
        "            y_true = np.argmax(y_true, axis=1)\n",
        "\n",
        "        # Copy so we can safely modify\n",
        "        self.dinputs = dvalues.copy()\n",
        "        # Calculate gradient\n",
        "        self.dinputs[range(samples), y_true] -= 1\n",
        "        # Normalize gradient\n",
        "        self.dinputs = self.dinputs / samples\n",
        "\n",
        "\n",
        "# Create dataset\n",
        "X, y = spiral_data(samples=100, classes=3)\n",
        "\n",
        "# Create Dense layer with 2 input features and 64 output values\n",
        "dense1 = Layer_Dense(2, 64)\n",
        "\n",
        "# Create ReLU activation (to be used with Dense layer):\n",
        "activation1 = Activation_ReLU()\n",
        "\n",
        "# Create second Dense layer with 64 input features (as we take output\n",
        "# of previous layer here) and 3 output values (output values)\n",
        "dense2 = Layer_Dense(64, 3)\n",
        "# Create Softmax classifier's combined loss and activation\n",
        "loss_activation = Activation_Softmax_Loss_CategoricalCrossentropy()\n",
        "\n",
        "# Create optimizer\n",
        "optimizer = Optimizer_Adam(learning_rate=0.05, decay=5e-7)\n",
        "\n",
        "# Train in loop\n",
        "for epoch in range(10001):\n",
        "\n",
        "    # Perform a forward pass of our training data through this layer\n",
        "    dense1.forward(X)\n",
        "\n",
        "    # Perform a forward pass through activation function\n",
        "    # takes the output of first dense layer here\n",
        "    activation1.forward(dense1.output)\n",
        "\n",
        "    # Perform a forward pass through second Dense layer\n",
        "    # takes outputs of activation function of first layer as inputs\n",
        "    dense2.forward(activation1.output)\n",
        "\n",
        "    # Perform a forward pass through the activation/loss function\n",
        "    # takes the output of second dense layer here and returns loss\n",
        "    loss = loss_activation.forward(dense2.output, y)\n",
        "\n",
        "    # Calculate accuracy from output of activation2 and targets\n",
        "    # calculate values along first axis\n",
        "    predictions = np.argmax(loss_activation.output, axis=1)\n",
        "    if len(y.shape) == 2:\n",
        "        y = np.argmax(y, axis=1)\n",
        "    accuracy = np.mean(predictions==y)\n",
        "\n",
        "    if not epoch % 100:\n",
        "        print(f'epoch: {epoch}, ' +\n",
        "              f'acc: {accuracy:.3f}, ' +\n",
        "              f'loss: {loss:.3f}, ' +\n",
        "              f'lr: {optimizer.current_learning_rate}')\n",
        "\n",
        "    # Backward pass\n",
        "    loss_activation.backward(loss_activation.output, y)\n",
        "    dense2.backward(loss_activation.dinputs)\n",
        "    activation1.backward(dense2.dinputs)\n",
        "    dense1.backward(activation1.dinputs)\n",
        "\n",
        "    # Update weights and biases\n",
        "    optimizer.pre_update_params()\n",
        "    optimizer.update_params(dense1)\n",
        "    optimizer.update_params(dense2)\n",
        "    optimizer.post_update_params()\n"
      ],
      "execution_count": null,
      "outputs": []
    }
  ]
}