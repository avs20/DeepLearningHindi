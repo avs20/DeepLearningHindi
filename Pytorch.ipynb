{
  "nbformat": 4,
  "nbformat_minor": 0,
  "metadata": {
    "colab": {
      "name": "Copy of Pytorch.ipynb",
      "provenance": [],
      "authorship_tag": "ABX9TyNLPzcw4Y/W/xdvqFuhn3xC",
      "include_colab_link": true
    },
    "kernelspec": {
      "name": "python3",
      "display_name": "Python 3"
    },
    "language_info": {
      "name": "python"
    }
  },
  "cells": [
    {
      "cell_type": "markdown",
      "metadata": {
        "id": "view-in-github",
        "colab_type": "text"
      },
      "source": [
        "<a href=\"https://colab.research.google.com/github/avs20/DeepLearningHindi/blob/main/Pytorch.ipynb\" target=\"_parent\"><img src=\"https://colab.research.google.com/assets/colab-badge.svg\" alt=\"Open In Colab\"/></a>"
      ]
    },
    {
      "cell_type": "markdown",
      "metadata": {
        "id": "SZBp01z2pBEQ"
      },
      "source": [
        "```\n",
        "Import PyTorch main library.\n",
        "Create the variable your_first_tensor and set it to a random torch tensor of size 3 by 3.\n",
        "Calculate its shape (dimension sizes) and set it to variable tensor_size.\n",
        "Print the values of your_first_tensor and tensor_size.\n",
        "```\n",
        "\n"
      ]
    },
    {
      "cell_type": "code",
      "metadata": {
        "id": "aLml2-Aeo0MI"
      },
      "source": [
        "# Import torch\n",
        "____\n",
        "\n",
        "# Create random tensor of size 3 by 3\n",
        "your_first_tensor = torch.____(3, 3)\n",
        "\n",
        "# Calculate the shape of the tensor\n",
        "tensor_size = your_first_tensor.____\n",
        "\n",
        "# Print the values of the tensor and its shape\n",
        "print(____)\n",
        "print(____)"
      ],
      "execution_count": null,
      "outputs": []
    },
    {
      "cell_type": "markdown",
      "metadata": {
        "id": "LJRmRNatpIuR"
      },
      "source": [
        "```\n",
        "Create a matrix of ones with shape 3 by 3, and put it on variable tensor_of_ones.\n",
        "Create an identity matrix with shape 3 by 3, and put it on variable identity_tensor.\n",
        "Do a matrix multiplication of tensor_of_ones with identity_tensor and print its value.\n",
        "Do an element-wise multiplication of tensor_of_ones with identity_tensor and print its value.\n",
        "```\n"
      ]
    },
    {
      "cell_type": "code",
      "metadata": {
        "id": "Ny5jtNwQpMDq"
      },
      "source": [
        "# Create a matrix of ones with shape 3 by 3\n",
        "tensor_of_ones = torch.____(3, 3)\n",
        "\n",
        "# Create an identity matrix with shape 3 by 3\n",
        "identity_tensor = torch.____(3)\n",
        "\n",
        "# Do a matrix multiplication of tensor_of_ones with identity_tensor\n",
        "matrices_multiplied = torch.____(tensor_of_ones, ____)\n",
        "print(matrices_multiplied)\n",
        "\n",
        "# Do an element-wise multiplication of tensor_of_ones with identity_tensor\n",
        "element_multiplication = ____\n",
        "print(element_multiplication)"
      ],
      "execution_count": null,
      "outputs": []
    },
    {
      "cell_type": "markdown",
      "metadata": {
        "id": "LvRtn15_pOUH"
      },
      "source": [
        "### Forward Pass"
      ]
    },
    {
      "cell_type": "code",
      "metadata": {
        "id": "7KDHD_papkmj"
      },
      "source": [
        ""
      ],
      "execution_count": null,
      "outputs": []
    },
    {
      "cell_type": "markdown",
      "metadata": {
        "id": "SkauonAKpodM"
      },
      "source": [
        "```\n",
        "Initialize random tensors x, y and z, each having shape (1000, 1000).\n",
        "Multiply x with y, putting the result in tensor q.\n",
        "Do an elementwise multiplication of tensor z with tensor q, putting the results in f\n",
        "```\n"
      ]
    },
    {
      "cell_type": "code",
      "metadata": {
        "id": "_lwPBgN9pn2F"
      },
      "source": [
        "# Initialize tensors x, y and z\n",
        "x = torch.rand(____, ____)\n",
        "y = ____\n",
        "z = ____\n",
        "\n",
        "# Multiply x with y\n",
        "q = ____\n",
        "\n",
        "# Multiply elementwise z with q\n",
        "f = ____\n",
        "\n",
        "mean_f = torch.mean(f)\n",
        "print(mean_f)"
      ],
      "execution_count": null,
      "outputs": []
    },
    {
      "cell_type": "markdown",
      "metadata": {
        "id": "ZuuHBJzFpwga"
      },
      "source": [
        "### BackProp by auto diff "
      ]
    },
    {
      "cell_type": "markdown",
      "metadata": {
        "id": "PlGB-BYKqUb0"
      },
      "source": [
        "```\n",
        "Initialize tensors x, y and z to values 4, -3 and 5.\n",
        "Put the sum of tensors x and y in q, put the product of q and z in f.\n",
        "Calculate the derivatives of the computational graph.\n",
        "Print the gradients of the x, y and z tensors.\n",
        "```\n"
      ]
    },
    {
      "cell_type": "code",
      "metadata": {
        "id": "2jGU8ljPqVyM"
      },
      "source": [
        "# Initialize x, y and z to values 4, -3 and 5\n",
        "x = torch.tensor(4., ____)\n",
        "y = torch.tensor(____., ____)\n",
        "z = ____\n",
        "\n",
        "# Set q to sum of x and y, set f to product of q with z\n",
        "q = ____\n",
        "f = ____\n",
        "\n",
        "# Compute the derivatives\n",
        "f.____\n",
        "\n",
        "# Print the gradients\n",
        "print(\"Gradient of x is: \" + str(____))\n",
        "print(\"Gradient of y is: \" + str(____))\n",
        "print(\"Gradient of z is: \" + str(____))"
      ],
      "execution_count": null,
      "outputs": []
    },
    {
      "cell_type": "markdown",
      "metadata": {
        "id": "4GR5rPoAqk4V"
      },
      "source": [
        "```\n",
        "Multiply tensors x and y, put the product in tensor q.\n",
        "Do an elementwise multiplication of tensors z with q.\n",
        "Calculate the gradients.\n",
        "```"
      ]
    },
    {
      "cell_type": "code",
      "metadata": {
        "id": "JQElDX28pyS4"
      },
      "source": [
        "x = torch.randn(1000,1000)\n",
        "y = torch.randn(1000,1000)\n",
        "z = torch.randn(1000,1000)\n",
        "# Multiply tensors x and y\n",
        "q = ____\n",
        "\n",
        "# Elementwise multiply tensors z with q\n",
        "f = ____\n",
        "\n",
        "mean_f = torch.mean(f)\n",
        "\n",
        "# Calculate the gradients\n",
        "____"
      ],
      "execution_count": null,
      "outputs": []
    },
    {
      "cell_type": "markdown",
      "metadata": {
        "id": "yAt6Yu19rV1b"
      },
      "source": [
        "### Intro to Neural Networks"
      ]
    },
    {
      "cell_type": "markdown",
      "metadata": {
        "id": "tiJ6Cjsjrcck"
      },
      "source": [
        "Your input will be images of size `(28, 28)`, so images containing 784 pixels. Your network will contain an input_layer (provided for you), a hidden layer with `200 `units, and an output layer with `10` classes. The input layer has already been created for you. You are going to create the weights, and then do matrix multiplications, getting the results from the network.\n",
        "\n",
        "```\n",
        "Initialize with random numbers two matrices of weights, called weight_1 and weight_2.\n",
        "Set the result of input_layer times weight_1 to hidden_1. Set the result of hidden_1 times weight_2 to output_layer.\n",
        "```"
      ]
    },
    {
      "cell_type": "code",
      "metadata": {
        "id": "6pEOw1pTrXP5"
      },
      "source": [
        "# Initialize the weights of the neural network\n",
        "weight_1 = torch.rand(____, ____)\n",
        "weight_2 = ____\n",
        "\n",
        "# Multiply input_layer with weight_1\n",
        "hidden_1 = torch.matmul(____, ____)\n",
        "\n",
        "# Multiply hidden_1 with weight_2\n",
        "output_layer = ____\n",
        "print(output_layer)"
      ],
      "execution_count": null,
      "outputs": []
    },
    {
      "cell_type": "markdown",
      "metadata": {
        "id": "hUOo6zcQrpxq"
      },
      "source": [
        "You are going to build the same neural network you built in the previous exercise, but now using the PyTorch way. As a reminder, you have 784 units in the input layer, 200 hidden units and 10 units for the output layer.\n",
        "\n",
        "```\n",
        "Instantiate two linear layers calling them self.fc1 and self.fc2. Determine their correct dimensions.\n",
        "Implement the .forward() method, using the two layers you defined and returning x.\n",
        "```\n"
      ]
    },
    {
      "cell_type": "code",
      "metadata": {
        "id": "gY8hpH1frwMT"
      },
      "source": [
        "class Net(nn.Module):\n",
        "    def __init__(self):\n",
        "        super(Net, self).__init__()\n",
        "        \n",
        "        # Instantiate all 2 linear layers  \n",
        "        self.fc1 = nn.Linear(____, ____)\n",
        "        self.fc2 = ____\n",
        "\n",
        "    def forward(self, x):\n",
        "      \n",
        "        # Use the instantiated layers and return x\n",
        "        x = self.fc1(x)\n",
        "        x = ____\n",
        "        return ____"
      ],
      "execution_count": null,
      "outputs": []
    }
  ]
}